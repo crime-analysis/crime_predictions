{
 "cells": [
  {
   "cell_type": "code",
   "execution_count": null,
   "metadata": {
    "collapsed": true
   },
   "outputs": [],
   "source": [
    "# Lasso regression to predict \"Arrests\" boolean\n",
    "# Dataset: crimes + poverty\n",
    "# Performs sampling of data to obtains small subsets to run faster\n",
    "# Perfoms one hot encoding\n",
    "# Prunes execessive features with minimal drop in R2"
   ]
  },
  {
   "cell_type": "code",
   "execution_count": 1,
   "metadata": {
    "collapsed": false
   },
   "outputs": [],
   "source": [
    "import pandas as pd\n",
    "from dask import dataframe as dk\n",
    "import numpy as np\n",
    "#!pip install pandas --upgrade\n",
    "data_types = {\n",
    "    'ID':  np.int64,\n",
    "    'Case Number':  object,\n",
    "    'Date': object,\n",
    "    'Block': object,\n",
    "    'IUCR': object,\n",
    "    'Primary Type': object,\n",
    "    'Description':  object,\n",
    "    'Location Description': object,\n",
    "    'Arrest':  bool,\n",
    "    'Domestic': bool,\n",
    "    'Beat': np.int64,\n",
    "    'District': np.float64,\n",
    "    'Ward': np.float64,\n",
    "    'Community Area': np.float64,\n",
    "    'FBI Code': object,\n",
    "    'X Coordinate': np.float64,\n",
    "    'Y Coordinate': np.float64,\n",
    "    'Year': np.int64,\n",
    "    'Updated On': object,\n",
    "    'Latitude': np.float64,\n",
    "    'Longitude': np.float64,\n",
    "    'Location': object\n",
    "}\n",
    "df = pd.read_csv('crimes.csv', dtype=data_types)"
   ]
  },
  {
   "cell_type": "code",
   "execution_count": 2,
   "metadata": {
    "collapsed": false
   },
   "outputs": [
    {
     "data": {
      "text/html": [
       "<div>\n",
       "<table border=\"1\" class=\"dataframe\">\n",
       "  <thead>\n",
       "    <tr style=\"text-align: right;\">\n",
       "      <th></th>\n",
       "      <th>Community Area Number</th>\n",
       "      <th>PERCENT OF HOUSING CROWDED</th>\n",
       "      <th>PERCENT HOUSEHOLDS BELOW POVERTY</th>\n",
       "      <th>PERCENT AGED 16+ UNEMPLOYED</th>\n",
       "      <th>PERCENT AGED 25+ WITHOUT HIGH SCHOOL DIPLOMA</th>\n",
       "      <th>PERCENT AGED UNDER 18 OR OVER 64</th>\n",
       "      <th>PER CAPITA INCOME</th>\n",
       "      <th>HARDSHIP INDEX</th>\n",
       "    </tr>\n",
       "  </thead>\n",
       "  <tbody>\n",
       "    <tr>\n",
       "      <th>0</th>\n",
       "      <td>1.0</td>\n",
       "      <td>7.7</td>\n",
       "      <td>23.6</td>\n",
       "      <td>8.7</td>\n",
       "      <td>18.2</td>\n",
       "      <td>27.5</td>\n",
       "      <td>23939</td>\n",
       "      <td>39.0</td>\n",
       "    </tr>\n",
       "    <tr>\n",
       "      <th>1</th>\n",
       "      <td>2.0</td>\n",
       "      <td>7.8</td>\n",
       "      <td>17.2</td>\n",
       "      <td>8.8</td>\n",
       "      <td>20.8</td>\n",
       "      <td>38.5</td>\n",
       "      <td>23040</td>\n",
       "      <td>46.0</td>\n",
       "    </tr>\n",
       "    <tr>\n",
       "      <th>2</th>\n",
       "      <td>3.0</td>\n",
       "      <td>3.8</td>\n",
       "      <td>24.0</td>\n",
       "      <td>8.9</td>\n",
       "      <td>11.8</td>\n",
       "      <td>22.2</td>\n",
       "      <td>35787</td>\n",
       "      <td>20.0</td>\n",
       "    </tr>\n",
       "    <tr>\n",
       "      <th>3</th>\n",
       "      <td>4.0</td>\n",
       "      <td>3.4</td>\n",
       "      <td>10.9</td>\n",
       "      <td>8.2</td>\n",
       "      <td>13.4</td>\n",
       "      <td>25.5</td>\n",
       "      <td>37524</td>\n",
       "      <td>17.0</td>\n",
       "    </tr>\n",
       "    <tr>\n",
       "      <th>4</th>\n",
       "      <td>5.0</td>\n",
       "      <td>0.3</td>\n",
       "      <td>7.5</td>\n",
       "      <td>5.2</td>\n",
       "      <td>4.5</td>\n",
       "      <td>26.2</td>\n",
       "      <td>57123</td>\n",
       "      <td>6.0</td>\n",
       "    </tr>\n",
       "  </tbody>\n",
       "</table>\n",
       "</div>"
      ],
      "text/plain": [
       "   Community Area Number  PERCENT OF HOUSING CROWDED  \\\n",
       "0                    1.0                         7.7   \n",
       "1                    2.0                         7.8   \n",
       "2                    3.0                         3.8   \n",
       "3                    4.0                         3.4   \n",
       "4                    5.0                         0.3   \n",
       "\n",
       "   PERCENT HOUSEHOLDS BELOW POVERTY  PERCENT AGED 16+ UNEMPLOYED  \\\n",
       "0                              23.6                          8.7   \n",
       "1                              17.2                          8.8   \n",
       "2                              24.0                          8.9   \n",
       "3                              10.9                          8.2   \n",
       "4                               7.5                          5.2   \n",
       "\n",
       "   PERCENT AGED 25+ WITHOUT HIGH SCHOOL DIPLOMA  \\\n",
       "0                                          18.2   \n",
       "1                                          20.8   \n",
       "2                                          11.8   \n",
       "3                                          13.4   \n",
       "4                                           4.5   \n",
       "\n",
       "   PERCENT AGED UNDER 18 OR OVER 64  PER CAPITA INCOME   HARDSHIP INDEX  \n",
       "0                              27.5               23939            39.0  \n",
       "1                              38.5               23040            46.0  \n",
       "2                              22.2               35787            20.0  \n",
       "3                              25.5               37524            17.0  \n",
       "4                              26.2               57123             6.0  "
      ]
     },
     "execution_count": 2,
     "metadata": {},
     "output_type": "execute_result"
    }
   ],
   "source": [
    "poverty = pd.read_csv('poverty.csv')\n",
    "poverty = poverty.drop('COMMUNITY AREA NAME', 1)\n",
    "poverty.head()"
   ]
  },
  {
   "cell_type": "code",
   "execution_count": 122,
   "metadata": {
    "collapsed": false
   },
   "outputs": [],
   "source": [
    "#  Remove unwanted columns from the data\n",
    "# Add 'Date' back in when RJ fixes the datetime converter\n",
    "useful_columns = ['IUCR', 'Arrest', 'Community Area', 'Year']\n",
    "data_full = df[useful_columns]"
   ]
  },
  {
   "cell_type": "code",
   "execution_count": 123,
   "metadata": {
    "collapsed": false
   },
   "outputs": [],
   "source": [
    "# Merge with the poverty dataframe\n",
    "data_full = data_full.rename(columns={'Community Area': 'Community Area Number'})\n",
    "data_full = pd.merge(data_full, poverty, how='right', on='Community Area Number')"
   ]
  },
  {
   "cell_type": "code",
   "execution_count": 124,
   "metadata": {
    "collapsed": false
   },
   "outputs": [
    {
     "data": {
      "text/html": [
       "<div>\n",
       "<table border=\"1\" class=\"dataframe\">\n",
       "  <thead>\n",
       "    <tr style=\"text-align: right;\">\n",
       "      <th></th>\n",
       "      <th>IUCR</th>\n",
       "      <th>Arrest</th>\n",
       "      <th>Community Area Number</th>\n",
       "      <th>Year</th>\n",
       "      <th>PERCENT OF HOUSING CROWDED</th>\n",
       "      <th>PERCENT HOUSEHOLDS BELOW POVERTY</th>\n",
       "      <th>PERCENT AGED 16+ UNEMPLOYED</th>\n",
       "      <th>PERCENT AGED 25+ WITHOUT HIGH SCHOOL DIPLOMA</th>\n",
       "      <th>PERCENT AGED UNDER 18 OR OVER 64</th>\n",
       "      <th>PER CAPITA INCOME</th>\n",
       "      <th>HARDSHIP INDEX</th>\n",
       "    </tr>\n",
       "  </thead>\n",
       "  <tbody>\n",
       "    <tr>\n",
       "      <th>1215354</th>\n",
       "      <td>1350</td>\n",
       "      <td>False</td>\n",
       "      <td>28.0</td>\n",
       "      <td>2008</td>\n",
       "      <td>3.8</td>\n",
       "      <td>20.6</td>\n",
       "      <td>10.7</td>\n",
       "      <td>9.6</td>\n",
       "      <td>22.2</td>\n",
       "      <td>44689</td>\n",
       "      <td>15.0</td>\n",
       "    </tr>\n",
       "    <tr>\n",
       "      <th>152956</th>\n",
       "      <td>1320</td>\n",
       "      <td>False</td>\n",
       "      <td>31.0</td>\n",
       "      <td>2012</td>\n",
       "      <td>9.6</td>\n",
       "      <td>25.8</td>\n",
       "      <td>15.8</td>\n",
       "      <td>40.7</td>\n",
       "      <td>32.6</td>\n",
       "      <td>16444</td>\n",
       "      <td>76.0</td>\n",
       "    </tr>\n",
       "    <tr>\n",
       "      <th>5273720</th>\n",
       "      <td>0840</td>\n",
       "      <td>False</td>\n",
       "      <td>70.0</td>\n",
       "      <td>2004</td>\n",
       "      <td>4.0</td>\n",
       "      <td>10.4</td>\n",
       "      <td>11.7</td>\n",
       "      <td>17.7</td>\n",
       "      <td>36.9</td>\n",
       "      <td>23482</td>\n",
       "      <td>37.0</td>\n",
       "    </tr>\n",
       "    <tr>\n",
       "      <th>4250444</th>\n",
       "      <td>1320</td>\n",
       "      <td>False</td>\n",
       "      <td>16.0</td>\n",
       "      <td>2012</td>\n",
       "      <td>6.3</td>\n",
       "      <td>13.1</td>\n",
       "      <td>10.0</td>\n",
       "      <td>22.4</td>\n",
       "      <td>31.6</td>\n",
       "      <td>27249</td>\n",
       "      <td>34.0</td>\n",
       "    </tr>\n",
       "    <tr>\n",
       "      <th>530878</th>\n",
       "      <td>5002</td>\n",
       "      <td>False</td>\n",
       "      <td>69.0</td>\n",
       "      <td>2015</td>\n",
       "      <td>3.6</td>\n",
       "      <td>29.6</td>\n",
       "      <td>23.0</td>\n",
       "      <td>16.5</td>\n",
       "      <td>41.0</td>\n",
       "      <td>17285</td>\n",
       "      <td>66.0</td>\n",
       "    </tr>\n",
       "  </tbody>\n",
       "</table>\n",
       "</div>"
      ],
      "text/plain": [
       "         IUCR Arrest  Community Area Number  Year  PERCENT OF HOUSING CROWDED  \\\n",
       "1215354  1350  False                   28.0  2008                         3.8   \n",
       "152956   1320  False                   31.0  2012                         9.6   \n",
       "5273720  0840  False                   70.0  2004                         4.0   \n",
       "4250444  1320  False                   16.0  2012                         6.3   \n",
       "530878   5002  False                   69.0  2015                         3.6   \n",
       "\n",
       "         PERCENT HOUSEHOLDS BELOW POVERTY  PERCENT AGED 16+ UNEMPLOYED  \\\n",
       "1215354                              20.6                         10.7   \n",
       "152956                               25.8                         15.8   \n",
       "5273720                              10.4                         11.7   \n",
       "4250444                              13.1                         10.0   \n",
       "530878                               29.6                         23.0   \n",
       "\n",
       "         PERCENT AGED 25+ WITHOUT HIGH SCHOOL DIPLOMA  \\\n",
       "1215354                                           9.6   \n",
       "152956                                           40.7   \n",
       "5273720                                          17.7   \n",
       "4250444                                          22.4   \n",
       "530878                                           16.5   \n",
       "\n",
       "         PERCENT AGED UNDER 18 OR OVER 64  PER CAPITA INCOME   HARDSHIP INDEX  \n",
       "1215354                              22.2               44689            15.0  \n",
       "152956                               32.6               16444            76.0  \n",
       "5273720                              36.9               23482            37.0  \n",
       "4250444                              31.6               27249            34.0  \n",
       "530878                               41.0               17285            66.0  "
      ]
     },
     "execution_count": 124,
     "metadata": {},
     "output_type": "execute_result"
    }
   ],
   "source": [
    "# Also resample to a smaller size for now\n",
    "num_records = 100000\n",
    "data = data_full.sample(num_records, replace=True)\n",
    "data = data.dropna()\n",
    "data.tail()"
   ]
  },
  {
   "cell_type": "code",
   "execution_count": 125,
   "metadata": {
    "collapsed": false
   },
   "outputs": [],
   "source": [
    "# Get a smaller subset of the crimes.\n",
    "# Domestic Battery Simple 0486\n",
    "battery = data[data['IUCR'] == '0486']"
   ]
  },
  {
   "cell_type": "code",
   "execution_count": 126,
   "metadata": {
    "collapsed": false
   },
   "outputs": [
    {
     "data": {
      "text/html": [
       "<div>\n",
       "<table border=\"1\" class=\"dataframe\">\n",
       "  <thead>\n",
       "    <tr style=\"text-align: right;\">\n",
       "      <th></th>\n",
       "      <th>IUCR</th>\n",
       "      <th>Arrest</th>\n",
       "      <th>PERCENT OF HOUSING CROWDED</th>\n",
       "      <th>PERCENT HOUSEHOLDS BELOW POVERTY</th>\n",
       "      <th>PERCENT AGED 16+ UNEMPLOYED</th>\n",
       "      <th>PERCENT AGED 25+ WITHOUT HIGH SCHOOL DIPLOMA</th>\n",
       "      <th>PERCENT AGED UNDER 18 OR OVER 64</th>\n",
       "      <th>PER CAPITA INCOME</th>\n",
       "      <th>HARDSHIP INDEX</th>\n",
       "      <th>Year_2002</th>\n",
       "      <th>...</th>\n",
       "      <th>Community Area Number_68.0</th>\n",
       "      <th>Community Area Number_69.0</th>\n",
       "      <th>Community Area Number_70.0</th>\n",
       "      <th>Community Area Number_71.0</th>\n",
       "      <th>Community Area Number_72.0</th>\n",
       "      <th>Community Area Number_73.0</th>\n",
       "      <th>Community Area Number_74.0</th>\n",
       "      <th>Community Area Number_75.0</th>\n",
       "      <th>Community Area Number_76.0</th>\n",
       "      <th>Community Area Number_77.0</th>\n",
       "    </tr>\n",
       "  </thead>\n",
       "  <tbody>\n",
       "    <tr>\n",
       "      <th>2565318</th>\n",
       "      <td>0486</td>\n",
       "      <td>True</td>\n",
       "      <td>7.4</td>\n",
       "      <td>43.1</td>\n",
       "      <td>21.2</td>\n",
       "      <td>27.6</td>\n",
       "      <td>42.7</td>\n",
       "      <td>12034</td>\n",
       "      <td>87.0</td>\n",
       "      <td>0.0</td>\n",
       "      <td>...</td>\n",
       "      <td>NaN</td>\n",
       "      <td>NaN</td>\n",
       "      <td>NaN</td>\n",
       "      <td>NaN</td>\n",
       "      <td>NaN</td>\n",
       "      <td>NaN</td>\n",
       "      <td>NaN</td>\n",
       "      <td>NaN</td>\n",
       "      <td>NaN</td>\n",
       "      <td>NaN</td>\n",
       "    </tr>\n",
       "    <tr>\n",
       "      <th>373852</th>\n",
       "      <td>0486</td>\n",
       "      <td>False</td>\n",
       "      <td>1.9</td>\n",
       "      <td>12.9</td>\n",
       "      <td>7.0</td>\n",
       "      <td>2.5</td>\n",
       "      <td>22.6</td>\n",
       "      <td>88669</td>\n",
       "      <td>1.0</td>\n",
       "      <td>0.0</td>\n",
       "      <td>...</td>\n",
       "      <td>NaN</td>\n",
       "      <td>NaN</td>\n",
       "      <td>NaN</td>\n",
       "      <td>NaN</td>\n",
       "      <td>NaN</td>\n",
       "      <td>NaN</td>\n",
       "      <td>NaN</td>\n",
       "      <td>NaN</td>\n",
       "      <td>NaN</td>\n",
       "      <td>NaN</td>\n",
       "    </tr>\n",
       "    <tr>\n",
       "      <th>3848151</th>\n",
       "      <td>0486</td>\n",
       "      <td>False</td>\n",
       "      <td>8.2</td>\n",
       "      <td>42.4</td>\n",
       "      <td>19.6</td>\n",
       "      <td>21.3</td>\n",
       "      <td>43.2</td>\n",
       "      <td>12961</td>\n",
       "      <td>83.0</td>\n",
       "      <td>1.0</td>\n",
       "      <td>...</td>\n",
       "      <td>NaN</td>\n",
       "      <td>NaN</td>\n",
       "      <td>NaN</td>\n",
       "      <td>NaN</td>\n",
       "      <td>NaN</td>\n",
       "      <td>NaN</td>\n",
       "      <td>NaN</td>\n",
       "      <td>NaN</td>\n",
       "      <td>NaN</td>\n",
       "      <td>NaN</td>\n",
       "    </tr>\n",
       "    <tr>\n",
       "      <th>1415720</th>\n",
       "      <td>0486</td>\n",
       "      <td>True</td>\n",
       "      <td>3.3</td>\n",
       "      <td>27.8</td>\n",
       "      <td>24.0</td>\n",
       "      <td>14.5</td>\n",
       "      <td>40.3</td>\n",
       "      <td>18881</td>\n",
       "      <td>60.0</td>\n",
       "      <td>0.0</td>\n",
       "      <td>...</td>\n",
       "      <td>NaN</td>\n",
       "      <td>NaN</td>\n",
       "      <td>NaN</td>\n",
       "      <td>NaN</td>\n",
       "      <td>NaN</td>\n",
       "      <td>NaN</td>\n",
       "      <td>NaN</td>\n",
       "      <td>NaN</td>\n",
       "      <td>NaN</td>\n",
       "      <td>NaN</td>\n",
       "    </tr>\n",
       "    <tr>\n",
       "      <th>4702629</th>\n",
       "      <td>0486</td>\n",
       "      <td>True</td>\n",
       "      <td>9.4</td>\n",
       "      <td>41.7</td>\n",
       "      <td>25.8</td>\n",
       "      <td>24.5</td>\n",
       "      <td>43.6</td>\n",
       "      <td>10934</td>\n",
       "      <td>92.0</td>\n",
       "      <td>0.0</td>\n",
       "      <td>...</td>\n",
       "      <td>NaN</td>\n",
       "      <td>NaN</td>\n",
       "      <td>NaN</td>\n",
       "      <td>NaN</td>\n",
       "      <td>NaN</td>\n",
       "      <td>NaN</td>\n",
       "      <td>NaN</td>\n",
       "      <td>NaN</td>\n",
       "      <td>NaN</td>\n",
       "      <td>NaN</td>\n",
       "    </tr>\n",
       "  </tbody>\n",
       "</table>\n",
       "<p>5 rows × 100 columns</p>\n",
       "</div>"
      ],
      "text/plain": [
       "         IUCR Arrest  PERCENT OF HOUSING CROWDED  \\\n",
       "2565318  0486   True                         7.4   \n",
       "373852   0486  False                         1.9   \n",
       "3848151  0486  False                         8.2   \n",
       "1415720  0486   True                         3.3   \n",
       "4702629  0486   True                         9.4   \n",
       "\n",
       "         PERCENT HOUSEHOLDS BELOW POVERTY  PERCENT AGED 16+ UNEMPLOYED  \\\n",
       "2565318                              43.1                         21.2   \n",
       "373852                               12.9                          7.0   \n",
       "3848151                              42.4                         19.6   \n",
       "1415720                              27.8                         24.0   \n",
       "4702629                              41.7                         25.8   \n",
       "\n",
       "         PERCENT AGED 25+ WITHOUT HIGH SCHOOL DIPLOMA  \\\n",
       "2565318                                          27.6   \n",
       "373852                                            2.5   \n",
       "3848151                                          21.3   \n",
       "1415720                                          14.5   \n",
       "4702629                                          24.5   \n",
       "\n",
       "         PERCENT AGED UNDER 18 OR OVER 64  PER CAPITA INCOME   HARDSHIP INDEX  \\\n",
       "2565318                              42.7               12034            87.0   \n",
       "373852                               22.6               88669             1.0   \n",
       "3848151                              43.2               12961            83.0   \n",
       "1415720                              40.3               18881            60.0   \n",
       "4702629                              43.6               10934            92.0   \n",
       "\n",
       "         Year_2002             ...              Community Area Number_68.0  \\\n",
       "2565318        0.0             ...                                     NaN   \n",
       "373852         0.0             ...                                     NaN   \n",
       "3848151        1.0             ...                                     NaN   \n",
       "1415720        0.0             ...                                     NaN   \n",
       "4702629        0.0             ...                                     NaN   \n",
       "\n",
       "         Community Area Number_69.0  Community Area Number_70.0  \\\n",
       "2565318                         NaN                         NaN   \n",
       "373852                          NaN                         NaN   \n",
       "3848151                         NaN                         NaN   \n",
       "1415720                         NaN                         NaN   \n",
       "4702629                         NaN                         NaN   \n",
       "\n",
       "         Community Area Number_71.0  Community Area Number_72.0  \\\n",
       "2565318                         NaN                         NaN   \n",
       "373852                          NaN                         NaN   \n",
       "3848151                         NaN                         NaN   \n",
       "1415720                         NaN                         NaN   \n",
       "4702629                         NaN                         NaN   \n",
       "\n",
       "         Community Area Number_73.0  Community Area Number_74.0  \\\n",
       "2565318                         NaN                         NaN   \n",
       "373852                          NaN                         NaN   \n",
       "3848151                         NaN                         NaN   \n",
       "1415720                         NaN                         NaN   \n",
       "4702629                         NaN                         NaN   \n",
       "\n",
       "         Community Area Number_75.0  Community Area Number_76.0  \\\n",
       "2565318                         NaN                         NaN   \n",
       "373852                          NaN                         NaN   \n",
       "3848151                         NaN                         NaN   \n",
       "1415720                         NaN                         NaN   \n",
       "4702629                         NaN                         NaN   \n",
       "\n",
       "         Community Area Number_77.0  \n",
       "2565318                         NaN  \n",
       "373852                          NaN  \n",
       "3848151                         NaN  \n",
       "1415720                         NaN  \n",
       "4702629                         NaN  \n",
       "\n",
       "[5 rows x 100 columns]"
      ]
     },
     "execution_count": 126,
     "metadata": {},
     "output_type": "execute_result"
    }
   ],
   "source": [
    "d_subset = battery\n",
    "dummy_vars = ['Year', 'Community Area Number']\n",
    "# Takes about 2 minutes to run on all records, takes much less time to run on subset of 1 or 2 million\n",
    "battery = pd.get_dummies(d_subset, columns=dummy_vars, drop_first=True, sparse=True)\n",
    "battery.head()"
   ]
  },
  {
   "cell_type": "code",
   "execution_count": 127,
   "metadata": {
    "collapsed": false
   },
   "outputs": [],
   "source": [
    "from sklearn.cross_validation import train_test_split\n",
    "\n",
    "dep_var = ['Arrest']\n",
    "indep_var = battery.columns.values\n",
    "indep_var = [x for x in indep_var if x not in dep_var]\n",
    "X = battery[indep_var]\n",
    "y = battery[dep_var]\n",
    "# Split into test and training data\n",
    "X_train, X_test, y_train, y_test = train_test_split(X, y, test_size=0.33, random_state=42)"
   ]
  },
  {
   "cell_type": "code",
   "execution_count": 128,
   "metadata": {
    "collapsed": false
   },
   "outputs": [
    {
     "data": {
      "text/plain": [
       "(4931, 99)"
      ]
     },
     "execution_count": 128,
     "metadata": {},
     "output_type": "execute_result"
    }
   ],
   "source": [
    "X_train.shape"
   ]
  },
  {
   "cell_type": "code",
   "execution_count": 129,
   "metadata": {
    "collapsed": false
   },
   "outputs": [
    {
     "name": "stderr",
     "output_type": "stream",
     "text": [
      "/usr/local/lib/python2.7/site-packages/sklearn/utils/validation.py:515: DataConversionWarning: A column-vector y was passed when a 1d array was expected. Please change the shape of y to (n_samples, ), for example using ravel().\n",
      "  y = column_or_1d(y, warn=True)\n"
     ]
    },
    {
     "data": {
      "text/plain": [
       "LogisticRegression(C=0.001, class_weight='balanced', dual=False,\n",
       "          fit_intercept=True, intercept_scaling=1, max_iter=100,\n",
       "          multi_class='ovr', n_jobs=1, penalty='l2', random_state=None,\n",
       "          solver='liblinear', tol=0.0001, verbose=0, warm_start=False)"
      ]
     },
     "execution_count": 129,
     "metadata": {},
     "output_type": "execute_result"
    }
   ],
   "source": [
    "from sklearn.grid_search import GridSearchCV\n",
    "from sklearn.linear_model import LogisticRegression\n",
    "from sklearn import linear_model\n",
    "# C = 0.001 found through cross validation\n",
    "logr = LogisticRegression(C=0.001, class_weight='balanced', dual=False, fit_intercept=True,\n",
    "          intercept_scaling=1, max_iter=100, multi_class='ovr', n_jobs=1,\n",
    "          penalty='l2', random_state=None, solver='liblinear', tol=0.0001,\n",
    "          verbose=0, warm_start=False)\n",
    "logr.fit(X_train, y_train)"
   ]
  },
  {
   "cell_type": "code",
   "execution_count": 130,
   "metadata": {
    "collapsed": false
   },
   "outputs": [
    {
     "data": {
      "text/plain": [
       "0.58312757201646093"
      ]
     },
     "execution_count": 130,
     "metadata": {},
     "output_type": "execute_result"
    }
   ],
   "source": [
    "logr.score(X_test, y_test)"
   ]
  },
  {
   "cell_type": "code",
   "execution_count": 131,
   "metadata": {
    "collapsed": true
   },
   "outputs": [],
   "source": [
    "%matplotlib inline\n",
    "import matplotlib.pyplot as plt\n",
    "from sklearn.metrics import roc_curve, auc\n",
    "def plot_confusion_matrix(cm, title='Confusion matrix', cmap=plt.cm.Blues):\n",
    "    print(cm)\n",
    "    plt.imshow(cm, interpolation='nearest', cmap=cmap)\n",
    "    plt.title(title)\n",
    "    plt.colorbar()\n",
    "    tick_marks = np.arange(2)\n",
    "    plt.xticks(tick_marks, ['No Arrest', 'Arrest'], rotation=45)\n",
    "    plt.yticks(tick_marks, ['No Arrest', 'Arrest'])\n",
    "    plt.tight_layout()\n",
    "    plt.ylabel('True label')\n",
    "    plt.xlabel('Predicted label')\n",
    "def plot_roc(model):\n",
    "    model.fit(X_train, y_train)\n",
    "    predictions = model.predict_proba(X_test)\n",
    "    predictions = [x[1] for x in predictions]\n",
    "    false_positive_rate, true_positive_rate, thresholds = roc_curve(y_test, predictions)\n",
    "    roc_auc = auc(false_positive_rate, true_positive_rate)\n",
    "    plt.title('Receiver Operating Characteristic')\n",
    "    plt.plot(false_positive_rate, true_positive_rate, 'b',\n",
    "    label='AUC = %0.2f'% roc_auc)\n",
    "    plt.legend(loc='lower right')\n",
    "    plt.plot([0,1],[0,1],'r--')\n",
    "    plt.xlim([-0.1,1.2])\n",
    "    plt.ylim([-0.1,1.2])\n",
    "    plt.ylabel('True Positive Rate')\n",
    "    plt.xlabel('False Positive Rate')"
   ]
  },
  {
   "cell_type": "code",
   "execution_count": 132,
   "metadata": {
    "collapsed": false
   },
   "outputs": [
    {
     "name": "stderr",
     "output_type": "stream",
     "text": [
      "/usr/local/lib/python2.7/site-packages/sklearn/utils/validation.py:515: DataConversionWarning: A column-vector y was passed when a 1d array was expected. Please change the shape of y to (n_samples, ), for example using ravel().\n",
      "  y = column_or_1d(y, warn=True)\n",
      "/usr/local/lib/python2.7/site-packages/sklearn/utils/validation.py:515: DataConversionWarning: A column-vector y was passed when a 1d array was expected. Please change the shape of y to (n_samples, ), for example using ravel().\n",
      "  y = column_or_1d(y, warn=True)\n"
     ]
    },
    {
     "data": {
      "image/png": "[encoded data removed]",
      "text/plain": [
       "<matplotlib.figure.Figure at 0x10ded9350>"
      ]
     },
     "metadata": {},
     "output_type": "display_data"
    }
   ],
   "source": [
    "# ROC curve\n",
    "logr.fit(X_train, y_train)\n",
    "prediction = logr.predict(X_test)\n",
    "plot_roc(logr)"
   ]
  },
  {
   "cell_type": "code",
   "execution_count": 133,
   "metadata": {
    "collapsed": false
   },
   "outputs": [
    {
     "name": "stdout",
     "output_type": "stream",
     "text": [
      "[[1093  742]\n",
      " [ 271  324]]\n"
     ]
    },
    {
     "data": {
      "image/png": "[encoded data removed]",
      "text/plain": [
       "<matplotlib.figure.Figure at 0x10dec7e50>"
      ]
     },
     "metadata": {},
     "output_type": "display_data"
    }
   ],
   "source": [
    "# confusion matrix\n",
    "from sklearn.metrics import confusion_matrix\n",
    "cm = confusion_matrix(y_test, prediction)\n",
    "plot_confusion_matrix(cm, cmap=plt.cm.Purples)"
   ]
  },
  {
   "cell_type": "code",
   "execution_count": 134,
   "metadata": {
    "collapsed": true
   },
   "outputs": [],
   "source": [
    "from sklearn.ensemble import RandomForestClassifier\n",
    "from sklearn.grid_search import GridSearchCV\n",
    "\n",
    "rf = RandomForestClassifier(n_estimators=100, class_weight='balanced')"
   ]
  },
  {
   "cell_type": "code",
   "execution_count": 135,
   "metadata": {
    "collapsed": false
   },
   "outputs": [
    {
     "name": "stderr",
     "output_type": "stream",
     "text": [
      "/usr/local/lib/python2.7/site-packages/ipykernel/__main__.py:1: DataConversionWarning: A column-vector y was passed when a 1d array was expected. Please change the shape of y to (n_samples,), for example using ravel().\n",
      "  if __name__ == '__main__':\n"
     ]
    },
    {
     "data": {
      "text/plain": [
       "RandomForestClassifier(bootstrap=True, class_weight='balanced',\n",
       "            criterion='gini', max_depth=None, max_features='auto',\n",
       "            max_leaf_nodes=None, min_samples_leaf=1, min_samples_split=2,\n",
       "            min_weight_fraction_leaf=0.0, n_estimators=100, n_jobs=1,\n",
       "            oob_score=False, random_state=None, verbose=0,\n",
       "            warm_start=False)"
      ]
     },
     "execution_count": 135,
     "metadata": {},
     "output_type": "execute_result"
    }
   ],
   "source": [
    "rf.fit(X_train, y_train)"
   ]
  },
  {
   "cell_type": "code",
   "execution_count": 136,
   "metadata": {
    "collapsed": false
   },
   "outputs": [
    {
     "data": {
      "text/plain": [
       "0.59012345679012346"
      ]
     },
     "execution_count": 136,
     "metadata": {},
     "output_type": "execute_result"
    }
   ],
   "source": [
    "rf.score(X_test, y_test)"
   ]
  },
  {
   "cell_type": "code",
   "execution_count": 137,
   "metadata": {
    "collapsed": false
   },
   "outputs": [
    {
     "data": {
      "text/plain": [
       "[('Year_2005', 0.050488913010915876),\n",
       " ('Year_2003', 0.048725871173779398),\n",
       " ('Year_2008', 0.048283847559865506),\n",
       " ('Year_2010', 0.04733060511952767),\n",
       " ('Year_2009', 0.045489910603829432),\n",
       " ('Year_2012', 0.043981907489800423),\n",
       " ('PERCENT AGED UNDER 18 OR OVER 64', 0.043567709333557421),\n",
       " ('Year_2015', 0.043009961520743482),\n",
       " ('Year_2004', 0.041613702783679353),\n",
       " ('Year_2006', 0.040738170591411833),\n",
       " ('PERCENT AGED 16+ UNEMPLOYED', 0.039846701035558874),\n",
       " ('Year_2007', 0.038449065319704129),\n",
       " ('Year_2002', 0.038087384685855707),\n",
       " ('Year_2011', 0.037978870638629356),\n",
       " ('PERCENT HOUSEHOLDS BELOW POVERTY', 0.03744954840088615),\n",
       " ('Year_2013', 0.037356275713785726),\n",
       " ('PERCENT OF HOUSING CROWDED', 0.037015417212374363),\n",
       " ('Year_2014', 0.036751400684228948),\n",
       " ('HARDSHIP INDEX', 0.036631647041590297),\n",
       " ('PER CAPITA INCOME ', 0.036613776055767822),\n",
       " ('PERCENT AGED 25+ WITHOUT HIGH SCHOOL DIPLOMA', 0.036087588103967845),\n",
       " ('Year_2016', 0.025148445278135832),\n",
       " ('Community Area Number_67.0', 0.0038091847973881249),\n",
       " ('Community Area Number_69.0', 0.0032840943841003657),\n",
       " ('Community Area Number_15.0', 0.0031304926355092207),\n",
       " ('Community Area Number_65.0', 0.0026683421877018872),\n",
       " ('Community Area Number_44.0', 0.0026019687057608903),\n",
       " ('Community Area Number_14.0', 0.0025469354268230883),\n",
       " ('Community Area Number_53.0', 0.0022565554655027205),\n",
       " ('Community Area Number_3.0', 0.0022392467068751976),\n",
       " ('Community Area Number_38.0', 0.0022340408503668677),\n",
       " ('Community Area Number_27.0', 0.002100960871386216),\n",
       " ('Community Area Number_28.0', 0.0020242401642303932),\n",
       " ('Community Area Number_71.0', 0.0020067806528761955),\n",
       " ('Community Area Number_25.0', 0.0020049371981058633),\n",
       " ('Community Area Number_75.0', 0.0019543566969854338),\n",
       " ('Community Area Number_29.0', 0.0019192597187557615),\n",
       " ('Community Area Number_31.0', 0.0019107198123072483),\n",
       " ('Community Area Number_66.0', 0.0018729592195331863),\n",
       " ('Community Area Number_4.0', 0.0018473922266779238),\n",
       " ('Community Area Number_19.0', 0.0018051355269119984),\n",
       " ('Community Area Number_49.0', 0.001788148758846569),\n",
       " ('Community Area Number_2.0', 0.0017865398283621022),\n",
       " ('Community Area Number_46.0', 0.0017367839483905254),\n",
       " ('Community Area Number_43.0', 0.0017097325225655805),\n",
       " ('Community Area Number_45.0', 0.0017041892218053619),\n",
       " ('Community Area Number_51.0', 0.0016896357522416209),\n",
       " ('Community Area Number_42.0', 0.0016411744661130707),\n",
       " ('Community Area Number_23.0', 0.0016237654875078163),\n",
       " ('Community Area Number_40.0', 0.0015960083053443794),\n",
       " ('Community Area Number_77.0', 0.001533686957234188),\n",
       " ('Community Area Number_35.0', 0.001532171856428916),\n",
       " ('Community Area Number_18.0', 0.0015268085748989641),\n",
       " ('Community Area Number_70.0', 0.0014873897189972888),\n",
       " ('Community Area Number_47.0', 0.0014867246195694886),\n",
       " ('Community Area Number_61.0', 0.001476951542451205),\n",
       " ('Community Area Number_22.0', 0.0013901097582494852),\n",
       " ('Community Area Number_59.0', 0.001377245729169611),\n",
       " ('Community Area Number_16.0', 0.0013363910718681221),\n",
       " ('Community Area Number_52.0', 0.0013185824129114171),\n",
       " ('Community Area Number_26.0', 0.0013087359989809632),\n",
       " ('Community Area Number_68.0', 0.0013058081677501873),\n",
       " ('Community Area Number_24.0', 0.0013050720121104483),\n",
       " ('Community Area Number_8.0', 0.0012799305736809507),\n",
       " ('Community Area Number_63.0', 0.0012649442334205223),\n",
       " ('Community Area Number_62.0', 0.0012586850388905473),\n",
       " ('Community Area Number_60.0', 0.0012244620777812167),\n",
       " ('Community Area Number_58.0', 0.0012223085984050884),\n",
       " ('Community Area Number_55.0', 0.0012117592188958812),\n",
       " ('Community Area Number_30.0', 0.001149412642782227),\n",
       " ('Community Area Number_21.0', 0.0011188930736752774),\n",
       " ('Community Area Number_73.0', 0.0011066552566036572),\n",
       " ('Community Area Number_20.0', 0.0010567178020755581),\n",
       " ('Community Area Number_41.0', 0.0010471948390372717),\n",
       " ('Community Area Number_39.0', 0.0010305522567515693),\n",
       " ('Community Area Number_6.0', 0.0010239484244546604),\n",
       " ('Community Area Number_50.0', 0.0010228133746609787),\n",
       " ('Community Area Number_10.0', 0.0010174877439146186),\n",
       " ('Community Area Number_56.0', 0.00094143704484648736),\n",
       " ('Community Area Number_57.0', 0.00094104412071239097),\n",
       " ('Community Area Number_5.0', 0.00094034371490564971),\n",
       " ('Community Area Number_17.0', 0.00092537045717021608),\n",
       " ('Community Area Number_11.0', 0.00085922460296141161),\n",
       " ('Community Area Number_36.0', 0.00082741869513788086),\n",
       " ('Community Area Number_48.0', 0.0008114175054231823),\n",
       " ('Community Area Number_32.0', 0.00080104652939330721),\n",
       " ('Community Area Number_64.0', 0.00078898690118368831),\n",
       " ('Community Area Number_33.0', 0.00078559852119944123),\n",
       " ('Community Area Number_13.0', 0.00073753065984448875),\n",
       " ('Community Area Number_54.0', 0.00071802066115097261),\n",
       " ('Community Area Number_74.0', 0.00069263601529116097),\n",
       " ('Community Area Number_76.0', 0.00068412528525840159),\n",
       " ('Community Area Number_7.0', 0.0005882962295651285),\n",
       " ('Community Area Number_72.0', 0.00057581432440098027),\n",
       " ('Community Area Number_12.0', 0.00056235567160005124),\n",
       " ('Community Area Number_34.0', 0.00053217972007902172),\n",
       " ('Community Area Number_37.0', 0.00048747659463307795),\n",
       " ('Community Area Number_9.0', 0.00023793227302166983),\n",
       " ('IUCR', 0.0)]"
      ]
     },
     "execution_count": 137,
     "metadata": {},
     "output_type": "execute_result"
    }
   ],
   "source": [
    "# Order of importance\n",
    "fi = zip(X_train.columns, rf.feature_importances_)\n",
    "fi_sort = sorted(fi, key=lambda (x,y): y, reverse=True)\n",
    "fi_sort"
   ]
  },
  {
   "cell_type": "code",
   "execution_count": 147,
   "metadata": {
    "collapsed": false
   },
   "outputs": [
    {
     "name": "stderr",
     "output_type": "stream",
     "text": [
      "/usr/local/lib/python2.7/site-packages/sklearn/utils/validation.py:515: DataConversionWarning: A column-vector y was passed when a 1d array was expected. Please change the shape of y to (n_samples, ), for example using ravel().\n",
      "  y = column_or_1d(y, warn=True)\n"
     ]
    },
    {
     "data": {
      "text/plain": [
       "AdaBoostClassifier(algorithm='SAMME.R',\n",
       "          base_estimator=DecisionTreeClassifier(class_weight='balanced', criterion='gini',\n",
       "            max_depth=None, max_features=None, max_leaf_nodes=None,\n",
       "            min_samples_leaf=1, min_samples_split=2,\n",
       "            min_weight_fraction_leaf=0.0, presort=False, random_state=None,\n",
       "            splitter='best'),\n",
       "          learning_rate=0.1, n_estimators=10, random_state=None)"
      ]
     },
     "execution_count": 147,
     "metadata": {},
     "output_type": "execute_result"
    }
   ],
   "source": [
    "from sklearn.ensemble import AdaBoostClassifier\n",
    "from sklearn.tree import DecisionTreeClassifier\n",
    "\n",
    "dt = DecisionTreeClassifier(class_weight='balanced')\n",
    "model = AdaBoostClassifier(dt, n_estimators=10, learning_rate=.1)\n",
    "model.fit(X_train, y_train)"
   ]
  },
  {
   "cell_type": "code",
   "execution_count": 148,
   "metadata": {
    "collapsed": false
   },
   "outputs": [
    {
     "name": "stdout",
     "output_type": "stream",
     "text": [
      "[[1036  799]\n",
      " [ 301  294]]\n"
     ]
    },
    {
     "data": {
      "image/png": "[encoded data removed]",
      "text/plain": [
       "<matplotlib.figure.Figure at 0x1107a7650>"
      ]
     },
     "metadata": {},
     "output_type": "display_data"
    }
   ],
   "source": [
    "predictions = model.predict(X_test)\n",
    "cm = confusion_matrix(y_test, predictions)\n",
    "plot_confusion_matrix(cm)"
   ]
  },
  {
   "cell_type": "code",
   "execution_count": 149,
   "metadata": {
    "collapsed": false
   },
   "outputs": [
    {
     "data": {
      "text/plain": [
       "0.54732510288065839"
      ]
     },
     "execution_count": 149,
     "metadata": {},
     "output_type": "execute_result"
    }
   ],
   "source": [
    "model.score(X_test, y_test)"
   ]
  },
  {
   "cell_type": "code",
   "execution_count": 151,
   "metadata": {
    "collapsed": false
   },
   "outputs": [
    {
     "data": {
      "text/plain": [
       "[('PERCENT AGED 16+ UNEMPLOYED', 0.16613052298711917),\n",
       " ('PER CAPITA INCOME ', 0.056563739348425457),\n",
       " ('PERCENT AGED UNDER 18 OR OVER 64', 0.051535883243361613),\n",
       " ('Year_2008', 0.051396148941482075),\n",
       " ('Year_2013', 0.047176444929087888),\n",
       " ('PERCENT HOUSEHOLDS BELOW POVERTY', 0.045367565047580848),\n",
       " ('PERCENT OF HOUSING CROWDED', 0.044604880191579682),\n",
       " ('Year_2010', 0.043753976473499455),\n",
       " ('HARDSHIP INDEX', 0.038501587245163296),\n",
       " ('PERCENT AGED 25+ WITHOUT HIGH SCHOOL DIPLOMA', 0.036897634592147684),\n",
       " ('Year_2012', 0.035256417689344122),\n",
       " ('Year_2009', 0.035063241563188081),\n",
       " ('Year_2014', 0.033512022934400656),\n",
       " ('Year_2005', 0.033331701035510961),\n",
       " ('Year_2011', 0.03115923239178987),\n",
       " ('Year_2006', 0.028294218892012994),\n",
       " ('Year_2002', 0.027291180114929224),\n",
       " ('Year_2015', 0.026759993110690616),\n",
       " ('Year_2003', 0.021813087290598963),\n",
       " ('Year_2007', 0.021195646145190837),\n",
       " ('Year_2004', 0.018106425673551467),\n",
       " ('Year_2016', 0.01674944270746085),\n",
       " ('Community Area Number_28.0', 0.016260678900600987),\n",
       " ('Community Area Number_42.0', 0.0085248402936009601),\n",
       " ('Community Area Number_14.0', 0.0068140332931939246),\n",
       " ('Community Area Number_68.0', 0.0039458758076626535),\n",
       " ('Community Area Number_17.0', 0.002881804705322373),\n",
       " ('Community Area Number_67.0', 0.0028238824992701658),\n",
       " ('Community Area Number_22.0', 0.0026529957032723579),\n",
       " ('Community Area Number_2.0', 0.0024995908763029854),\n",
       " ('Community Area Number_40.0', 0.0023923844274833838),\n",
       " ('Community Area Number_26.0', 0.0020541340778189683),\n",
       " ('Community Area Number_25.0', 0.0020419056510454702),\n",
       " ('Community Area Number_30.0', 0.0017692861422265913),\n",
       " ('Community Area Number_75.0', 0.0016691789450982125),\n",
       " ('Community Area Number_71.0', 0.0015063366735378371),\n",
       " ('Community Area Number_70.0', 0.00150127061429541),\n",
       " ('Community Area Number_66.0', 0.0014749386214378199),\n",
       " ('Community Area Number_19.0', 0.001378633457948381),\n",
       " ('Community Area Number_29.0', 0.0013785488802715209),\n",
       " ('Community Area Number_53.0', 0.0012903812037042008),\n",
       " ('Community Area Number_61.0', 0.0012238062357871817),\n",
       " ('Community Area Number_69.0', 0.0011833951914898631),\n",
       " ('Community Area Number_15.0', 0.0011002554056797531),\n",
       " ('Community Area Number_27.0', 0.0010708557565097809),\n",
       " ('Community Area Number_65.0', 0.00097269048640282135),\n",
       " ('Community Area Number_23.0', 0.00095772411387253615),\n",
       " ('Community Area Number_44.0', 0.00093594345397547977),\n",
       " ('Community Area Number_46.0', 0.00091908931559252162),\n",
       " ('Community Area Number_4.0', 0.00089970350876136655),\n",
       " ('Community Area Number_51.0', 0.00087890413020821174),\n",
       " ('Community Area Number_37.0', 0.00085001726906474195),\n",
       " ('Community Area Number_49.0', 0.00082730072343771847),\n",
       " ('Community Area Number_55.0', 0.00081139129519606037),\n",
       " ('Community Area Number_58.0', 0.00077188777561429801),\n",
       " ('Community Area Number_8.0', 0.0006553650873796764),\n",
       " ('Community Area Number_52.0', 0.00063461947896055427),\n",
       " ('Community Area Number_41.0', 0.00061410586181312411),\n",
       " ('Community Area Number_16.0', 0.00050707459038642469),\n",
       " ('Community Area Number_36.0', 0.00049597818326544774),\n",
       " ('Community Area Number_77.0', 0.00049521476180979657),\n",
       " ('Community Area Number_31.0', 0.0004912892202586503),\n",
       " ('Community Area Number_18.0', 0.00048560949370561444),\n",
       " ('Community Area Number_6.0', 0.00048540473554929269),\n",
       " ('Community Area Number_10.0', 0.00046347434168168486),\n",
       " ('Community Area Number_43.0', 0.00045890979057568117),\n",
       " ('Community Area Number_60.0', 0.00045382157114023664),\n",
       " ('Community Area Number_3.0', 0.00042252081702270661),\n",
       " ('Community Area Number_47.0', 0.00038431449129048276),\n",
       " ('Community Area Number_73.0', 0.00036114787687155879),\n",
       " ('Community Area Number_24.0', 0.0003569380453819289),\n",
       " ('Community Area Number_20.0', 0.00034376051214604912),\n",
       " ('Community Area Number_59.0', 0.00034102606439157066),\n",
       " ('Community Area Number_13.0', 0.00029570732885902072),\n",
       " ('Community Area Number_35.0', 0.00027513437771669328),\n",
       " ('Community Area Number_64.0', 0.00026543676331605188),\n",
       " ('Community Area Number_21.0', 0.00022560197268981893),\n",
       " ('Community Area Number_39.0', 0.00020914510342880582),\n",
       " ('Community Area Number_12.0', 0.00020848606571759694),\n",
       " ('Community Area Number_63.0', 0.0002084223006692823),\n",
       " ('Community Area Number_72.0', 0.00020078704360451441),\n",
       " ('Community Area Number_50.0', 0.00014568142836358494),\n",
       " ('Community Area Number_56.0', 0.00012331885258247605),\n",
       " ('Community Area Number_7.0', 0.00011340595344251238),\n",
       " ('Community Area Number_45.0', 0.00011253330290404066),\n",
       " ('Community Area Number_34.0', 9.3058778128777588e-05),\n",
       " ('Community Area Number_38.0', 8.9834631004759709e-05),\n",
       " ('Community Area Number_62.0', 7.3546579744979905e-05),\n",
       " ('Community Area Number_48.0', 6.5685678823067397e-05),\n",
       " ('Community Area Number_76.0', 5.5992914187037291e-05),\n",
       " ('Community Area Number_5.0', 3.3684642653099781e-05),\n",
       " ('Community Area Number_33.0', 2.2977911853308285e-05),\n",
       " ('Community Area Number_57.0', 2.839907750714289e-06),\n",
       " ('Community Area Number_11.0', 2.2620384265194751e-06),\n",
       " ('Community Area Number_74.0', 1.153904902250841e-06),\n",
       " ('Community Area Number_9.0', 5.1356829174320608e-08),\n",
       " ('Community Area Number_54.0', 1.6300168370982406e-08),\n",
       " ('Community Area Number_32.0', 1.9548006621183152e-09),\n",
       " ('IUCR', 0.0)]"
      ]
     },
     "execution_count": 151,
     "metadata": {},
     "output_type": "execute_result"
    }
   ],
   "source": [
    "# Order of importance\n",
    "fi = zip(X_train.columns, model.feature_importances_)\n",
    "fi_sort = sorted(fi, key=lambda (x,y): y, reverse=True)\n",
    "fi_sort"
   ]
  },
  {
   "cell_type": "code",
   "execution_count": null,
   "metadata": {
    "collapsed": true
   },
   "outputs": [],
   "source": []
  }
 ],
 "metadata": {
  "kernelspec": {
   "display_name": "Python 2",
   "language": "python",
   "name": "python2"
  },
  "language_info": {
   "codemirror_mode": {
    "name": "ipython",
    "version": 2
   },
   "file_extension": ".py",
   "mimetype": "text/x-python",
   "name": "python",
   "nbconvert_exporter": "python",
   "pygments_lexer": "ipython2",
   "version": "2.7.11"
  }
 },
 "nbformat": 4,
 "nbformat_minor": 0
}
