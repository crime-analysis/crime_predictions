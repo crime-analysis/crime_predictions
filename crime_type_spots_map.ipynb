{
 "cells": [
  {
   "cell_type": "code",
   "execution_count": null,
   "metadata": {
    "collapsed": true
   },
   "outputs": [],
   "source": [
    "# Hot spots for each crime type using agglomerative clustering\n",
    "# Dataset: crimes.csv"
   ]
  },
  {
   "cell_type": "code",
   "execution_count": 1,
   "metadata": {
    "collapsed": false
   },
   "outputs": [],
   "source": [
    "# Read data\n",
    "import pandas as pd\n",
    "from dask import dataframe as dk\n",
    "import numpy as np\n",
    "data_types = {\n",
    "    'ID':  np.int64,\n",
    "    'Case Number':  object,\n",
    "    'Date': object,\n",
    "    'Block': object,\n",
    "    'IUCR': object,\n",
    "    'Primary Type': object,\n",
    "    'Description':  object,\n",
    "    'Location Description': object,\n",
    "    'Arrest': bool,\n",
    "    'Domestic': bool,\n",
    "    'Beat': np.int64,\n",
    "    'District': np.float64,\n",
    "    'Ward': np.float64,\n",
    "    'Community Area': np.float64,\n",
    "    'FBI Code': object,\n",
    "    'X Coordinate': np.float64,\n",
    "    'Y Coordinate': np.float64,\n",
    "    'Year': np.int64,\n",
    "    'Updated On': object,\n",
    "    'Latitude': np.float64,\n",
    "    'Longitude': np.float64,\n",
    "    'Location': object\n",
    "}\n",
    "df = pd.read_csv('crimes.csv', dtype=data_types)"
   ]
  },
  {
   "cell_type": "code",
   "execution_count": 2,
   "metadata": {
    "collapsed": false
   },
   "outputs": [],
   "source": [
    "# Remove X and Y coordinates that equal 0\n",
    "df = df[df['X Coordinate'] != 0]\n",
    "df = df[df['Y Coordinate'] != 0]"
   ]
  },
  {
   "cell_type": "code",
   "execution_count": 6,
   "metadata": {
    "collapsed": true
   },
   "outputs": [],
   "source": [
    "# Helper functions\n",
    "from scipy.cluster.hierarchy import dendrogram, leaders, leaves_list, to_tree\n",
    "import itertools\n",
    "\n",
    "def split_by_col_value(df, column_name):\n",
    "    types = df[column_name].unique()\n",
    "    df_dict = {elem: pd.DataFrame for elem in types}\n",
    "    for key in df_dict.keys():\n",
    "        df_dict[key] = df[:][df[column_name] == key]\n",
    "    return df_dict\n",
    "\n",
    "def plot_dendrogram(model, **kwargs):\n",
    "    children = model.children_\n",
    "    distance = np.arange(children.shape[0])\n",
    "    no_of_observations = np.arange(2, children.shape[0]+2)\n",
    "    linkage_matrix = np.column_stack([children, distance, no_of_observations]).astype(float)\n",
    "    dendrogram(linkage_matrix, **kwargs)\n",
    "\n",
    "def get_leaders(model):\n",
    "    children = model.children_\n",
    "    distance = np.arange(children.shape[0])\n",
    "    no_of_observations = np.arange(2, children.shape[0]+2)\n",
    "    Z = np.column_stack([children, distance, no_of_observations]).astype(float)\n",
    "    T = np.asarray(model.fit_predict(sample_coords)).astype('i')\n",
    "    return leaders(Z, T)[0]\n",
    "\n",
    "def leaves_ids(model):\n",
    "    children = model.children_\n",
    "    distance = np.arange(children.shape[0])\n",
    "    no_of_observations = np.arange(2, children.shape[0]+2)\n",
    "    Z = np.column_stack([children, distance, no_of_observations]).astype(float)\n",
    "    T = np.asarray(model.fit_predict(sample_coords)).astype('i')\n",
    "    return leaves_list(Z)\n",
    "\n",
    "def make_tree(model, X):\n",
    "    ii = itertools.count(X.shape[0])\n",
    "    tree = dict()\n",
    "    for x in model.children_:\n",
    "        tree[next(ii)] = [x[0], x[1]]\n",
    "    return tree"
   ]
  },
  {
   "cell_type": "code",
   "execution_count": 21,
   "metadata": {
    "collapsed": false
   },
   "outputs": [],
   "source": [
    "# Agglomerative clustering\n",
    "from sklearn.cluster import AgglomerativeClustering\n",
    "from matplotlib import pyplot as plt\n",
    "\n",
    "def do_clustering(X, **kwargs):\n",
    "    model = AgglomerativeClustering(**kwargs)\n",
    "    y = model.fit_predict(X)\n",
    "    return y\n",
    "\n",
    "def grouped(X, y):\n",
    "    uniq = set(y)\n",
    "    ret = dict()\n",
    "    for n in uniq:\n",
    "        indexes = [index for index in range(len(y)) if y[index] == n]\n",
    "        ret[n] = X.iloc[indexes]\n",
    "    return ret\n",
    "\n",
    "def mean_pts(X, y):\n",
    "    uniq = set(y)\n",
    "    ret = dict()\n",
    "    for n in uniq:\n",
    "        indexes = [index for index in range(len(y)) if y[index] == n]\n",
    "        grouped = X.iloc[indexes]\n",
    "        ret[n] = [ np.mean(grouped['X Coordinate']), np.mean(grouped['Y Coordinate']) ]\n",
    "    return pd.DataFrame(ret.values(), columns=['X Coordinate', 'Y Coordinate'])"
   ]
  },
  {
   "cell_type": "code",
   "execution_count": 8,
   "metadata": {
    "collapsed": false
   },
   "outputs": [],
   "source": [
    "# Split by crime type\n",
    "dfs = split_by_col_value(df, 'Primary Type')"
   ]
  },
  {
   "cell_type": "code",
   "execution_count": 89,
   "metadata": {
    "collapsed": false
   },
   "outputs": [],
   "source": [
    "n_clusters_for_crime_type = dict()\n",
    "for k in dfs.keys():\n",
    "    n_clusters_for_crime_type[k] = 5 # default\n",
    "\n",
    "# Override as necessary\n",
    "n_clusters_for_crime_type['RITUALISM'] = 3"
   ]
  },
  {
   "cell_type": "code",
   "execution_count": 104,
   "metadata": {
    "collapsed": true
   },
   "outputs": [],
   "source": [
    "import datashader as ds\n",
    "from datashader import transfer_functions as tf\n",
    "from datashader.colors import Greys9\n",
    "Greys9_r = list(reversed(Greys9))[:-2]\n",
    "\n",
    "x_range=(-91.686565684,-87.524529378)\n",
    "y_range=(36.619446395,42.022910333)\n",
    "\n",
    "def plot_map(dfs):\n",
    "    cvs = ds.Canvas(plot_width=800, plot_height=500)\n",
    "    inter = []\n",
    "    for k in dfs.keys():\n",
    "        df = dfs[k]\n",
    "        agg = cvs.points(df, 'X Coordinate', 'Y Coordinate')\n",
    "        inter.append(tf.interpolate(agg, cmap=['blue', 'green'], how='eq_hist'))\n",
    "    return tf.stack(*inter)"
   ]
  },
  {
   "cell_type": "code",
   "execution_count": null,
   "metadata": {
    "collapsed": false
   },
   "outputs": [],
   "source": [
    "# x = None\n",
    "\n",
    "# for crime_type in dfs.keys():\n",
    "#     coords = dfs[crime_type][['X Coordinate', 'Y Coordinate']]\n",
    "#     coords = coords.dropna()\n",
    "#     y = do_clustering(coords, linkage='complete', affinity='manhattan', n_clusters=n_clusters_for_crime_type[crime_type])\n",
    "#     pts = grouped(coords, y)\n",
    "#     x = plot_map(pts)\n",
    "\n",
    "# x"
   ]
  },
  {
   "cell_type": "code",
   "execution_count": null,
   "metadata": {
    "collapsed": true
   },
   "outputs": [],
   "source": []
  },
  {
   "cell_type": "code",
   "execution_count": 22,
   "metadata": {
    "collapsed": false
   },
   "outputs": [
    {
     "data": {
      "text/plain": [
       "['KIDNAPPING',\n",
       " 'HOMICIDE',\n",
       " 'CONCEALED CARRY LICENSE VIOLATION',\n",
       " 'PUBLIC PEACE VIOLATION',\n",
       " 'INTERFERENCE WITH PUBLIC OFFICER',\n",
       " 'PROSTITUTION',\n",
       " 'LIQUOR LAW VIOLATION',\n",
       " 'RITUALISM',\n",
       " 'ROBBERY',\n",
       " 'BURGLARY',\n",
       " 'WEAPONS VIOLATION',\n",
       " 'HUMAN TRAFFICKING',\n",
       " 'OTHER NARCOTIC VIOLATION',\n",
       " 'OBSCENITY',\n",
       " 'OTHER OFFENSE',\n",
       " 'CRIMINAL DAMAGE',\n",
       " 'MOTOR VEHICLE THEFT',\n",
       " 'THEFT',\n",
       " 'OFFENSE INVOLVING CHILDREN',\n",
       " 'GAMBLING',\n",
       " 'PUBLIC INDECENCY',\n",
       " 'NON-CRIMINAL (SUBJECT SPECIFIED)',\n",
       " 'ARSON',\n",
       " 'NARCOTICS',\n",
       " 'SEX OFFENSE',\n",
       " 'INTIMIDATION',\n",
       " 'DECEPTIVE PRACTICE',\n",
       " 'BATTERY',\n",
       " 'NON - CRIMINAL',\n",
       " 'CRIMINAL TRESPASS',\n",
       " 'STALKING',\n",
       " 'ASSAULT',\n",
       " 'CRIM SEXUAL ASSAULT',\n",
       " 'NON-CRIMINAL',\n",
       " 'DOMESTIC VIOLENCE']"
      ]
     },
     "execution_count": 22,
     "metadata": {},
     "output_type": "execute_result"
    }
   ],
   "source": [
    "dfs.keys()"
   ]
  }
 ],
 "metadata": {
  "kernelspec": {
   "display_name": "Python 2",
   "language": "python",
   "name": "python2"
  },
  "language_info": {
   "codemirror_mode": {
    "name": "ipython",
    "version": 2
   },
   "file_extension": ".py",
   "mimetype": "text/x-python",
   "name": "python",
   "nbconvert_exporter": "python",
   "pygments_lexer": "ipython2",
   "version": "2.7.11"
  }
 },
 "nbformat": 4,
 "nbformat_minor": 0
}
