{
 "cells": [
  {
   "cell_type": "code",
   "execution_count": 24,
   "metadata": {
    "collapsed": true
   },
   "outputs": [],
   "source": [
    "# Read crimes.csv\n",
    "import dask.dataframe as dd\n",
    "import pandas as pd\n",
    "import numpy as np\n",
    "#!pip install dask[dataframe]\n",
    "#!pip install pandas --upgrade\n",
    "data_types = {\n",
    "    'ID':  np.int64,\n",
    "    'Case Number':  object,\n",
    "    'Date': object,\n",
    "    'Block': object,\n",
    "    'IUCR': object,\n",
    "    'Primary Type': object,\n",
    "    'Description':  object,\n",
    "    'Location Description': object,\n",
    "    'Arrest':  bool,\n",
    "    'Domestic': bool,\n",
    "    'Beat': np.int64,\n",
    "    'District': np.float64,\n",
    "    'Ward': np.float64,\n",
    "    'Community Area': np.float64,\n",
    "    'FBI Code': object,\n",
    "    'X Coordinate': np.float64,\n",
    "    'Y Coordinate': np.float64,\n",
    "    'Year': np.int64,\n",
    "    'Updated On': object,\n",
    "    'Latitude': np.float64,\n",
    "    'Longitude': np.float64,\n",
    "    'Location': object\n",
    "}\n",
    "df = pd.read_csv('crimes.csv')"
   ]
  },
  {
   "cell_type": "code",
   "execution_count": 25,
   "metadata": {
    "collapsed": false
   },
   "outputs": [],
   "source": [
    "# only use [2008,2012)\n",
    "df.sort_values(['Year'], ascending=True)\n",
    "data08_12 = df[df.Year.isin(range(2008, 2012))]"
   ]
  },
  {
   "cell_type": "code",
   "execution_count": 26,
   "metadata": {
    "collapsed": false
   },
   "outputs": [
    {
     "data": {
      "text/html": [
       "<div>\n",
       "<table border=\"1\" class=\"dataframe\">\n",
       "  <thead>\n",
       "    <tr style=\"text-align: right;\">\n",
       "      <th></th>\n",
       "      <th>ID</th>\n",
       "      <th>Case Number</th>\n",
       "      <th>Date</th>\n",
       "      <th>Block</th>\n",
       "      <th>IUCR</th>\n",
       "      <th>Primary Type</th>\n",
       "      <th>Description</th>\n",
       "      <th>Location Description</th>\n",
       "      <th>Arrest</th>\n",
       "      <th>Domestic</th>\n",
       "      <th>...</th>\n",
       "      <th>Location</th>\n",
       "      <th>Community Area Number</th>\n",
       "      <th>COMMUNITY AREA NAME</th>\n",
       "      <th>PERCENT OF HOUSING CROWDED</th>\n",
       "      <th>PERCENT HOUSEHOLDS BELOW POVERTY</th>\n",
       "      <th>PERCENT AGED 16+ UNEMPLOYED</th>\n",
       "      <th>PERCENT AGED 25+ WITHOUT HIGH SCHOOL DIPLOMA</th>\n",
       "      <th>PERCENT AGED UNDER 18 OR OVER 64</th>\n",
       "      <th>PER CAPITA INCOME</th>\n",
       "      <th>HARDSHIP INDEX</th>\n",
       "    </tr>\n",
       "  </thead>\n",
       "  <tbody>\n",
       "    <tr>\n",
       "      <th>0</th>\n",
       "      <td>8677678</td>\n",
       "      <td>HV351159</td>\n",
       "      <td>06/02/2010 09:00:00 AM</td>\n",
       "      <td>086XX W FOSTER AVE</td>\n",
       "      <td>0841</td>\n",
       "      <td>THEFT</td>\n",
       "      <td>FINANCIAL ID THEFT:$300 &amp;UNDER</td>\n",
       "      <td>RESIDENCE</td>\n",
       "      <td>False</td>\n",
       "      <td>False</td>\n",
       "      <td>...</td>\n",
       "      <td>(41.973771478, -87.842226779)</td>\n",
       "      <td>76</td>\n",
       "      <td>O'Hare</td>\n",
       "      <td>3.6</td>\n",
       "      <td>15.4</td>\n",
       "      <td>7.1</td>\n",
       "      <td>10.9</td>\n",
       "      <td>30.3</td>\n",
       "      <td>25828</td>\n",
       "      <td>24</td>\n",
       "    </tr>\n",
       "    <tr>\n",
       "      <th>1</th>\n",
       "      <td>8678050</td>\n",
       "      <td>HV349526</td>\n",
       "      <td>06/27/2011 12:44:00 PM</td>\n",
       "      <td>002XX W MADISON ST</td>\n",
       "      <td>2826</td>\n",
       "      <td>OTHER OFFENSE</td>\n",
       "      <td>HARASSMENT BY ELECTRONIC MEANS</td>\n",
       "      <td>OTHER</td>\n",
       "      <td>False</td>\n",
       "      <td>False</td>\n",
       "      <td>...</td>\n",
       "      <td>(41.881944424, -87.634195294)</td>\n",
       "      <td>32</td>\n",
       "      <td>Loop</td>\n",
       "      <td>1.5</td>\n",
       "      <td>14.7</td>\n",
       "      <td>5.7</td>\n",
       "      <td>3.1</td>\n",
       "      <td>13.5</td>\n",
       "      <td>65526</td>\n",
       "      <td>3</td>\n",
       "    </tr>\n",
       "    <tr>\n",
       "      <th>2</th>\n",
       "      <td>8678122</td>\n",
       "      <td>HV353372</td>\n",
       "      <td>12/11/2011 02:00:00 PM</td>\n",
       "      <td>052XX N MOODY AVE</td>\n",
       "      <td>1150</td>\n",
       "      <td>DECEPTIVE PRACTICE</td>\n",
       "      <td>CREDIT CARD FRAUD</td>\n",
       "      <td>RESIDENCE</td>\n",
       "      <td>False</td>\n",
       "      <td>False</td>\n",
       "      <td>...</td>\n",
       "      <td>(41.976282262, -87.782332131)</td>\n",
       "      <td>11</td>\n",
       "      <td>Jefferson Park</td>\n",
       "      <td>2.7</td>\n",
       "      <td>8.6</td>\n",
       "      <td>12.4</td>\n",
       "      <td>13.4</td>\n",
       "      <td>35.5</td>\n",
       "      <td>27751</td>\n",
       "      <td>25</td>\n",
       "    </tr>\n",
       "    <tr>\n",
       "      <th>3</th>\n",
       "      <td>8678213</td>\n",
       "      <td>HV353504</td>\n",
       "      <td>08/12/2011 12:00:00 PM</td>\n",
       "      <td>112XX S WALLACE ST</td>\n",
       "      <td>0810</td>\n",
       "      <td>THEFT</td>\n",
       "      <td>OVER $500</td>\n",
       "      <td>SCHOOL, PUBLIC, BUILDING</td>\n",
       "      <td>False</td>\n",
       "      <td>False</td>\n",
       "      <td>...</td>\n",
       "      <td>(41.68995741, -87.637460623)</td>\n",
       "      <td>49</td>\n",
       "      <td>Roseland</td>\n",
       "      <td>2.5</td>\n",
       "      <td>19.8</td>\n",
       "      <td>20.3</td>\n",
       "      <td>16.9</td>\n",
       "      <td>41.2</td>\n",
       "      <td>17949</td>\n",
       "      <td>52</td>\n",
       "    </tr>\n",
       "    <tr>\n",
       "      <th>4</th>\n",
       "      <td>8678564</td>\n",
       "      <td>HV353442</td>\n",
       "      <td>12/07/2011 08:00:00 AM</td>\n",
       "      <td>039XX W 79TH ST</td>\n",
       "      <td>0890</td>\n",
       "      <td>THEFT</td>\n",
       "      <td>FROM BUILDING</td>\n",
       "      <td>SCHOOL, PUBLIC, BUILDING</td>\n",
       "      <td>False</td>\n",
       "      <td>False</td>\n",
       "      <td>...</td>\n",
       "      <td>(41.749460005, -87.72089612)</td>\n",
       "      <td>70</td>\n",
       "      <td>Ashburn</td>\n",
       "      <td>4.0</td>\n",
       "      <td>10.4</td>\n",
       "      <td>11.7</td>\n",
       "      <td>17.7</td>\n",
       "      <td>36.9</td>\n",
       "      <td>23482</td>\n",
       "      <td>37</td>\n",
       "    </tr>\n",
       "  </tbody>\n",
       "</table>\n",
       "<p>5 rows × 31 columns</p>\n",
       "</div>"
      ],
      "text/plain": [
       "        ID Case Number                    Date               Block  IUCR  \\\n",
       "0  8677678    HV351159  06/02/2010 09:00:00 AM  086XX W FOSTER AVE  0841   \n",
       "1  8678050    HV349526  06/27/2011 12:44:00 PM  002XX W MADISON ST  2826   \n",
       "2  8678122    HV353372  12/11/2011 02:00:00 PM   052XX N MOODY AVE  1150   \n",
       "3  8678213    HV353504  08/12/2011 12:00:00 PM  112XX S WALLACE ST  0810   \n",
       "4  8678564    HV353442  12/07/2011 08:00:00 AM     039XX W 79TH ST  0890   \n",
       "\n",
       "         Primary Type                     Description  \\\n",
       "0               THEFT  FINANCIAL ID THEFT:$300 &UNDER   \n",
       "1       OTHER OFFENSE  HARASSMENT BY ELECTRONIC MEANS   \n",
       "2  DECEPTIVE PRACTICE               CREDIT CARD FRAUD   \n",
       "3               THEFT                       OVER $500   \n",
       "4               THEFT                   FROM BUILDING   \n",
       "\n",
       "       Location Description Arrest Domestic       ...        \\\n",
       "0                 RESIDENCE  False    False       ...         \n",
       "1                     OTHER  False    False       ...         \n",
       "2                 RESIDENCE  False    False       ...         \n",
       "3  SCHOOL, PUBLIC, BUILDING  False    False       ...         \n",
       "4  SCHOOL, PUBLIC, BUILDING  False    False       ...         \n",
       "\n",
       "                        Location  Community Area Number  COMMUNITY AREA NAME  \\\n",
       "0  (41.973771478, -87.842226779)                     76               O'Hare   \n",
       "1  (41.881944424, -87.634195294)                     32                 Loop   \n",
       "2  (41.976282262, -87.782332131)                     11       Jefferson Park   \n",
       "3   (41.68995741, -87.637460623)                     49             Roseland   \n",
       "4   (41.749460005, -87.72089612)                     70              Ashburn   \n",
       "\n",
       "   PERCENT OF HOUSING CROWDED PERCENT HOUSEHOLDS BELOW POVERTY  \\\n",
       "0                         3.6                             15.4   \n",
       "1                         1.5                             14.7   \n",
       "2                         2.7                              8.6   \n",
       "3                         2.5                             19.8   \n",
       "4                         4.0                             10.4   \n",
       "\n",
       "   PERCENT AGED 16+ UNEMPLOYED  PERCENT AGED 25+ WITHOUT HIGH SCHOOL DIPLOMA  \\\n",
       "0                          7.1                                          10.9   \n",
       "1                          5.7                                           3.1   \n",
       "2                         12.4                                          13.4   \n",
       "3                         20.3                                          16.9   \n",
       "4                         11.7                                          17.7   \n",
       "\n",
       "   PERCENT AGED UNDER 18 OR OVER 64 PER CAPITA INCOME   HARDSHIP INDEX  \n",
       "0                              30.3              25828              24  \n",
       "1                              13.5              65526               3  \n",
       "2                              35.5              27751              25  \n",
       "3                              41.2              17949              52  \n",
       "4                              36.9              23482              37  \n",
       "\n",
       "[5 rows x 31 columns]"
      ]
     },
     "execution_count": 26,
     "metadata": {},
     "output_type": "execute_result"
    }
   ],
   "source": [
    "# read socioeconomic data; merge with crimes\n",
    "poverty = pd.read_csv('poverty.csv')\n",
    "crimes_with_soc = pd.merge(data08_12, poverty, how='left', left_on='Community Area', right_on='Community Area Number')\n",
    "crimes_with_soc.head()"
   ]
  },
  {
   "cell_type": "code",
   "execution_count": 31,
   "metadata": {
    "collapsed": false
   },
   "outputs": [
    {
     "data": {
      "text/plain": [
       "Index([u'ID', u'Case Number', u'Date', u'Block', u'IUCR', u'Primary Type',\n",
       "       u'Description', u'Location Description', u'Arrest', u'Domestic',\n",
       "       u'Beat', u'District', u'Ward', u'Community Area', u'FBI Code',\n",
       "       u'X Coordinate', u'Y Coordinate', u'Year', u'Updated On', u'Latitude',\n",
       "       u'Longitude', u'Location', u'Community Area Number',\n",
       "       u'COMMUNITY AREA NAME', u'PERCENT OF HOUSING CROWDED',\n",
       "       u'PERCENT HOUSEHOLDS BELOW POVERTY', u'PercentUnemployed',\n",
       "       u'PercentNoDiploma', u'PERCENT AGED UNDER 18 OR OVER 64',\n",
       "       u'PER CAPITA INCOME ', u'HARDSHIP INDEX'],\n",
       "      dtype='object')"
      ]
     },
     "execution_count": 31,
     "metadata": {},
     "output_type": "execute_result"
    }
   ],
   "source": [
    "# Arrests v diplomas\n",
    "%matplotlib inline\n",
    "from __future__ import division\n",
    "import seaborn as sns\n",
    "total_arrests = crimes_with_soc['Arrest'].sum()\n",
    "arrest_percent = crimes_with_soc.groupby('Community Area').Arrest.count()/total_arrests*100\n",
    "crimes_with_soc.rename(columns = {'PERCENT AGED 25+ WITHOUT HIGH SCHOOL DIPLOMA':'PercentNoDiploma'}, inplace = True)\n",
    "no_diploma_percent = crimes_with_soc.groupby('Community Area').PercentNoDiploma.mean()\n",
    "df = pd.DataFrame({'arrest_percent':arrest_percent,'no_diploma_percent':no_diploma_percent,}).dropna()\n",
    "sns.lmplot('no_diploma_percent','arrest_percent', df)"
   ]
  },
  {
   "cell_type": "code",
   "execution_count": 28,
   "metadata": {
    "collapsed": false
   },
   "outputs": [
    {
     "data": {
      "text/plain": [
       "<seaborn.axisgrid.FacetGrid at 0x11a81cc10>"
      ]
     },
     "execution_count": 28,
     "metadata": {},
     "output_type": "execute_result"
    },
    {
     "data": {
      "image/png": "[encoded data removed]",
      "text/plain": [
       "<matplotlib.figure.Figure at 0x2869719d0>"
      ]
     },
     "metadata": {},
     "output_type": "display_data"
    }
   ],
   "source": [
    "# Arrests v unemployed\n",
    "total_arrests = crimes_with_soc['Arrest'].sum()\n",
    "arrest_percent = crimes_with_soc.groupby('Community Area').Arrest.count()/total_arrests*100\n",
    "crimes_with_soc.rename(columns = {'PERCENT AGED 16+ UNEMPLOYED':'PercentUnemployed'}, inplace = True)\n",
    "unemployed_percent = crimes_with_soc.groupby('Community Area').PercentUnemployed.mean()\n",
    "dataframe = pd.DataFrame({'arrest_percent':arrest_percent,'unemployed_percent':unemployed_percent,}).dropna()\n",
    "sns.lmplot('unemployed_percent','arrest_percent', dataframe)"
   ]
  },
  {
   "cell_type": "code",
   "execution_count": 32,
   "metadata": {
    "collapsed": false
   },
   "outputs": [
    {
     "data": {
      "text/plain": [
       "<seaborn.axisgrid.FacetGrid at 0x2867e4f50>"
      ]
     },
     "execution_count": 32,
     "metadata": {},
     "output_type": "execute_result"
    },
    {
     "data": {
      "image/png": "[encoded data removed]",
      "text/plain": [
       "<matplotlib.figure.Figure at 0x1388bec50>"
      ]
     },
     "metadata": {},
     "output_type": "display_data"
    }
   ],
   "source": [
    "# Arrests v per capita income\n",
    "total_arrests = crimes_with_soc['Arrest'].sum()\n",
    "arrest_percent = crimes_with_soc.groupby('Community Area').Arrest.count()/total_arrests*100\n",
    "crimes_with_soc.rename(columns = {'PER CAPITA INCOME ':'PerCapitaIncome'}, inplace = True)\n",
    "per_capita_income = crimes_with_soc.groupby('Community Area').PerCapitaIncome.mean()\n",
    "dataframe = pd.DataFrame({'arrest_percent':arrest_percent,'per_capita_income':per_capita_income,}).dropna()\n",
    "sns.lmplot('per_capita_income','arrest_percent', dataframe)"
   ]
  },
  {
   "cell_type": "code",
   "execution_count": 34,
   "metadata": {
    "collapsed": false
   },
   "outputs": [
    {
     "data": {
      "text/plain": [
       "<seaborn.axisgrid.FacetGrid at 0x285fa7d50>"
      ]
     },
     "execution_count": 34,
     "metadata": {},
     "output_type": "execute_result"
    },
    {
     "data": {
      "image/png": "[encoded data removed]",
      "text/plain": [
       "<matplotlib.figure.Figure at 0x1154f8d10>"
      ]
     },
     "metadata": {},
     "output_type": "display_data"
    }
   ],
   "source": [
    "# Arrests v per capita income\n",
    "total_arrests = crimes_with_soc['Arrest'].sum()\n",
    "arrest_percent = crimes_with_soc.groupby('Community Area').Arrest.count()/total_arrests*100\n",
    "crimes_with_soc.rename(columns = {'HARDSHIP INDEX':'HardshipIndex'}, inplace = True)\n",
    "hardship_index = crimes_with_soc.groupby('Community Area').HardshipIndex.mean()\n",
    "dataframe = pd.DataFrame({'arrest_percent':arrest_percent,'hardship_index':hardship_index,}).dropna()\n",
    "sns.lmplot('hardship_index','arrest_percent', dataframe)"
   ]
  }
 ],
 "metadata": {
  "kernelspec": {
   "display_name": "Python 2",
   "language": "python",
   "name": "python2"
  },
  "language_info": {
   "codemirror_mode": {
    "name": "ipython",
    "version": 2
   },
   "file_extension": ".py",
   "mimetype": "text/x-python",
   "name": "python",
   "nbconvert_exporter": "python",
   "pygments_lexer": "ipython2",
   "version": "2.7.11"
  }
 },
 "nbformat": 4,
 "nbformat_minor": 0
}
