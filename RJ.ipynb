{
 "cells": [
  {
   "cell_type": "code",
   "execution_count": null,
   "metadata": {
    "collapsed": false
   },
   "outputs": [],
   "source": [
    "import dask.dataframe as dd\n",
    "import pandas as pd\n",
    "import numpy as np\n",
    "#!pip install dask[dataframe]\n",
    "#!pip install pandas --upgrade\n",
    "# We have to do this as dask is bad at guessing the types of objects for some reason\n",
    "# Also, if you are having trouble with running the dataframe and continuously get \n",
    "# Fatal Python error: GC object already tracked, try to update pandas\n",
    "data_types = {\n",
    "    'ID':  np.int64,\n",
    "    'Case Number':  object,\n",
    "    'Date': object,\n",
    "    'Block': object,\n",
    "    'IUCR': object,\n",
    "    'Primary Type': object,\n",
    "    'Description':  object,\n",
    "    'Location Description': object,\n",
    "    'Arrest':  bool,\n",
    "    'Domestic': bool,\n",
    "    'Beat': np.int64,\n",
    "    'District': np.float64,\n",
    "    'Ward': np.float64,\n",
    "    'Community Area': np.float64,\n",
    "    'FBI Code': object,\n",
    "    'X Coordinate': np.float64,\n",
    "    'Y Coordinate': np.float64,\n",
    "    'Year': np.int64,\n",
    "    'Updated On': object,\n",
    "    'Latitude': np.float64,\n",
    "    'Longitude': np.float64,\n",
    "    'Location': object\n",
    "}\n",
    "df = pd.read_csv('crimes.csv')\n",
    "print(\"finished loading\")"
   ]
  },
  {
   "cell_type": "code",
   "execution_count": null,
   "metadata": {
    "collapsed": false
   },
   "outputs": [],
   "source": [
    "import datetime\n",
    "import locale\n",
    "\n",
    "store = pd.HDFStore('store.h5')\n",
    "\n",
    "\n",
    "data_subset = pd.DataFrame(df.subset(20000).Date)\n",
    "\n",
    "# add columns\n",
    "data_subset.insert(0, 'Hour', 0)\n",
    "data_subset.insert(0, 'Day', 0)\n",
    "data_subset.insert(0, 'Month', 0)\n",
    "data_subset.insert(0, 'Year', 0)\n",
    "\n",
    "# FORMAT : 06/25/2012 03:00:00 PM\n",
    "\n",
    "# convert string date time to 24 hour (just hour)\n",
    "# output as string\n",
    "def to24Hour(x):\n",
    "    hour = x[11:13]\n",
    "    am = x[-2:] == 'AM'\n",
    "    if(am):\n",
    "        if(hour == '12'):\n",
    "            hour = '00'\n",
    "        else:\n",
    "            return hour\n",
    "    else:\n",
    "        if(hour != '12'):\n",
    "            hour = str(int(hour) + 12)\n",
    "\n",
    "    return hour\n",
    "\n",
    "# convert string to datetime object with only date\n",
    "def toDate(x):\n",
    "    month = x[0:2]\n",
    "    date = x[3:5]\n",
    "    year = x[6:10]\n",
    "    return datetime.datetime(int(year), int(month), int(date))\n",
    "\n",
    "def toMonth(x):\n",
    "    return x[0:2]\n",
    "\n",
    "def toYear(x):\n",
    "    return x[6:10]\n",
    "    \n",
    "    \n",
    "    \n",
    "\n",
    "\n",
    "# convert date\n",
    "locale.setlocale(locale.LC_ALL, '')\n",
    "#datetime.datetime.strptime('06/25/2012 03:00:00 PM', '%x %X %p').strftime('%A')\n",
    "#https://docs.python.org/2/library/datetime.html#strftime-strptime-behavior\n",
    "data_subset['Hour'] = data_subset['Date'].apply(to24Hour)\n",
    "data_subset['Day'] = data_subset['Date'].apply(lambda x: toDate(x).strftime('%w'))\n",
    "data_subset['Month'] = data_subset['Date'].apply(toMonth)\n",
    "data_subset['Year'] = data_subset['Date'].apply(toYear)\n",
    "\n",
    "# save to HDF5\n",
    "store['data_subset'] = data_subset\n",
    "#retrieve with varName = store['data_subset']\n",
    "\n",
    "store.close()\n",
    "\n",
    "data_subset\n",
    "\n"
   ]
  },
  {
   "cell_type": "code",
   "execution_count": 11,
   "metadata": {
    "collapsed": false
   },
   "outputs": [],
   "source": [
    "import matplotlib.pyplot as plt"
   ]
  },
  {
   "cell_type": "code",
   "execution_count": 12,
   "metadata": {
    "collapsed": true
   },
   "outputs": [],
   "source": [
    "hourCounts = data_subset.Hour.value_counts().sort_index()\n",
    "\n",
    "X = np.arange(len(hourCounts))\n",
    "\n",
    "plt.bar(X, hourCounts.values)\n",
    "\n",
    "plt.xticks(X, hourCounts.axes[0])\n",
    "\n",
    "plt.show()"
   ]
  },
  {
   "cell_type": "code",
   "execution_count": 171,
   "metadata": {
    "collapsed": false
   },
   "outputs": [],
   "source": [
    "dayCounts = data_subset.Day.value_counts().sort_index()\n",
    "\n",
    "X = np.arange(len(dayCounts))\n",
    "\n",
    "plt.bar(X, dayCounts.values, align='center')\n",
    "\n",
    "plt.xticks(X, dayCounts.axes[0]) # ['S', 'M', 'T', 'W', 'Th', 'F', 'Sa'])#\n",
    "\n",
    "plt.show()"
   ]
  },
  {
   "cell_type": "code",
   "execution_count": 173,
   "metadata": {
    "collapsed": true
   },
   "outputs": [],
   "source": [
    "monthCounts = data_subset.Month.value_counts().sort_index()\n",
    "\n",
    "X = np.arange(len(monthCounts))\n",
    "\n",
    "plt.bar(X, monthCounts.values, align='center')\n",
    "\n",
    "plt.xticks(X, monthCounts.axes[0]) # ['Jan', 'Feb', 'Mar', 'Apr', 'May', 'Jun', 'Jul', 'Aug', 'Sep', 'Oct', 'Nov', 'Dec'])\n",
    "\n",
    "plt.show()"
   ]
  },
  {
   "cell_type": "code",
   "execution_count": 175,
   "metadata": {
    "collapsed": true
   },
   "outputs": [],
   "source": [
    "yearCounts = data_subset.Year.value_counts().sort_index()\n",
    "\n",
    "X = np.arange(len(yearCounts))\n",
    "\n",
    "plt.bar(X, yearCounts.values, align='center')\n",
    "\n",
    "plt.xticks(X, yearCounts.axes[0])\n",
    "\n",
    "plt.show()"
   ]
  }
 ],
 "metadata": {
  "kernelspec": {
   "display_name": "Python 2",
   "language": "python",
   "name": "python2"
  },
  "language_info": {
   "codemirror_mode": {
    "name": "ipython",
    "version": 2
   },
   "file_extension": ".py",
   "mimetype": "text/x-python",
   "name": "python",
   "nbconvert_exporter": "python",
   "pygments_lexer": "ipython2",
   "version": "2.7.11"
  }
 },
 "nbformat": 4,
 "nbformat_minor": 0
}
