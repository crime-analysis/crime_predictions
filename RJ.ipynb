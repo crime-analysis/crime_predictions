{
 "cells": [
  {
   "cell_type": "code",
   "execution_count": null,
   "metadata": {
    "collapsed": false
   },
   "outputs": [],
   "source": [
    "import dask.dataframe as dd\n",
    "import pandas as pd\n",
    "import numpy as np\n",
    "#!pip install dask[dataframe]\n",
    "#!pip install pandas --upgrade\n",
    "# We have to do this as dask is bad at guessing the types of objects for some reason\n",
    "# Also, if you are having trouble with running the dataframe and continuously get \n",
    "# Fatal Python error: GC object already tracked, try to update pandas\n",
    "data_types = {\n",
    "    'ID':  np.int64,\n",
    "    'Case Number':  object,\n",
    "    'Date': object,\n",
    "    'Block': object,\n",
    "    'IUCR': object,\n",
    "    'Primary Type': object,\n",
    "    'Description':  object,\n",
    "    'Location Description': object,\n",
    "    'Arrest':  bool,\n",
    "    'Domestic': bool,\n",
    "    'Beat': np.int64,\n",
    "    'District': np.float64,\n",
    "    'Ward': np.float64,\n",
    "    'Community Area': np.float64,\n",
    "    'FBI Code': object,\n",
    "    'X Coordinate': np.float64,\n",
    "    'Y Coordinate': np.float64,\n",
    "    'Year': np.int64,\n",
    "    'Updated On': object,\n",
    "    'Latitude': np.float64,\n",
    "    'Longitude': np.float64,\n",
    "    'Location': object\n",
    "}\n",
    "df = pd.read_csv('crimes.csv')\n",
    "print(\"finished loading\")"
   ]
  },
  {
   "cell_type": "code",
   "execution_count": null,
   "metadata": {
    "collapsed": false
   },
   "outputs": [],
   "source": [
    "import datetime\n",
    "import locale\n",
    "\n",
    "store = pd.HDFStore('store.h5')\n",
    "\n",
    "\n",
    "data_subset = pd.DataFrame(df.subset(20000).Date)\n",
    "\n",
    "# add columns\n",
    "data_subset.insert(0, 'Hour', 0)\n",
    "data_subset.insert(0, 'Day', 0)\n",
    "data_subset.insert(0, 'Month', 0)\n",
    "data_subset.insert(0, 'Year', 0)\n",
    "\n",
    "# FORMAT : 06/25/2012 03:00:00 PM\n",
    "\n",
    "# convert string date time to 24 hour (just hour)\n",
    "# output as string\n",
    "def to24Hour(x):\n",
    "    hour = x[11:13]\n",
    "    am = x[-2:] == 'AM'\n",
    "    if(am):\n",
    "        if(hour == '12'):\n",
    "            hour = '00'\n",
    "        else:\n",
    "            return hour\n",
    "    else:\n",
    "        if(hour != '12'):\n",
    "            hour = str(int(hour) + 12)\n",
    "\n",
    "    return hour\n",
    "\n",
    "# convert string to datetime object with only date\n",
    "def toDate(x):\n",
    "    month = x[0:2]\n",
    "    date = x[3:5]\n",
    "    year = x[6:10]\n",
    "    return datetime.datetime(int(year), int(month), int(date))\n",
    "\n",
    "def toMonth(x):\n",
    "    return x[0:2]\n",
    "\n",
    "def toYear(x):\n",
    "    return x[6:10]\n",
    "    \n",
    "    \n",
    "    \n",
    "\n",
    "\n",
    "# convert date\n",
    "locale.setlocale(locale.LC_ALL, '')\n",
    "#datetime.datetime.strptime('06/25/2012 03:00:00 PM', '%x %X %p').strftime('%A')\n",
    "#https://docs.python.org/2/library/datetime.html#strftime-strptime-behavior\n",
    "data_subset['Hour'] = data_subset['Date'].apply(to24Hour)\n",
    "data_subset['Day'] = data_subset['Date'].apply(lambda x: toDate(x).strftime('%w'))\n",
    "data_subset['Month'] = data_subset['Date'].apply(toMonth)\n",
    "data_subset['Year'] = data_subset['Date'].apply(toYear)\n",
    "\n",
    "# save to HDF5\n",
    "store['data_subset'] = data_subset\n",
    "#retrieve with varName = store['data_subset']\n",
    "\n",
    "store.close()\n",
    "\n",
    "data_subset\n",
    "\n"
   ]
  },
  {
   "cell_type": "code",
   "execution_count": 4,
   "metadata": {
    "collapsed": false
   },
   "outputs": [],
   "source": [
    "#start from here if reading from .h5\n",
    "\n",
    "import matplotlib.pyplot as plt\n",
    "\n",
    "import pandas as pd\n",
    "\n",
    "import numpy as np\n",
    "\n",
    "store = pd.HDFStore('store.h5')\n",
    "\n",
    "data_subset = store['data_subset']\n",
    "\n",
    "print(\"finished loading\")"
   ]
  },
  {
   "cell_type": "code",
   "execution_count": 5,
   "metadata": {
    "collapsed": false
   },
   "outputs": [],
   "source": [
    "hourCounts = data_subset.Hour.value_counts().sort_index()\n",
    "\n",
    "X = np.arange(len(hourCounts))\n",
    "\n",
    "plt.bar(X, hourCounts.values)\n",
    "\n",
    "plt.xticks(X, hourCounts.axes[0])\n",
    "\n",
    "plt.show()"
   ]
  },
  {
   "cell_type": "code",
   "execution_count": 13,
   "metadata": {
    "collapsed": false
   },
   "outputs": [],
   "source": [
    "dayCounts = data_subset.Day.value_counts().sort_index()\n",
    "\n",
    "X = np.arange(len(dayCounts))\n",
    "\n",
    "plt.bar(X, dayCounts.values, align='center')\n",
    "\n",
    "plt.xticks(X, ['S', 'M', 'T', 'W', 'Th', 'F', 'Sa'])#\n",
    "\n",
    "# axes = plt.gca()\n",
    "# axes.set_ylim([800000,1000000])\n",
    "\n",
    "plt.show()"
   ]
  },
  {
   "cell_type": "code",
   "execution_count": 39,
   "metadata": {
    "collapsed": false
   },
   "outputs": [],
   "source": [
    "def monthNormalize(monthCounts):\n",
    "    i = 1\n",
    "    for key in monthCounts:\n",
    "        if(i in [1, 3, 5, 7, 8, 10, 12]):\n",
    "            monthCounts[i-1] /= 31\n",
    "        elif (i == 2):\n",
    "            monthCounts[i-1] /= 28.25 #2001-16 has 4 leap febs and 12 non-leap febs\n",
    "        else :\n",
    "            monthCounts[i-1] /= 30 \n",
    "        i += 1\n",
    "            \n",
    "    return monthCounts\n",
    "    \n",
    "\n",
    "monthCounts = data_subset.Month.value_counts().sort_index()\n",
    "\n",
    "monthCounts = monthNormalize(monthCounts)\n",
    "\n",
    "X = np.arange(len(monthCounts))\n",
    "\n",
    "plt.bar(X, monthCounts.values, align='center')\n",
    "\n",
    "plt.xticks(X,  ['Jan', 'Feb', 'Mar', 'Apr', 'May', 'Jun', 'Jul', 'Aug', 'Sep', 'Oct', 'Nov', 'Dec'])\n",
    "\n",
    "axes = plt.gca()\n",
    "axes.set_ylim([14000,18000])\n",
    "\n",
    "plt.show()"
   ]
  },
  {
   "cell_type": "code",
   "execution_count": 43,
   "metadata": {
    "collapsed": false
   },
   "outputs": [],
   "source": [
    "yearCounts = data_subset.Year.value_counts().sort_index()\n",
    "\n",
    "X = np.arange(len(yearCounts))\n",
    "\n",
    "plt.bar(X, yearCounts.values, align='center')\n",
    "\n",
    "plt.xticks(X, yearCounts.axes[0].map(lambda x : x[-2:]))\n",
    "\n",
    "plt.show()"
   ]
  },
  {
   "cell_type": "code",
   "execution_count": 91,
   "metadata": {
    "collapsed": false
   },
   "outputs": [],
   "source": [
    "rows_list = []\n",
    "\n",
    "for i in range(2001, 2016):\n",
    "    year = str(i)\n",
    "    ser = pd.Series(data_subset.where(data_new['Year'] == year).Month.value_counts(), name=year)\n",
    "    rows_list.append(ser)\n",
    "\n",
    "counts_frame = pd.DataFrame(rows_list)"
   ]
  },
  {
   "cell_type": "code",
   "execution_count": 158,
   "metadata": {
    "collapsed": false
   },
   "outputs": [],
   "source": [
    "# Predict for 2016\n",
    "\n",
    "# get 2016 series\n",
    "i = 2016\n",
    "year = str(i)\n",
    "ser = pd.Series(data_subset.where(data_new['Year'] == year).Month.value_counts(), name=year)\n",
    "\n",
    "from sklearn import datasets, linear_model\n",
    "from sklearn.cross_validation import train_test_split\n",
    "\n",
    "# predict all other months from first Jan, Feb and Mar\n",
    "indep_vars = ['01', '02', '03']\n",
    "dep_vars = ['04', '05', '06', '07', '08', '09', '10', '11', '12']\n",
    "indep_data = counts_frame[indep_vars]\n",
    "dep_data = counts_frame[dep_vars]\n",
    "\n",
    "# train on 2001-2015, predict on 2016\n",
    "indep_train = indep_data\n",
    "dep_train = dep_data\n",
    "indep_test = pd.DataFrame(ser).T.drop('04', 1)\n",
    "\n",
    "# fit\n",
    "regr = linear_model.LinearRegression()\n",
    "regr.fit(indep_train, dep_train)\n",
    "\n",
    "# predict\n",
    "regr_predict = regr.predict(indep_test)\n",
    "\n",
    "plt.bar(range(1, 4), indep_test.as_matrix()[0], align = 'center', color = 'red')\n",
    "plt.bar(range(4, 13), regr_predict[0], align = 'center')\n",
    "\n",
    "plt.xticks(range(1, 13),  ['Jan', 'Feb', 'Mar', 'Apr', 'May', 'Jun', 'Jul', 'Aug', 'Sep', 'Oct', 'Nov', 'Dec'])\n",
    "\n",
    "plt.show()"
   ]
  },
  {
   "cell_type": "code",
   "execution_count": 149,
   "metadata": {
    "collapsed": false
   },
   "outputs": [
    {
     "name": "stdout",
     "output_type": "stream",
     "text": [
      "R2 = 65.90%\n"
     ]
    }
   ],
   "source": [
    "# train and test the normal way to find R2\n",
    "\n",
    "indep_vars = ['01', '02', '03']\n",
    "dep_vars = ['04', '05', '06', '07', '08', '09', '10', '11', '12']\n",
    "indep_data = counts_frame[indep_vars]\n",
    "dep_data = counts_frame[dep_vars]\n",
    "indep_train, indep_test, dep_train, dep_test = train_test_split(indep_data, dep_data, test_size=0.01, random_state=42)\n",
    "\n",
    "# train\n",
    "regr = linear_model.LinearRegression()\n",
    "regr.fit(indep_train, dep_train)\n",
    "\n",
    "# predict\n",
    "regr_predict = regr.predict(indep_test)\n",
    "\n",
    "# find numerator\n",
    "numerator = np.mean(np.square(dep_test.as_matrix() - regr_predict))\n",
    "\n",
    "# find denominator\n",
    "a = []\n",
    "for i in range(0, len(dep_test)):\n",
    "    a.append(np.mean(dep_train, axis = 0))\n",
    "    \n",
    "denominator = np.mean(np.square(dep_test.as_matrix() - a))\n",
    "\n",
    "# calculate R2\n",
    "R2 = 1 - (numerator / denominator)\n",
    "\n",
    "print(\"R2 = %.2f%%\" % (R2*100))\n"
   ]
  }
 ],
 "metadata": {
  "kernelspec": {
   "display_name": "Python 2",
   "language": "python",
   "name": "python2"
  },
  "language_info": {
   "codemirror_mode": {
    "name": "ipython",
    "version": 2
   },
   "file_extension": ".py",
   "mimetype": "text/x-python",
   "name": "python",
   "nbconvert_exporter": "python",
   "pygments_lexer": "ipython2",
   "version": "2.7.11"
  }
 },
 "nbformat": 4,
 "nbformat_minor": 0
}
