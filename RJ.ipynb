{
 "cells": [
  {
   "cell_type": "code",
   "execution_count": null,
   "metadata": {
    "collapsed": false
   },
   "outputs": [],
   "source": [
    "import dask.dataframe as dd\n",
    "import pandas as pd\n",
    "import numpy as np\n",
    "#!pip install dask[dataframe]\n",
    "#!pip install pandas --upgrade\n",
    "# We have to do this as dask is bad at guessing the types of objects for some reason\n",
    "# Also, if you are having trouble with running the dataframe and continuously get \n",
    "# Fatal Python error: GC object already tracked, try to update pandas\n",
    "data_types = {\n",
    "    'ID':  np.int64,\n",
    "    'Case Number':  object,\n",
    "    'Date': object,\n",
    "    'Block': object,\n",
    "    'IUCR': object,\n",
    "    'Primary Type': object,\n",
    "    'Description':  object,\n",
    "    'Location Description': object,\n",
    "    'Arrest':  bool,\n",
    "    'Domestic': bool,\n",
    "    'Beat': np.int64,\n",
    "    'District': np.float64,\n",
    "    'Ward': np.float64,\n",
    "    'Community Area': np.float64,\n",
    "    'FBI Code': object,\n",
    "    'X Coordinate': np.float64,\n",
    "    'Y Coordinate': np.float64,\n",
    "    'Year': np.int64,\n",
    "    'Updated On': object,\n",
    "    'Latitude': np.float64,\n",
    "    'Longitude': np.float64,\n",
    "    'Location': object\n",
    "}\n",
    "df = pd.read_csv('crimes.csv')\n",
    "print(\"finished loading\")"
   ]
  },
  {
   "cell_type": "code",
   "execution_count": null,
   "metadata": {
    "collapsed": false
   },
   "outputs": [],
   "source": [
    "import datetime\n",
    "import locale\n",
    "\n",
    "store = pd.HDFStore('store.h5')\n",
    "\n",
    "\n",
    "data_subset = pd.DataFrame(df.subset(20000).Date)\n",
    "\n",
    "# add columns\n",
    "data_subset.insert(0, 'Hour', 0)\n",
    "data_subset.insert(0, 'Day', 0)\n",
    "data_subset.insert(0, 'Month', 0)\n",
    "data_subset.insert(0, 'Year', 0)\n",
    "\n",
    "# FORMAT : 06/25/2012 03:00:00 PM\n",
    "\n",
    "# convert string date time to 24 hour (just hour)\n",
    "# output as string\n",
    "def to24Hour(x):\n",
    "    hour = x[11:13]\n",
    "    am = x[-2:] == 'AM'\n",
    "    if(am):\n",
    "        if(hour == '12'):\n",
    "            hour = '00'\n",
    "        else:\n",
    "            return hour\n",
    "    else:\n",
    "        if(hour != '12'):\n",
    "            hour = str(int(hour) + 12)\n",
    "\n",
    "    return hour\n",
    "\n",
    "# convert string to datetime object with only date\n",
    "def toDate(x):\n",
    "    month = x[0:2]\n",
    "    date = x[3:5]\n",
    "    year = x[6:10]\n",
    "    return datetime.datetime(int(year), int(month), int(date))\n",
    "\n",
    "def toMonth(x):\n",
    "    return x[0:2]\n",
    "\n",
    "def toYear(x):\n",
    "    return x[6:10]\n",
    "    \n",
    "    \n",
    "    \n",
    "\n",
    "\n",
    "# convert date\n",
    "locale.setlocale(locale.LC_ALL, '')\n",
    "#datetime.datetime.strptime('06/25/2012 03:00:00 PM', '%x %X %p').strftime('%A')\n",
    "#https://docs.python.org/2/library/datetime.html#strftime-strptime-behavior\n",
    "data_subset['Hour'] = data_subset['Date'].apply(to24Hour)\n",
    "data_subset['Day'] = data_subset['Date'].apply(lambda x: toDate(x).strftime('%w'))\n",
    "data_subset['Month'] = data_subset['Date'].apply(toMonth)\n",
    "data_subset['Year'] = data_subset['Date'].apply(toYear)\n",
    "\n",
    "# save to HDF5\n",
    "store['data_subset'] = data_subset\n",
    "#retrieve with varName = store['data_subset']\n",
    "\n",
    "store.close()\n",
    "\n",
    "data_subset\n",
    "\n"
   ]
  },
  {
   "cell_type": "code",
   "execution_count": 4,
   "metadata": {
    "collapsed": false
   },
   "outputs": [],
   "source": [
    "#start from here if reading from .h5\n",
    "\n",
    "import matplotlib.pyplot as plt\n",
    "\n",
    "import pandas as pd\n",
    "\n",
    "import numpy as np\n",
    "\n",
    "store = pd.HDFStore('store.h5')\n",
    "\n",
    "data_subset = store['data_subset']\n",
    "\n",
    "print(\"finished loading\")"
   ]
  },
  {
   "cell_type": "code",
   "execution_count": 5,
   "metadata": {
    "collapsed": false
   },
   "outputs": [],
   "source": [
    "hourCounts = data_subset.Hour.value_counts().sort_index()\n",
    "\n",
    "X = np.arange(len(hourCounts))\n",
    "\n",
    "plt.bar(X, hourCounts.values)\n",
    "\n",
    "plt.xticks(X, hourCounts.axes[0])\n",
    "\n",
    "plt.show()"
   ]
  },
  {
   "cell_type": "code",
   "execution_count": 13,
   "metadata": {
    "collapsed": false
   },
   "outputs": [],
   "source": [
    "dayCounts = data_subset.Day.value_counts().sort_index()\n",
    "\n",
    "X = np.arange(len(dayCounts))\n",
    "\n",
    "plt.bar(X, dayCounts.values, align='center')\n",
    "\n",
    "plt.xticks(X, ['S', 'M', 'T', 'W', 'Th', 'F', 'Sa'])#\n",
    "\n",
    "# axes = plt.gca()\n",
    "# axes.set_ylim([800000,1000000])\n",
    "\n",
    "plt.show()"
   ]
  },
  {
   "cell_type": "code",
   "execution_count": 39,
   "metadata": {
    "collapsed": false
   },
   "outputs": [],
   "source": [
    "def monthNormalize(monthCounts):\n",
    "    i = 1\n",
    "    for key in monthCounts:\n",
    "        if(i in [1, 3, 5, 7, 8, 10, 12]):\n",
    "            monthCounts[i-1] /= 31\n",
    "        elif (i == 2):\n",
    "            monthCounts[i-1] /= 28.25 #2001-16 has 4 leap febs and 12 non-leap febs\n",
    "        else :\n",
    "            monthCounts[i-1] /= 30 \n",
    "        i += 1\n",
    "            \n",
    "    return monthCounts\n",
    "    \n",
    "\n",
    "monthCounts = data_subset.Month.value_counts().sort_index()\n",
    "\n",
    "monthCounts = monthNormalize(monthCounts)\n",
    "\n",
    "X = np.arange(len(monthCounts))\n",
    "\n",
    "plt.bar(X, monthCounts.values, align='center')\n",
    "\n",
    "plt.xticks(X,  ['Jan', 'Feb', 'Mar', 'Apr', 'May', 'Jun', 'Jul', 'Aug', 'Sep', 'Oct', 'Nov', 'Dec'])\n",
    "\n",
    "axes = plt.gca()\n",
    "axes.set_ylim([14000,18000])\n",
    "\n",
    "plt.show()"
   ]
  },
  {
   "cell_type": "code",
   "execution_count": 43,
   "metadata": {
    "collapsed": false
   },
   "outputs": [],
   "source": [
    "yearCounts = data_subset.Year.value_counts().sort_index()\n",
    "\n",
    "X = np.arange(len(yearCounts))\n",
    "\n",
    "plt.bar(X, yearCounts.values, align='center')\n",
    "\n",
    "plt.xticks(X, yearCounts.axes[0].map(lambda x : x[-2:]))\n",
    "\n",
    "plt.show()"
   ]
  },
  {
   "cell_type": "code",
   "execution_count": 91,
   "metadata": {
    "collapsed": false
   },
   "outputs": [],
   "source": [
    "rows_list = []\n",
    "\n",
    "for i in range(2001, 2016):\n",
    "    year = str(i)\n",
    "    ser = pd.Series(data_subset.where(data_new['Year'] == year).Month.value_counts(), name=year)\n",
    "    rows_list.append(ser)\n",
    "\n",
    "counts_frame = pd.DataFrame(rows_list)"
   ]
  },
  {
   "cell_type": "code",
   "execution_count": 95,
   "metadata": {
    "collapsed": false
   },
   "outputs": [
    {
     "data": {
      "text/plain": [
       "array([[ 31448.73599254,  34413.04680637,  33971.64551268,  35259.0173458 ,\n",
       "         35133.10770914,  33226.3101517 ,  33834.24449234,  30395.57687882,\n",
       "         28255.56779079],\n",
       "       [ 28386.64298305,  30364.83602264,  30086.60695081,  31231.05447456,\n",
       "         31550.04169345,  29466.07001782,  29089.28420158,  26814.01724725,\n",
       "         25033.57990024],\n",
       "       [ 41018.97591303,  43932.87208923,  43579.87852796,  46229.31226952,\n",
       "         45516.33513491,  43349.58438948,  44599.89605861,  39058.42986564,\n",
       "         36330.60133221],\n",
       "       [ 21476.79395302,  23181.72992809,  22895.38607591,  23206.94564897,\n",
       "         23991.66202176,  21981.57310198,  20910.06910887,  20247.56670712,\n",
       "         19014.11290828],\n",
       "       [ 38562.46925811,  41365.43238911,  40981.94811215,  43867.68377597,\n",
       "         42993.3031957 ,  40555.6307573 ,  41634.70454038,  36171.2865898 ,\n",
       "         34252.53035922]])"
      ]
     },
     "execution_count": 95,
     "metadata": {},
     "output_type": "execute_result"
    }
   ],
   "source": [
    "counts_frame\n",
    "\n",
    "from sklearn import datasets, linear_model\n",
    "from sklearn.cross_validation import train_test_split\n",
    "\n",
    "indep_vars = ['01', '02', '03']\n",
    "dep_vars = ['04', '05', '06', '07', '08', '09', '10', '11', '12']\n",
    "indep_data = counts_frame[indep_vars]\n",
    "dep_data = counts_frame[dep_vars]\n",
    "indep_train, indep_test, dep_train, dep_test = train_test_split(indep_data, dep_data, test_size=0.33, random_state=42)\n",
    "\n",
    "regr = linear_model.LinearRegression()\n",
    "regr.fit(indep_train, dep_train)\n",
    "\n",
    "regr_predict = regr.predict(indep_test)\n",
    "regr_predict"
   ]
  }
 ],
 "metadata": {
  "kernelspec": {
   "display_name": "Python 2",
   "language": "python",
   "name": "python2"
  },
  "language_info": {
   "codemirror_mode": {
    "name": "ipython",
    "version": 2
   },
   "file_extension": ".py",
   "mimetype": "text/x-python",
   "name": "python",
   "nbconvert_exporter": "python",
   "pygments_lexer": "ipython2",
   "version": "2.7.11"
  }
 },
 "nbformat": 4,
 "nbformat_minor": 0
}
