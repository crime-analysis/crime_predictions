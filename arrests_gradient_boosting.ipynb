{
 "cells": [
  {
   "cell_type": "code",
   "execution_count": 15,
   "metadata": {
    "collapsed": false
   },
   "outputs": [],
   "source": [
    "# This file predicts Arrests using GradientBoostingClassifier.\n",
    "# Dataset: crimes.csv merged with poverty.csv"
   ]
  },
  {
   "cell_type": "code",
   "execution_count": 1,
   "metadata": {
    "collapsed": false
   },
   "outputs": [],
   "source": [
    "import pandas as pd\n",
    "import numpy as np\n",
    "df = pd.read_csv('crimes.csv')"
   ]
  },
  {
   "cell_type": "code",
   "execution_count": 3,
   "metadata": {
    "collapsed": false
   },
   "outputs": [
    {
     "data": {
      "text/html": [
       "<div>\n",
       "<table border=\"1\" class=\"dataframe\">\n",
       "  <thead>\n",
       "    <tr style=\"text-align: right;\">\n",
       "      <th></th>\n",
       "      <th>Community Area Number</th>\n",
       "      <th>PERCENT OF HOUSING CROWDED</th>\n",
       "      <th>PERCENT HOUSEHOLDS BELOW POVERTY</th>\n",
       "      <th>PERCENT AGED 16+ UNEMPLOYED</th>\n",
       "      <th>PERCENT AGED 25+ WITHOUT HIGH SCHOOL DIPLOMA</th>\n",
       "      <th>PERCENT AGED UNDER 18 OR OVER 64</th>\n",
       "      <th>PER CAPITA INCOME</th>\n",
       "      <th>HARDSHIP INDEX</th>\n",
       "    </tr>\n",
       "  </thead>\n",
       "  <tbody>\n",
       "    <tr>\n",
       "      <th>0</th>\n",
       "      <td>1.0</td>\n",
       "      <td>7.7</td>\n",
       "      <td>23.6</td>\n",
       "      <td>8.7</td>\n",
       "      <td>18.2</td>\n",
       "      <td>27.5</td>\n",
       "      <td>23939</td>\n",
       "      <td>39.0</td>\n",
       "    </tr>\n",
       "    <tr>\n",
       "      <th>1</th>\n",
       "      <td>2.0</td>\n",
       "      <td>7.8</td>\n",
       "      <td>17.2</td>\n",
       "      <td>8.8</td>\n",
       "      <td>20.8</td>\n",
       "      <td>38.5</td>\n",
       "      <td>23040</td>\n",
       "      <td>46.0</td>\n",
       "    </tr>\n",
       "    <tr>\n",
       "      <th>2</th>\n",
       "      <td>3.0</td>\n",
       "      <td>3.8</td>\n",
       "      <td>24.0</td>\n",
       "      <td>8.9</td>\n",
       "      <td>11.8</td>\n",
       "      <td>22.2</td>\n",
       "      <td>35787</td>\n",
       "      <td>20.0</td>\n",
       "    </tr>\n",
       "    <tr>\n",
       "      <th>3</th>\n",
       "      <td>4.0</td>\n",
       "      <td>3.4</td>\n",
       "      <td>10.9</td>\n",
       "      <td>8.2</td>\n",
       "      <td>13.4</td>\n",
       "      <td>25.5</td>\n",
       "      <td>37524</td>\n",
       "      <td>17.0</td>\n",
       "    </tr>\n",
       "    <tr>\n",
       "      <th>4</th>\n",
       "      <td>5.0</td>\n",
       "      <td>0.3</td>\n",
       "      <td>7.5</td>\n",
       "      <td>5.2</td>\n",
       "      <td>4.5</td>\n",
       "      <td>26.2</td>\n",
       "      <td>57123</td>\n",
       "      <td>6.0</td>\n",
       "    </tr>\n",
       "  </tbody>\n",
       "</table>\n",
       "</div>"
      ],
      "text/plain": [
       "   Community Area Number  PERCENT OF HOUSING CROWDED  \\\n",
       "0                    1.0                         7.7   \n",
       "1                    2.0                         7.8   \n",
       "2                    3.0                         3.8   \n",
       "3                    4.0                         3.4   \n",
       "4                    5.0                         0.3   \n",
       "\n",
       "   PERCENT HOUSEHOLDS BELOW POVERTY  PERCENT AGED 16+ UNEMPLOYED  \\\n",
       "0                              23.6                          8.7   \n",
       "1                              17.2                          8.8   \n",
       "2                              24.0                          8.9   \n",
       "3                              10.9                          8.2   \n",
       "4                               7.5                          5.2   \n",
       "\n",
       "   PERCENT AGED 25+ WITHOUT HIGH SCHOOL DIPLOMA  \\\n",
       "0                                          18.2   \n",
       "1                                          20.8   \n",
       "2                                          11.8   \n",
       "3                                          13.4   \n",
       "4                                           4.5   \n",
       "\n",
       "   PERCENT AGED UNDER 18 OR OVER 64  PER CAPITA INCOME   HARDSHIP INDEX  \n",
       "0                              27.5               23939            39.0  \n",
       "1                              38.5               23040            46.0  \n",
       "2                              22.2               35787            20.0  \n",
       "3                              25.5               37524            17.0  \n",
       "4                              26.2               57123             6.0  "
      ]
     },
     "execution_count": 3,
     "metadata": {},
     "output_type": "execute_result"
    }
   ],
   "source": [
    "poverty = pd.read_csv('poverty.csv')\n",
    "poverty = poverty.drop('COMMUNITY AREA NAME', 1)\n",
    "poverty.head()"
   ]
  },
  {
   "cell_type": "code",
   "execution_count": 4,
   "metadata": {
    "collapsed": false
   },
   "outputs": [],
   "source": [
    "# Remove unwanted columns from the data\n",
    "# Add 'Date' back in when RJ fixes the datetime converter\n",
    "useful_columns = ['IUCR', 'Location Description', 'Arrest', 'Domestic', 'Community Area', 'Year']\n",
    "data = df[useful_columns]"
   ]
  },
  {
   "cell_type": "code",
   "execution_count": 5,
   "metadata": {
    "collapsed": false
   },
   "outputs": [
    {
     "name": "stderr",
     "output_type": "stream",
     "text": [
      "/Users/nishanthshanmugham/anaconda2/lib/python2.7/site-packages/pandas/core/frame.py:2754: SettingWithCopyWarning: \n",
      "A value is trying to be set on a copy of a slice from a DataFrame\n",
      "\n",
      "See the caveats in the documentation: http://pandas.pydata.org/pandas-docs/stable/indexing.html#indexing-view-versus-copy\n",
      "  **kwargs)\n"
     ]
    }
   ],
   "source": [
    "# Merge with the poverty dataframe\n",
    "data.rename(columns={'Community Area': 'Community Area Number'}, inplace=True)\n",
    "data = pd.merge(data, poverty, how='right', on='Community Area Number')"
   ]
  },
  {
   "cell_type": "code",
   "execution_count": 6,
   "metadata": {
    "collapsed": false
   },
   "outputs": [
    {
     "name": "stderr",
     "output_type": "stream",
     "text": [
      "/Users/nishanthshanmugham/anaconda2/lib/python2.7/site-packages/numpy/lib/arraysetops.py:200: FutureWarning: numpy not_equal will not check object identity in the future. The comparison did not return the same result as suggested by the identity (`is`)) and will change.\n",
      "  flag = np.concatenate(([True], aux[1:] != aux[:-1]))\n",
      "/Users/nishanthshanmugham/anaconda2/lib/python2.7/site-packages/numpy/lib/arraysetops.py:259: FutureWarning: numpy equal will not check object identity in the future. The comparison did not return the same result as suggested by the identity (`is`)) and will change.\n",
      "  return aux[:-1][aux[1:] == aux[:-1]]\n"
     ]
    },
    {
     "data": {
      "text/html": [
       "<div>\n",
       "<table border=\"1\" class=\"dataframe\">\n",
       "  <thead>\n",
       "    <tr style=\"text-align: right;\">\n",
       "      <th></th>\n",
       "      <th>IUCR</th>\n",
       "      <th>Location Description</th>\n",
       "      <th>Arrest</th>\n",
       "      <th>Domestic</th>\n",
       "      <th>Community Area Number</th>\n",
       "      <th>Year</th>\n",
       "      <th>PERCENT OF HOUSING CROWDED</th>\n",
       "      <th>PERCENT HOUSEHOLDS BELOW POVERTY</th>\n",
       "      <th>PERCENT AGED 16+ UNEMPLOYED</th>\n",
       "      <th>PERCENT AGED 25+ WITHOUT HIGH SCHOOL DIPLOMA</th>\n",
       "      <th>PERCENT AGED UNDER 18 OR OVER 64</th>\n",
       "      <th>PER CAPITA INCOME</th>\n",
       "      <th>HARDSHIP INDEX</th>\n",
       "    </tr>\n",
       "  </thead>\n",
       "  <tbody>\n",
       "    <tr>\n",
       "      <th>0</th>\n",
       "      <td>312</td>\n",
       "      <td>133</td>\n",
       "      <td>0</td>\n",
       "      <td>1</td>\n",
       "      <td>30.0</td>\n",
       "      <td>2012</td>\n",
       "      <td>15.2</td>\n",
       "      <td>30.7</td>\n",
       "      <td>15.8</td>\n",
       "      <td>54.8</td>\n",
       "      <td>33.8</td>\n",
       "      <td>10402</td>\n",
       "      <td>96.0</td>\n",
       "    </tr>\n",
       "    <tr>\n",
       "      <th>1</th>\n",
       "      <td>81</td>\n",
       "      <td>149</td>\n",
       "      <td>1</td>\n",
       "      <td>0</td>\n",
       "      <td>30.0</td>\n",
       "      <td>2012</td>\n",
       "      <td>15.2</td>\n",
       "      <td>30.7</td>\n",
       "      <td>15.8</td>\n",
       "      <td>54.8</td>\n",
       "      <td>33.8</td>\n",
       "      <td>10402</td>\n",
       "      <td>96.0</td>\n",
       "    </tr>\n",
       "    <tr>\n",
       "      <th>2</th>\n",
       "      <td>41</td>\n",
       "      <td>153</td>\n",
       "      <td>0</td>\n",
       "      <td>0</td>\n",
       "      <td>30.0</td>\n",
       "      <td>2012</td>\n",
       "      <td>15.2</td>\n",
       "      <td>30.7</td>\n",
       "      <td>15.8</td>\n",
       "      <td>54.8</td>\n",
       "      <td>33.8</td>\n",
       "      <td>10402</td>\n",
       "      <td>96.0</td>\n",
       "    </tr>\n",
       "    <tr>\n",
       "      <th>3</th>\n",
       "      <td>257</td>\n",
       "      <td>149</td>\n",
       "      <td>1</td>\n",
       "      <td>0</td>\n",
       "      <td>30.0</td>\n",
       "      <td>2012</td>\n",
       "      <td>15.2</td>\n",
       "      <td>30.7</td>\n",
       "      <td>15.8</td>\n",
       "      <td>54.8</td>\n",
       "      <td>33.8</td>\n",
       "      <td>10402</td>\n",
       "      <td>96.0</td>\n",
       "    </tr>\n",
       "    <tr>\n",
       "      <th>4</th>\n",
       "      <td>41</td>\n",
       "      <td>153</td>\n",
       "      <td>0</td>\n",
       "      <td>0</td>\n",
       "      <td>30.0</td>\n",
       "      <td>2012</td>\n",
       "      <td>15.2</td>\n",
       "      <td>30.7</td>\n",
       "      <td>15.8</td>\n",
       "      <td>54.8</td>\n",
       "      <td>33.8</td>\n",
       "      <td>10402</td>\n",
       "      <td>96.0</td>\n",
       "    </tr>\n",
       "  </tbody>\n",
       "</table>\n",
       "</div>"
      ],
      "text/plain": [
       "   IUCR  Location Description  Arrest  Domestic  Community Area Number  Year  \\\n",
       "0   312                   133       0         1                   30.0  2012   \n",
       "1    81                   149       1         0                   30.0  2012   \n",
       "2    41                   153       0         0                   30.0  2012   \n",
       "3   257                   149       1         0                   30.0  2012   \n",
       "4    41                   153       0         0                   30.0  2012   \n",
       "\n",
       "   PERCENT OF HOUSING CROWDED  PERCENT HOUSEHOLDS BELOW POVERTY  \\\n",
       "0                        15.2                              30.7   \n",
       "1                        15.2                              30.7   \n",
       "2                        15.2                              30.7   \n",
       "3                        15.2                              30.7   \n",
       "4                        15.2                              30.7   \n",
       "\n",
       "   PERCENT AGED 16+ UNEMPLOYED  PERCENT AGED 25+ WITHOUT HIGH SCHOOL DIPLOMA  \\\n",
       "0                         15.8                                          54.8   \n",
       "1                         15.8                                          54.8   \n",
       "2                         15.8                                          54.8   \n",
       "3                         15.8                                          54.8   \n",
       "4                         15.8                                          54.8   \n",
       "\n",
       "   PERCENT AGED UNDER 18 OR OVER 64  PER CAPITA INCOME   HARDSHIP INDEX  \n",
       "0                              33.8               10402            96.0  \n",
       "1                              33.8               10402            96.0  \n",
       "2                              33.8               10402            96.0  \n",
       "3                              33.8               10402            96.0  \n",
       "4                              33.8               10402            96.0  "
      ]
     },
     "execution_count": 6,
     "metadata": {},
     "output_type": "execute_result"
    }
   ],
   "source": [
    "from sklearn.preprocessing import LabelEncoder\n",
    "features = ['IUCR', 'Location Description', 'Arrest', 'Domestic']\n",
    "for a in features:\n",
    "    le = LabelEncoder()\n",
    "    le.fit(data[a])\n",
    "    data[a] = le.transform(data[a])\n",
    "data.head()"
   ]
  },
  {
   "cell_type": "code",
   "execution_count": 7,
   "metadata": {
    "collapsed": false
   },
   "outputs": [],
   "source": [
    "from sklearn.cross_validation import train_test_split\n",
    "\n",
    "data = data.dropna()\n",
    "X = data.drop(['Arrest'], axis=1)\n",
    "y = data['Arrest'].astype(int)\n",
    "X_train, X_test, y_train, y_test = train_test_split(X, y, test_size=.33, random_state=42)"
   ]
  },
  {
   "cell_type": "code",
   "execution_count": 8,
   "metadata": {
    "collapsed": true
   },
   "outputs": [],
   "source": [
    "# Helper functions\n",
    "%matplotlib inline\n",
    "import matplotlib.pyplot as plt\n",
    "from sklearn.metrics import roc_curve, auc\n",
    "def plot_confusion_matrix(cm, title='Confusion matrix', cmap=plt.cm.Blues):\n",
    "    print(cm)\n",
    "    plt.imshow(cm, interpolation='nearest', cmap=cmap)\n",
    "    plt.title(title)\n",
    "    plt.colorbar()\n",
    "    tick_marks = np.arange(2)\n",
    "    plt.xticks(tick_marks, ['No Arrest', 'Arrest'], rotation=45)\n",
    "    plt.yticks(tick_marks, ['No Arrest', 'Arrest'])\n",
    "    plt.tight_layout()\n",
    "    plt.ylabel('True label')\n",
    "    plt.xlabel('Predicted label')\n",
    "def plot_roc(model):\n",
    "    model.fit(X_train, y_train)\n",
    "    predictions = model.predict_proba(X_test)\n",
    "    predictions = [x[1] for x in predictions]\n",
    "    false_positive_rate, true_positive_rate, thresholds = roc_curve(y_test, predictions)\n",
    "    roc_auc = auc(false_positive_rate, true_positive_rate)\n",
    "    plt.title('Receiver Operating Characteristic')\n",
    "    plt.plot(false_positive_rate, true_positive_rate, 'b',\n",
    "    label='AUC = %0.2f'% roc_auc)\n",
    "    plt.legend(loc='lower right')\n",
    "    plt.plot([0,1],[0,1],'r--')\n",
    "    plt.xlim([-0.1,1.2])\n",
    "    plt.ylim([-0.1,1.2])\n",
    "    plt.ylabel('True Positive Rate')\n",
    "    plt.xlabel('False Positive Rate')"
   ]
  },
  {
   "cell_type": "code",
   "execution_count": 9,
   "metadata": {
    "collapsed": true
   },
   "outputs": [],
   "source": [
    "from sklearn.metrics import confusion_matrix\n",
    "from __future__ import division\n",
    "# Metric for GridSearchCV\n",
    "def cm_loss(estimator, X, y):\n",
    "    predictions = estimator.predict(X)\n",
    "    cm = confusion_matrix(y, predictions)\n",
    "    totals = np.sum(cm, 1)\n",
    "    no_acc = cm[0, 0] / totals[0]\n",
    "    yes_acc = cm[1, 1] / totals[1]\n",
    "    return (no_acc + yes_acc)/2\n",
    "def accuracies(cm):\n",
    "    totals = np.sum(cm, 1)\n",
    "    no_acc = cm[0, 0] / totals[0]\n",
    "    yes_acc = cm[1, 1] / totals[1]\n",
    "    print(\"No Arrest: {0}\".format(no_acc))\n",
    "    print(\"Arrest Acc: {0}\".format(yes_acc))\n",
    "    print(\"Average Acc: {0}\".format((no_acc + yes_acc)/2))"
   ]
  },
  {
   "cell_type": "code",
   "execution_count": 10,
   "metadata": {
    "collapsed": false
   },
   "outputs": [
    {
     "name": "stdout",
     "output_type": "stream",
     "text": [
      "[[1240596   39062]\n",
      " [ 180752  329694]]\n",
      "No Arrest: 0.96947465651\n",
      "Arrest Acc: 0.645893982909\n",
      "Average Acc: 0.807684319709\n"
     ]
    },
    {
     "data": {
      "image/png": "[encoded data removed]",
      "text/plain": [
       "<matplotlib.figure.Figure at 0x112a45a50>"
      ]
     },
     "metadata": {},
     "output_type": "display_data"
    }
   ],
   "source": [
    "# GradientBoostingClassifier n_estimators=100, learning_rate=0.1\n",
    "from sklearn.ensemble import GradientBoostingClassifier\n",
    "from sklearn.grid_search import GridSearchCV\n",
    "model = GradientBoostingClassifier(n_estimators=100, learning_rate=.1)\n",
    "model.fit(X_train, y_train)\n",
    "predictions = model.predict(X_test)\n",
    "cm = confusion_matrix(y_test, predictions)\n",
    "plot_confusion_matrix(cm)\n",
    "accuracies(cm)"
   ]
  },
  {
   "cell_type": "code",
   "execution_count": 12,
   "metadata": {
    "collapsed": false
   },
   "outputs": [
    {
     "data": {
      "text/plain": [
       "[('IUCR', 0.79223095568565272),\n",
       " ('Location Description', 0.1258468474552186),\n",
       " ('Year', 0.016427219976609102),\n",
       " ('Domestic', 0.016084486706107844),\n",
       " ('PERCENT AGED UNDER 18 OR OVER 64', 0.011853913091108401),\n",
       " ('Community Area Number', 0.0090129922099171506),\n",
       " ('PER CAPITA INCOME ', 0.0076858057165911271),\n",
       " ('PERCENT AGED 25+ WITHOUT HIGH SCHOOL DIPLOMA', 0.0070212568853520417),\n",
       " ('PERCENT AGED 16+ UNEMPLOYED', 0.0057325400769198207),\n",
       " ('PERCENT HOUSEHOLDS BELOW POVERTY', 0.0044446083383316102),\n",
       " ('PERCENT OF HOUSING CROWDED', 0.0027194796851898878),\n",
       " ('HARDSHIP INDEX', 0.00093989417300167693)]"
      ]
     },
     "execution_count": 12,
     "metadata": {},
     "output_type": "execute_result"
    }
   ],
   "source": [
    "# Order of importance\n",
    "fi = zip(X_train.columns, model.feature_importances_)\n",
    "fi_sort = sorted(fi, key=lambda (x,y): y, reverse=True)\n",
    "fi_sort"
   ]
  },
  {
   "cell_type": "code",
   "execution_count": null,
   "metadata": {
    "collapsed": false
   },
   "outputs": [],
   "source": []
  }
 ],
 "metadata": {
  "kernelspec": {
   "display_name": "Python 2",
   "language": "python",
   "name": "python2"
  },
  "language_info": {
   "codemirror_mode": {
    "name": "ipython",
    "version": 2
   },
   "file_extension": ".py",
   "mimetype": "text/x-python",
   "name": "python",
   "nbconvert_exporter": "python",
   "pygments_lexer": "ipython2",
   "version": "2.7.11"
  }
 },
 "nbformat": 4,
 "nbformat_minor": 0
}
