{
 "cells": [
  {
   "cell_type": "code",
   "execution_count": 1,
   "metadata": {
    "collapsed": true
   },
   "outputs": [],
   "source": [
    "import pandas as pd\n",
    "from dask import dataframe as dk\n",
    "import numpy as np\n",
    "#!pip install pandas --upgrade\n",
    "data_types = {\n",
    "    'ID':  np.int64,\n",
    "    'Case Number':  object,\n",
    "    'Date': object,\n",
    "    'Block': object,\n",
    "    'IUCR': object,\n",
    "    'Primary Type': object,\n",
    "    'Description':  object,\n",
    "    'Location Description': object,\n",
    "    'Arrest':  bool,\n",
    "    'Domestic': bool,\n",
    "    'Beat': np.int64,\n",
    "    'District': np.float64,\n",
    "    'Ward': np.float64,\n",
    "    'Community Area': np.float64,\n",
    "    'FBI Code': object,\n",
    "    'X Coordinate': np.float64,\n",
    "    'Y Coordinate': np.float64,\n",
    "    'Year': np.int64,\n",
    "    'Updated On': object,\n",
    "    'Latitude': np.float64,\n",
    "    'Longitude': np.float64,\n",
    "    'Location': object\n",
    "}\n",
    "df = pd.read_csv('crimes.csv', dtype=data_types)"
   ]
  },
  {
   "cell_type": "code",
   "execution_count": 3,
   "metadata": {
    "collapsed": true
   },
   "outputs": [],
   "source": [
    "poverty = pd.read_csv('poverty.csv')\n",
    "poverty = poverty.drop('COMMUNITY AREA NAME', 1)"
   ]
  },
  {
   "cell_type": "code",
   "execution_count": 4,
   "metadata": {
    "collapsed": true
   },
   "outputs": [],
   "source": [
    "#  Remove unwanted columns from the data\n",
    "# Add 'Date' back in when RJ fixes the datetime converter\n",
    "useful_columns = ['IUCR', 'Location Description', 'Arrest', 'Domestic', 'Community Area', 'Year']\n",
    "data_full = df[useful_columns]"
   ]
  },
  {
   "cell_type": "code",
   "execution_count": 5,
   "metadata": {
    "collapsed": true
   },
   "outputs": [],
   "source": [
    "# Merge with the poverty dataframe\n",
    "data_full = data_full.rename(columns={'Community Area': 'Community Area Number'})\n",
    "data_full = pd.merge(data_full, poverty, how='right', on='Community Area Number')"
   ]
  },
  {
   "cell_type": "code",
   "execution_count": 6,
   "metadata": {
    "collapsed": false
   },
   "outputs": [
    {
     "data": {
      "text/html": [
       "<div>\n",
       "<table border=\"1\" class=\"dataframe\">\n",
       "  <thead>\n",
       "    <tr style=\"text-align: right;\">\n",
       "      <th></th>\n",
       "      <th>IUCR</th>\n",
       "      <th>Location Description</th>\n",
       "      <th>Arrest</th>\n",
       "      <th>Domestic</th>\n",
       "      <th>Community Area Number</th>\n",
       "      <th>Year</th>\n",
       "      <th>PERCENT OF HOUSING CROWDED</th>\n",
       "      <th>PERCENT HOUSEHOLDS BELOW POVERTY</th>\n",
       "      <th>PERCENT AGED 16+ UNEMPLOYED</th>\n",
       "      <th>PERCENT AGED 25+ WITHOUT HIGH SCHOOL DIPLOMA</th>\n",
       "      <th>PERCENT AGED UNDER 18 OR OVER 64</th>\n",
       "      <th>PER CAPITA INCOME</th>\n",
       "      <th>HARDSHIP INDEX</th>\n",
       "    </tr>\n",
       "  </thead>\n",
       "  <tbody>\n",
       "    <tr>\n",
       "      <th>2512839</th>\n",
       "      <td>0820</td>\n",
       "      <td>PARKING LOT/GARAGE(NON.RESID.)</td>\n",
       "      <td>False</td>\n",
       "      <td>False</td>\n",
       "      <td>29</td>\n",
       "      <td>2004</td>\n",
       "      <td>7.4</td>\n",
       "      <td>43.1</td>\n",
       "      <td>21.2</td>\n",
       "      <td>27.6</td>\n",
       "      <td>42.7</td>\n",
       "      <td>12034</td>\n",
       "      <td>87</td>\n",
       "    </tr>\n",
       "    <tr>\n",
       "      <th>349925</th>\n",
       "      <td>1350</td>\n",
       "      <td>CHA PARKING LOT/GROUNDS</td>\n",
       "      <td>True</td>\n",
       "      <td>False</td>\n",
       "      <td>8</td>\n",
       "      <td>2009</td>\n",
       "      <td>1.9</td>\n",
       "      <td>12.9</td>\n",
       "      <td>7.0</td>\n",
       "      <td>2.5</td>\n",
       "      <td>22.6</td>\n",
       "      <td>88669</td>\n",
       "      <td>1</td>\n",
       "    </tr>\n",
       "    <tr>\n",
       "      <th>4455024</th>\n",
       "      <td>1320</td>\n",
       "      <td>STREET</td>\n",
       "      <td>True</td>\n",
       "      <td>False</td>\n",
       "      <td>22</td>\n",
       "      <td>2009</td>\n",
       "      <td>3.2</td>\n",
       "      <td>16.8</td>\n",
       "      <td>8.2</td>\n",
       "      <td>14.8</td>\n",
       "      <td>26.2</td>\n",
       "      <td>31908</td>\n",
       "      <td>23</td>\n",
       "    </tr>\n",
       "    <tr>\n",
       "      <th>889343</th>\n",
       "      <td>1310</td>\n",
       "      <td>APARTMENT</td>\n",
       "      <td>False</td>\n",
       "      <td>True</td>\n",
       "      <td>68</td>\n",
       "      <td>2008</td>\n",
       "      <td>3.8</td>\n",
       "      <td>46.6</td>\n",
       "      <td>28.0</td>\n",
       "      <td>28.5</td>\n",
       "      <td>42.5</td>\n",
       "      <td>11888</td>\n",
       "      <td>94</td>\n",
       "    </tr>\n",
       "    <tr>\n",
       "      <th>4911352</th>\n",
       "      <td>051A</td>\n",
       "      <td>STREET</td>\n",
       "      <td>False</td>\n",
       "      <td>False</td>\n",
       "      <td>19</td>\n",
       "      <td>2002</td>\n",
       "      <td>10.8</td>\n",
       "      <td>18.7</td>\n",
       "      <td>14.6</td>\n",
       "      <td>37.3</td>\n",
       "      <td>37.3</td>\n",
       "      <td>15461</td>\n",
       "      <td>70</td>\n",
       "    </tr>\n",
       "  </tbody>\n",
       "</table>\n",
       "</div>"
      ],
      "text/plain": [
       "         IUCR            Location Description Arrest Domestic  \\\n",
       "2512839  0820  PARKING LOT/GARAGE(NON.RESID.)  False    False   \n",
       "349925   1350         CHA PARKING LOT/GROUNDS   True    False   \n",
       "4455024  1320                          STREET   True    False   \n",
       "889343   1310                       APARTMENT  False     True   \n",
       "4911352  051A                          STREET  False    False   \n",
       "\n",
       "         Community Area Number  Year  PERCENT OF HOUSING CROWDED  \\\n",
       "2512839                     29  2004                         7.4   \n",
       "349925                       8  2009                         1.9   \n",
       "4455024                     22  2009                         3.2   \n",
       "889343                      68  2008                         3.8   \n",
       "4911352                     19  2002                        10.8   \n",
       "\n",
       "         PERCENT HOUSEHOLDS BELOW POVERTY  PERCENT AGED 16+ UNEMPLOYED  \\\n",
       "2512839                              43.1                         21.2   \n",
       "349925                               12.9                          7.0   \n",
       "4455024                              16.8                          8.2   \n",
       "889343                               46.6                         28.0   \n",
       "4911352                              18.7                         14.6   \n",
       "\n",
       "         PERCENT AGED 25+ WITHOUT HIGH SCHOOL DIPLOMA  \\\n",
       "2512839                                          27.6   \n",
       "349925                                            2.5   \n",
       "4455024                                          14.8   \n",
       "889343                                           28.5   \n",
       "4911352                                          37.3   \n",
       "\n",
       "         PERCENT AGED UNDER 18 OR OVER 64  PER CAPITA INCOME   HARDSHIP INDEX  \n",
       "2512839                              42.7               12034              87  \n",
       "349925                               22.6               88669               1  \n",
       "4455024                              26.2               31908              23  \n",
       "889343                               42.5               11888              94  \n",
       "4911352                              37.3               15461              70  "
      ]
     },
     "execution_count": 6,
     "metadata": {},
     "output_type": "execute_result"
    }
   ],
   "source": [
    "# Also resample to a smaller size for now\n",
    "num_records = 100000\n",
    "data = data_full.sample(num_records, replace=True)\n",
    "data = data.dropna()\n",
    "data.tail()"
   ]
  }
 ],
 "metadata": {
  "kernelspec": {
   "display_name": "Python 2",
   "language": "python",
   "name": "python2"
  },
  "language_info": {
   "codemirror_mode": {
    "name": "ipython",
    "version": 2
   },
   "file_extension": ".py",
   "mimetype": "text/x-python",
   "name": "python",
   "nbconvert_exporter": "python",
   "pygments_lexer": "ipython2",
   "version": "2.7.11"
  }
 },
 "nbformat": 4,
 "nbformat_minor": 0
}
