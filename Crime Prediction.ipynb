{
 "cells": [
  {
   "cell_type": "code",
   "execution_count": 15,
   "metadata": {
    "collapsed": false
   },
   "outputs": [],
   "source": [
    "# This file predicts Arrests using LogisticRegression (GridSearched to find best params).\n",
    "# Dataset: crimes.csv merged with poverty.csv"
   ]
  },
  {
   "cell_type": "code",
   "execution_count": 6,
   "metadata": {
    "collapsed": false
   },
   "outputs": [
    {
     "name": "stderr",
     "output_type": "stream",
     "text": [
      "/Users/nishanthshanmugham/anaconda2/lib/python2.7/site-packages/pandas/computation/__init__.py:19: UserWarning: The installed version of numexpr 2.4.4 is not supported in pandas and will be not be used\n",
      "\n",
      "  UserWarning)\n"
     ]
    }
   ],
   "source": [
    "import pandas as pd\n",
    "import numpy as np\n",
    "#!pip install pandas --upgrade\n",
    "df = pd.read_csv('crimes.csv')"
   ]
  },
  {
   "cell_type": "code",
   "execution_count": 7,
   "metadata": {
    "collapsed": false
   },
   "outputs": [
    {
     "data": {
      "text/html": [
       "<div>\n",
       "<table border=\"1\" class=\"dataframe\">\n",
       "  <thead>\n",
       "    <tr style=\"text-align: right;\">\n",
       "      <th></th>\n",
       "      <th>Community Area Number</th>\n",
       "      <th>PERCENT OF HOUSING CROWDED</th>\n",
       "      <th>PERCENT HOUSEHOLDS BELOW POVERTY</th>\n",
       "      <th>PERCENT AGED 16+ UNEMPLOYED</th>\n",
       "      <th>PERCENT AGED 25+ WITHOUT HIGH SCHOOL DIPLOMA</th>\n",
       "      <th>PERCENT AGED UNDER 18 OR OVER 64</th>\n",
       "      <th>PER CAPITA INCOME</th>\n",
       "      <th>HARDSHIP INDEX</th>\n",
       "    </tr>\n",
       "  </thead>\n",
       "  <tbody>\n",
       "    <tr>\n",
       "      <th>0</th>\n",
       "      <td>1.0</td>\n",
       "      <td>7.7</td>\n",
       "      <td>23.6</td>\n",
       "      <td>8.7</td>\n",
       "      <td>18.2</td>\n",
       "      <td>27.5</td>\n",
       "      <td>23939</td>\n",
       "      <td>39.0</td>\n",
       "    </tr>\n",
       "    <tr>\n",
       "      <th>1</th>\n",
       "      <td>2.0</td>\n",
       "      <td>7.8</td>\n",
       "      <td>17.2</td>\n",
       "      <td>8.8</td>\n",
       "      <td>20.8</td>\n",
       "      <td>38.5</td>\n",
       "      <td>23040</td>\n",
       "      <td>46.0</td>\n",
       "    </tr>\n",
       "    <tr>\n",
       "      <th>2</th>\n",
       "      <td>3.0</td>\n",
       "      <td>3.8</td>\n",
       "      <td>24.0</td>\n",
       "      <td>8.9</td>\n",
       "      <td>11.8</td>\n",
       "      <td>22.2</td>\n",
       "      <td>35787</td>\n",
       "      <td>20.0</td>\n",
       "    </tr>\n",
       "    <tr>\n",
       "      <th>3</th>\n",
       "      <td>4.0</td>\n",
       "      <td>3.4</td>\n",
       "      <td>10.9</td>\n",
       "      <td>8.2</td>\n",
       "      <td>13.4</td>\n",
       "      <td>25.5</td>\n",
       "      <td>37524</td>\n",
       "      <td>17.0</td>\n",
       "    </tr>\n",
       "    <tr>\n",
       "      <th>4</th>\n",
       "      <td>5.0</td>\n",
       "      <td>0.3</td>\n",
       "      <td>7.5</td>\n",
       "      <td>5.2</td>\n",
       "      <td>4.5</td>\n",
       "      <td>26.2</td>\n",
       "      <td>57123</td>\n",
       "      <td>6.0</td>\n",
       "    </tr>\n",
       "  </tbody>\n",
       "</table>\n",
       "</div>"
      ],
      "text/plain": [
       "   Community Area Number  PERCENT OF HOUSING CROWDED  \\\n",
       "0                    1.0                         7.7   \n",
       "1                    2.0                         7.8   \n",
       "2                    3.0                         3.8   \n",
       "3                    4.0                         3.4   \n",
       "4                    5.0                         0.3   \n",
       "\n",
       "   PERCENT HOUSEHOLDS BELOW POVERTY  PERCENT AGED 16+ UNEMPLOYED  \\\n",
       "0                              23.6                          8.7   \n",
       "1                              17.2                          8.8   \n",
       "2                              24.0                          8.9   \n",
       "3                              10.9                          8.2   \n",
       "4                               7.5                          5.2   \n",
       "\n",
       "   PERCENT AGED 25+ WITHOUT HIGH SCHOOL DIPLOMA  \\\n",
       "0                                          18.2   \n",
       "1                                          20.8   \n",
       "2                                          11.8   \n",
       "3                                          13.4   \n",
       "4                                           4.5   \n",
       "\n",
       "   PERCENT AGED UNDER 18 OR OVER 64  PER CAPITA INCOME   HARDSHIP INDEX  \n",
       "0                              27.5               23939            39.0  \n",
       "1                              38.5               23040            46.0  \n",
       "2                              22.2               35787            20.0  \n",
       "3                              25.5               37524            17.0  \n",
       "4                              26.2               57123             6.0  "
      ]
     },
     "execution_count": 7,
     "metadata": {},
     "output_type": "execute_result"
    }
   ],
   "source": [
    "poverty = pd.read_csv('poverty.csv')\n",
    "poverty = poverty.drop('COMMUNITY AREA NAME', 1)\n",
    "poverty.head()"
   ]
  },
  {
   "cell_type": "code",
   "execution_count": 8,
   "metadata": {
    "collapsed": false
   },
   "outputs": [],
   "source": [
    "# Remove unwanted columns from the data\n",
    "# Add 'Date' back in when RJ fixes the datetime converter\n",
    "useful_columns = ['IUCR', 'Location Description', 'Arrest', 'Domestic', 'Community Area', 'Year']\n",
    "data = df[useful_columns]"
   ]
  },
  {
   "cell_type": "code",
   "execution_count": 9,
   "metadata": {
    "collapsed": false
   },
   "outputs": [
    {
     "name": "stderr",
     "output_type": "stream",
     "text": [
      "/Users/nishanthshanmugham/anaconda2/lib/python2.7/site-packages/pandas/core/frame.py:2748: SettingWithCopyWarning: \n",
      "A value is trying to be set on a copy of a slice from a DataFrame\n",
      "\n",
      "See the caveats in the documentation: http://pandas.pydata.org/pandas-docs/stable/indexing.html#indexing-view-versus-copy\n",
      "  **kwargs)\n"
     ]
    }
   ],
   "source": [
    "# Merge with the poverty dataframe\n",
    "data.rename(columns={'Community Area': 'Community Area Number'}, inplace=True)\n",
    "data = pd.merge(data, poverty, how='right', on='Community Area Number')\n",
    "data.head()"
   ]
  },
  {
   "cell_type": "code",
   "execution_count": 12,
   "metadata": {
    "collapsed": false
   },
   "outputs": [
    {
     "data": {
      "text/html": [
       "<div>\n",
       "<table border=\"1\" class=\"dataframe\">\n",
       "  <thead>\n",
       "    <tr style=\"text-align: right;\">\n",
       "      <th></th>\n",
       "      <th>IUCR</th>\n",
       "      <th>Location Description</th>\n",
       "      <th>Arrest</th>\n",
       "      <th>Domestic</th>\n",
       "      <th>Community Area Number</th>\n",
       "      <th>Year</th>\n",
       "      <th>PERCENT OF HOUSING CROWDED</th>\n",
       "      <th>PERCENT HOUSEHOLDS BELOW POVERTY</th>\n",
       "      <th>PERCENT AGED 16+ UNEMPLOYED</th>\n",
       "      <th>PERCENT AGED 25+ WITHOUT HIGH SCHOOL DIPLOMA</th>\n",
       "      <th>PERCENT AGED UNDER 18 OR OVER 64</th>\n",
       "      <th>PER CAPITA INCOME</th>\n",
       "      <th>HARDSHIP INDEX</th>\n",
       "    </tr>\n",
       "  </thead>\n",
       "  <tbody>\n",
       "    <tr>\n",
       "      <th>0</th>\n",
       "      <td>312</td>\n",
       "      <td>133</td>\n",
       "      <td>0</td>\n",
       "      <td>1</td>\n",
       "      <td>30.0</td>\n",
       "      <td>2012</td>\n",
       "      <td>15.2</td>\n",
       "      <td>30.7</td>\n",
       "      <td>15.8</td>\n",
       "      <td>54.8</td>\n",
       "      <td>33.8</td>\n",
       "      <td>10402</td>\n",
       "      <td>96.0</td>\n",
       "    </tr>\n",
       "    <tr>\n",
       "      <th>1</th>\n",
       "      <td>81</td>\n",
       "      <td>149</td>\n",
       "      <td>1</td>\n",
       "      <td>0</td>\n",
       "      <td>30.0</td>\n",
       "      <td>2012</td>\n",
       "      <td>15.2</td>\n",
       "      <td>30.7</td>\n",
       "      <td>15.8</td>\n",
       "      <td>54.8</td>\n",
       "      <td>33.8</td>\n",
       "      <td>10402</td>\n",
       "      <td>96.0</td>\n",
       "    </tr>\n",
       "    <tr>\n",
       "      <th>2</th>\n",
       "      <td>41</td>\n",
       "      <td>153</td>\n",
       "      <td>0</td>\n",
       "      <td>0</td>\n",
       "      <td>30.0</td>\n",
       "      <td>2012</td>\n",
       "      <td>15.2</td>\n",
       "      <td>30.7</td>\n",
       "      <td>15.8</td>\n",
       "      <td>54.8</td>\n",
       "      <td>33.8</td>\n",
       "      <td>10402</td>\n",
       "      <td>96.0</td>\n",
       "    </tr>\n",
       "    <tr>\n",
       "      <th>3</th>\n",
       "      <td>257</td>\n",
       "      <td>149</td>\n",
       "      <td>1</td>\n",
       "      <td>0</td>\n",
       "      <td>30.0</td>\n",
       "      <td>2012</td>\n",
       "      <td>15.2</td>\n",
       "      <td>30.7</td>\n",
       "      <td>15.8</td>\n",
       "      <td>54.8</td>\n",
       "      <td>33.8</td>\n",
       "      <td>10402</td>\n",
       "      <td>96.0</td>\n",
       "    </tr>\n",
       "    <tr>\n",
       "      <th>4</th>\n",
       "      <td>41</td>\n",
       "      <td>153</td>\n",
       "      <td>0</td>\n",
       "      <td>0</td>\n",
       "      <td>30.0</td>\n",
       "      <td>2012</td>\n",
       "      <td>15.2</td>\n",
       "      <td>30.7</td>\n",
       "      <td>15.8</td>\n",
       "      <td>54.8</td>\n",
       "      <td>33.8</td>\n",
       "      <td>10402</td>\n",
       "      <td>96.0</td>\n",
       "    </tr>\n",
       "  </tbody>\n",
       "</table>\n",
       "</div>"
      ],
      "text/plain": [
       "   IUCR  Location Description  Arrest  Domestic  Community Area Number  Year  \\\n",
       "0   312                   133       0         1                   30.0  2012   \n",
       "1    81                   149       1         0                   30.0  2012   \n",
       "2    41                   153       0         0                   30.0  2012   \n",
       "3   257                   149       1         0                   30.0  2012   \n",
       "4    41                   153       0         0                   30.0  2012   \n",
       "\n",
       "   PERCENT OF HOUSING CROWDED  PERCENT HOUSEHOLDS BELOW POVERTY  \\\n",
       "0                        15.2                              30.7   \n",
       "1                        15.2                              30.7   \n",
       "2                        15.2                              30.7   \n",
       "3                        15.2                              30.7   \n",
       "4                        15.2                              30.7   \n",
       "\n",
       "   PERCENT AGED 16+ UNEMPLOYED  PERCENT AGED 25+ WITHOUT HIGH SCHOOL DIPLOMA  \\\n",
       "0                         15.8                                          54.8   \n",
       "1                         15.8                                          54.8   \n",
       "2                         15.8                                          54.8   \n",
       "3                         15.8                                          54.8   \n",
       "4                         15.8                                          54.8   \n",
       "\n",
       "   PERCENT AGED UNDER 18 OR OVER 64  PER CAPITA INCOME   HARDSHIP INDEX  \n",
       "0                              33.8               10402            96.0  \n",
       "1                              33.8               10402            96.0  \n",
       "2                              33.8               10402            96.0  \n",
       "3                              33.8               10402            96.0  \n",
       "4                              33.8               10402            96.0  "
      ]
     },
     "execution_count": 12,
     "metadata": {},
     "output_type": "execute_result"
    }
   ],
   "source": [
    "from sklearn.preprocessing import LabelEncoder\n",
    "features = ['IUCR', 'Location Description', 'Arrest', 'Domestic']\n",
    "for a in features:\n",
    "    le = LabelEncoder()\n",
    "    le.fit(data[a])\n",
    "    data[a] = le.transform(data[a])\n",
    "data.head()"
   ]
  },
  {
   "cell_type": "code",
   "execution_count": 16,
   "metadata": {
    "collapsed": false
   },
   "outputs": [],
   "source": [
    "from sklearn.cross_validation import train_test_split\n",
    "\n",
    "data = data.dropna()\n",
    "X = data.drop(['Arrest'], axis=1)\n",
    "y = data['Arrest'].astype(int)\n",
    "X_train, X_test, y_train, y_test = train_test_split(X, y, test_size=.33, random_state=42)"
   ]
  },
  {
   "cell_type": "code",
   "execution_count": 17,
   "metadata": {
    "collapsed": true
   },
   "outputs": [],
   "source": [
    "# Helper functions\n",
    "%matplotlib inline\n",
    "import matplotlib.pyplot as plt\n",
    "from sklearn.metrics import roc_curve, auc\n",
    "def plot_confusion_matrix(cm, title='Confusion matrix', cmap=plt.cm.Blues):\n",
    "    print(cm)\n",
    "    plt.imshow(cm, interpolation='nearest', cmap=cmap)\n",
    "    plt.title(title)\n",
    "    plt.colorbar()\n",
    "    tick_marks = np.arange(2)\n",
    "    plt.xticks(tick_marks, ['No Arrest', 'Arrest'], rotation=45)\n",
    "    plt.yticks(tick_marks, ['No Arrest', 'Arrest'])\n",
    "    plt.tight_layout()\n",
    "    plt.ylabel('True label')\n",
    "    plt.xlabel('Predicted label')\n",
    "def plot_roc(model):\n",
    "    model.fit(X_train, y_train)\n",
    "    predictions = model.predict_proba(X_test)\n",
    "    predictions = [x[1] for x in predictions]\n",
    "    false_positive_rate, true_positive_rate, thresholds = roc_curve(y_test, predictions)\n",
    "    roc_auc = auc(false_positive_rate, true_positive_rate)\n",
    "    plt.title('Receiver Operating Characteristic')\n",
    "    plt.plot(false_positive_rate, true_positive_rate, 'b',\n",
    "    label='AUC = %0.2f'% roc_auc)\n",
    "    plt.legend(loc='lower right')\n",
    "    plt.plot([0,1],[0,1],'r--')\n",
    "    plt.xlim([-0.1,1.2])\n",
    "    plt.ylim([-0.1,1.2])\n",
    "    plt.ylabel('True Positive Rate')\n",
    "    plt.xlabel('False Positive Rate')"
   ]
  },
  {
   "cell_type": "code",
   "execution_count": 18,
   "metadata": {
    "collapsed": false
   },
   "outputs": [],
   "source": [
    "# LogisticRegression with default params\n",
    "from sklearn.linear_model import LogisticRegression\n",
    "from sklearn import linear_model\n",
    "logr = linear_model.LogisticRegression()\n",
    "logr.fit(X_train, y_train)\n",
    "prediction = logr.predict(X_test)"
   ]
  },
  {
   "cell_type": "code",
   "execution_count": 19,
   "metadata": {
    "collapsed": false
   },
   "outputs": [
    {
     "data": {
      "text/plain": [
       "0.77267354298968105"
      ]
     },
     "execution_count": 19,
     "metadata": {},
     "output_type": "execute_result"
    }
   ],
   "source": [
    "logr.score(X_test, y_test)"
   ]
  },
  {
   "cell_type": "code",
   "execution_count": 20,
   "metadata": {
    "collapsed": false
   },
   "outputs": [
    {
     "data": {
      "image/png": "[encoded data removed]",
      "text/plain": [
       "<matplotlib.figure.Figure at 0x107fd8f10>"
      ]
     },
     "metadata": {},
     "output_type": "display_data"
    }
   ],
   "source": [
    "# ROC curve\n",
    "plot_roc(logr)"
   ]
  },
  {
   "cell_type": "code",
   "execution_count": null,
   "metadata": {
    "collapsed": false
   },
   "outputs": [],
   "source": [
    "# plot confusion matrix\n",
    "from sklearn.metrics import confusion_matrix\n",
    "cm = confusion_matrix(y_test, prediction)\n",
    "plot_confusion_matrix(cm, cmap=plt.cm.Greens)"
   ]
  },
  {
   "cell_type": "code",
   "execution_count": 22,
   "metadata": {
    "collapsed": true
   },
   "outputs": [],
   "source": [
    "# Metric for GridSearchCV\n",
    "from sklearn.metrics import confusion_matrix\n",
    "from __future__ import division\n",
    "def cm_loss(estimator, X, y):\n",
    "    predictions = estimator.predict(X)\n",
    "    cm = confusion_matrix(y, predictions)\n",
    "    totals = np.sum(cm, 1)\n",
    "    no_acc = cm[0, 0] / totals[0]\n",
    "    yes_acc = cm[1, 1] / totals[1]\n",
    "    return (no_acc + yes_acc)/2"
   ]
  },
  {
   "cell_type": "code",
   "execution_count": 14,
   "metadata": {
    "collapsed": false
   },
   "outputs": [
    {
     "name": "stdout",
     "output_type": "stream",
     "text": [
      "Fitting 5 folds for each of 10 candidates, totalling 50 fits\n",
      "[CV] penalty=l2, C=0.001 .............................................\n",
      "[CV] .................... penalty=l2, C=0.001, score=0.661383 -  25.1s\n",
      "[Parallel(n_jobs=1)]: Done   1 tasks       | elapsed:   25.2s\n",
      "[CV] penalty=l2, C=0.001 .............................................\n",
      "[CV] .................... penalty=l2, C=0.001, score=0.662341 -  25.5s\n",
      "[Parallel(n_jobs=1)]: Done   2 tasks       | elapsed:   50.8s\n",
      "[CV] penalty=l2, C=0.001 .............................................\n",
      "[CV] .................... penalty=l2, C=0.001, score=0.661261 -  24.8s\n",
      "[Parallel(n_jobs=1)]: Done   3 tasks       | elapsed:  1.3min\n",
      "[CV] penalty=l2, C=0.001 .............................................\n",
      "[CV] .................... penalty=l2, C=0.001, score=0.663028 -  25.1s\n",
      "[Parallel(n_jobs=1)]: Done   4 tasks       | elapsed:  1.7min\n",
      "[CV] penalty=l2, C=0.001 .............................................\n",
      "[CV] .................... penalty=l2, C=0.001, score=0.662792 -  26.2s\n",
      "[Parallel(n_jobs=1)]: Done   5 tasks       | elapsed:  2.1min\n",
      "[CV] penalty=l1, C=0.001 .............................................\n",
      "[CV] .................... penalty=l1, C=0.001, score=0.666052 - 4.1min\n",
      "[Parallel(n_jobs=1)]: Done   6 tasks       | elapsed:  6.2min\n",
      "[CV] penalty=l1, C=0.001 .............................................\n",
      "[CV] .................... penalty=l1, C=0.001, score=0.666210 - 2.9min\n",
      "[Parallel(n_jobs=1)]: Done   7 tasks       | elapsed:  9.1min\n",
      "[CV] penalty=l1, C=0.001 .............................................\n",
      "[CV] .................... penalty=l1, C=0.001, score=0.666162 - 5.2min\n",
      "[Parallel(n_jobs=1)]: Done   8 tasks       | elapsed: 14.3min\n",
      "[CV] penalty=l1, C=0.001 .............................................\n",
      "[CV] .................... penalty=l1, C=0.001, score=0.667033 - 4.0min\n",
      "[Parallel(n_jobs=1)]: Done   9 tasks       | elapsed: 18.3min\n",
      "[CV] penalty=l1, C=0.001 .............................................\n",
      "[CV] .................... penalty=l1, C=0.001, score=0.666759 - 3.0min\n",
      "[Parallel(n_jobs=1)]: Done  10 tasks       | elapsed: 21.3min\n",
      "[CV] penalty=l2, C=0.01 ..............................................\n",
      "[CV] ..................... penalty=l2, C=0.01, score=0.661366 -  22.9s\n",
      "[Parallel(n_jobs=1)]: Done  11 tasks       | elapsed: 21.7min\n",
      "[CV] penalty=l2, C=0.01 ..............................................\n",
      "[CV] ..................... penalty=l2, C=0.01, score=0.662341 -  22.5s\n",
      "[Parallel(n_jobs=1)]: Done  12 tasks       | elapsed: 22.1min\n",
      "[CV] penalty=l2, C=0.01 ..............................................\n",
      "[CV] ..................... penalty=l2, C=0.01, score=0.661399 -  21.4s\n",
      "[Parallel(n_jobs=1)]: Done  13 tasks       | elapsed: 22.4min\n",
      "[CV] penalty=l2, C=0.01 ..............................................\n",
      "[CV] ..................... penalty=l2, C=0.01, score=0.663022 -59.9min\n",
      "[Parallel(n_jobs=1)]: Done  14 tasks       | elapsed: 82.3min\n",
      "[CV] penalty=l2, C=0.01 ..............................................\n",
      "[CV] ..................... penalty=l2, C=0.01, score=0.660557 -  22.4s\n",
      "[Parallel(n_jobs=1)]: Done  15 tasks       | elapsed: 82.7min\n",
      "[CV] penalty=l1, C=0.01 ..............................................\n",
      "[CV] ..................... penalty=l1, C=0.01, score=0.665925 -25.7min\n",
      "[Parallel(n_jobs=1)]: Done  16 tasks       | elapsed: 108.4min\n",
      "[CV] penalty=l1, C=0.01 ..............................................\n",
      "[CV] ..................... penalty=l1, C=0.01, score=0.666205 - 1.3min\n",
      "[Parallel(n_jobs=1)]: Done  17 tasks       | elapsed: 109.7min\n",
      "[CV] penalty=l1, C=0.01 ..............................................\n",
      "[CV] ..................... penalty=l1, C=0.01, score=0.666320 - 1.7min\n",
      "[Parallel(n_jobs=1)]: Done  18 tasks       | elapsed: 111.4min\n",
      "[CV] penalty=l1, C=0.01 ..............................................\n",
      "[CV] ..................... penalty=l1, C=0.01, score=0.667129 - 1.5min\n",
      "[Parallel(n_jobs=1)]: Done  19 tasks       | elapsed: 112.9min\n",
      "[CV] penalty=l1, C=0.01 ..............................................\n",
      "[CV] ..................... penalty=l1, C=0.01, score=0.666713 - 2.4min\n",
      "[Parallel(n_jobs=1)]: Done  20 tasks       | elapsed: 115.2min\n",
      "[CV] penalty=l2, C=1 .................................................\n",
      "[CV] ........................ penalty=l2, C=1, score=0.661403 -  23.1s\n",
      "[Parallel(n_jobs=1)]: Done  21 tasks       | elapsed: 115.6min\n",
      "[CV] penalty=l2, C=1 .................................................\n",
      "[CV] ........................ penalty=l2, C=1, score=0.662348 -  22.9s\n",
      "[Parallel(n_jobs=1)]: Done  22 tasks       | elapsed: 116.0min\n",
      "[CV] penalty=l2, C=1 .................................................\n",
      "[CV] ........................ penalty=l2, C=1, score=0.661306 -  23.0s\n",
      "[Parallel(n_jobs=1)]: Done  23 tasks       | elapsed: 116.4min\n",
      "[CV] penalty=l2, C=1 .................................................\n",
      "[CV] ........................ penalty=l2, C=1, score=0.663022 -  23.0s\n",
      "[Parallel(n_jobs=1)]: Done  24 tasks       | elapsed: 116.8min\n",
      "[CV] penalty=l2, C=1 .................................................\n",
      "[CV] ........................ penalty=l2, C=1, score=0.662326 -  23.2s\n",
      "[Parallel(n_jobs=1)]: Done  25 tasks       | elapsed: 117.2min\n",
      "[CV] penalty=l1, C=1 .................................................\n",
      "[CV] ........................ penalty=l1, C=1, score=0.666030 -  59.7s\n",
      "[Parallel(n_jobs=1)]: Done  26 tasks       | elapsed: 118.2min\n",
      "[CV] penalty=l1, C=1 .................................................\n",
      "[CV] ........................ penalty=l1, C=1, score=0.666203 -  54.3s\n",
      "[Parallel(n_jobs=1)]: Done  27 tasks       | elapsed: 119.1min\n",
      "[CV] penalty=l1, C=1 .................................................\n",
      "[CV] ........................ penalty=l1, C=1, score=0.666177 -27.6min\n",
      "[Parallel(n_jobs=1)]: Done  28 tasks       | elapsed: 146.6min\n",
      "[CV] penalty=l1, C=1 .................................................\n",
      "[CV] ........................ penalty=l1, C=1, score=0.667104 -  59.8s\n",
      "[Parallel(n_jobs=1)]: Done  29 tasks       | elapsed: 147.6min\n",
      "[CV] penalty=l1, C=1 .................................................\n",
      "[CV] ........................ penalty=l1, C=1, score=0.666518 -  55.0s\n",
      "[Parallel(n_jobs=1)]: Done  30 tasks       | elapsed: 148.5min\n",
      "[CV] penalty=l2, C=5 .................................................\n",
      "[CV] ........................ penalty=l2, C=5, score=0.661495 -  22.4s\n",
      "[Parallel(n_jobs=1)]: Done  31 tasks       | elapsed: 148.9min\n",
      "[CV] penalty=l2, C=5 .................................................\n",
      "[CV] ........................ penalty=l2, C=5, score=0.662217 -  23.6s\n",
      "[Parallel(n_jobs=1)]: Done  32 tasks       | elapsed: 149.3min\n",
      "[CV] penalty=l2, C=5 .................................................\n",
      "[CV] ........................ penalty=l2, C=5, score=0.661301 -  22.9s\n",
      "[Parallel(n_jobs=1)]: Done  33 tasks       | elapsed: 149.7min\n",
      "[CV] penalty=l2, C=5 .................................................\n",
      "[CV] ........................ penalty=l2, C=5, score=0.663025 -  22.0s\n",
      "[Parallel(n_jobs=1)]: Done  34 tasks       | elapsed: 150.1min\n",
      "[CV] penalty=l2, C=5 .................................................\n",
      "[CV] ........................ penalty=l2, C=5, score=0.662339 -12.9min\n",
      "[Parallel(n_jobs=1)]: Done  35 tasks       | elapsed: 163.0min\n",
      "[CV] penalty=l1, C=5 .................................................\n",
      "[CV] ........................ penalty=l1, C=5, score=0.666089 - 1.3min\n",
      "[Parallel(n_jobs=1)]: Done  36 tasks       | elapsed: 164.3min\n",
      "[CV] penalty=l1, C=5 .................................................\n",
      "[CV] ........................ penalty=l1, C=5, score=0.666186 - 1.4min\n",
      "[Parallel(n_jobs=1)]: Done  37 tasks       | elapsed: 165.7min\n",
      "[CV] penalty=l1, C=5 .................................................\n",
      "[CV] ........................ penalty=l1, C=5, score=0.666290 - 1.6min\n",
      "[Parallel(n_jobs=1)]: Done  38 tasks       | elapsed: 167.3min\n",
      "[CV] penalty=l1, C=5 .................................................\n",
      "[CV] ........................ penalty=l1, C=5, score=0.667110 - 1.4min\n",
      "[Parallel(n_jobs=1)]: Done  39 tasks       | elapsed: 168.7min\n",
      "[CV] penalty=l1, C=5 .................................................\n",
      "[CV] ........................ penalty=l1, C=5, score=0.666728 - 4.1min\n",
      "[Parallel(n_jobs=1)]: Done  40 tasks       | elapsed: 172.7min\n",
      "[CV] penalty=l2, C=10 ................................................\n",
      "[CV] ....................... penalty=l2, C=10, score=0.661383 -  27.6s\n",
      "[Parallel(n_jobs=1)]: Done  41 tasks       | elapsed: 173.2min\n",
      "[CV] penalty=l2, C=10 ................................................\n",
      "[CV] ....................... penalty=l2, C=10, score=0.662129 -  24.1s\n",
      "[Parallel(n_jobs=1)]: Done  42 tasks       | elapsed: 173.6min\n",
      "[CV] penalty=l2, C=10 ................................................\n",
      "[CV] ....................... penalty=l2, C=10, score=0.661301 -  23.5s\n",
      "[Parallel(n_jobs=1)]: Done  43 tasks       | elapsed: 174.0min\n",
      "[CV] penalty=l2, C=10 ................................................\n",
      "[CV] ....................... penalty=l2, C=10, score=0.662996 -  27.5s\n",
      "[Parallel(n_jobs=1)]: Done  44 tasks       | elapsed: 174.5min\n",
      "[CV] penalty=l2, C=10 ................................................\n",
      "[CV] ....................... penalty=l2, C=10, score=0.662325 -  25.4s\n",
      "[Parallel(n_jobs=1)]: Done  45 tasks       | elapsed: 174.9min\n",
      "[CV] penalty=l1, C=10 ................................................\n",
      "[CV] ....................... penalty=l1, C=10, score=0.666004 - 1.2min\n",
      "[Parallel(n_jobs=1)]: Done  46 tasks       | elapsed: 176.1min\n",
      "[CV] penalty=l1, C=10 ................................................\n",
      "[CV] ....................... penalty=l1, C=10, score=0.666304 - 1.4min\n",
      "[Parallel(n_jobs=1)]: Done  47 tasks       | elapsed: 177.4min\n",
      "[CV] penalty=l1, C=10 ................................................\n",
      "[CV] ....................... penalty=l1, C=10, score=0.666173 - 1.4min\n",
      "[Parallel(n_jobs=1)]: Done  48 tasks       | elapsed: 178.8min\n",
      "[CV] penalty=l1, C=10 ................................................\n",
      "[CV] ....................... penalty=l1, C=10, score=0.667185 -  47.5s\n",
      "[Parallel(n_jobs=1)]: Done  49 tasks       | elapsed: 179.6min\n",
      "[CV] penalty=l1, C=10 ................................................\n",
      "[CV] ....................... penalty=l1, C=10, score=0.666779 -  44.5s\n",
      "[Parallel(n_jobs=1)]: Done  50 tasks       | elapsed: 180.3min\n",
      "[Parallel(n_jobs=1)]: Done  50 out of  50 | elapsed: 180.3min finished\n",
      "LogisticRegression(C=10, class_weight=None, dual=False, fit_intercept=True,\n",
      "          intercept_scaling=1, max_iter=100, multi_class='ovr', n_jobs=-1,\n",
      "          penalty='l1', random_state=None, solver='liblinear', tol=0.0001,\n",
      "          verbose=0, warm_start=False)\n"
     ]
    }
   ],
   "source": [
    "# Don't run unless absolutely necessary\n",
    "\n",
    "# GridSearchCV for best LR params\n",
    "# Instead, consider copying the last line of the output and using it as the model\n",
    "# WARN: takes 20 minutes–2 hours :)\n",
    "from sklearn.grid_search import GridSearchCV\n",
    "logr = LogisticRegression(n_jobs=-1, class_weight='balanced')\n",
    "parameters = {'C':[.001, .01, 1, 5, 10], 'penalty': ['l2', 'l1']}\n",
    "clf = GridSearchCV(logr, parameters, scoring=cm_loss, cv=5, verbose=100)\n",
    "clf.fit(X_train, y_train)\n",
    "print clf.best_estimator_"
   ]
  },
  {
   "cell_type": "code",
   "execution_count": 26,
   "metadata": {
    "collapsed": false
   },
   "outputs": [
    {
     "name": "stdout",
     "output_type": "stream",
     "text": [
      "0.74569131179\n"
     ]
    },
    {
     "data": {
      "image/png": "[encoded data removed]",
      "text/plain": [
       "<matplotlib.figure.Figure at 0x10c27e4d0>"
      ]
     },
     "metadata": {},
     "output_type": "display_data"
    }
   ],
   "source": [
    "# TODO: Actually run GridSearchCV again with class_weight='balanced'.\n",
    "best_logr = LogisticRegression(C=10, class_weight='balanced', dual=False, fit_intercept=True,\n",
    "          intercept_scaling=1, max_iter=100, multi_class='ovr', n_jobs=-1,\n",
    "          penalty='l1', random_state=None, solver='liblinear', tol=0.0001,\n",
    "          verbose=0, warm_start=False)\n",
    "best_logr.fit(X_train, y_train)\n",
    "prediction = best_logr.predict(X_test)\n",
    "print best_logr.score(X_test, y_test)\n",
    "plot_roc(best_logr)"
   ]
  },
  {
   "cell_type": "code",
   "execution_count": null,
   "metadata": {
    "collapsed": false
   },
   "outputs": [],
   "source": [
    "cm = confusion_matrix(prediction, y_test)\n",
    "plot_confusion_matrix(cm, cmap=plt.cm.Greens)"
   ]
  }
 ],
 "metadata": {
  "kernelspec": {
   "display_name": "Python 2",
   "language": "python",
   "name": "python2"
  },
  "language_info": {
   "codemirror_mode": {
    "name": "ipython",
    "version": 2
   },
   "file_extension": ".py",
   "mimetype": "text/x-python",
   "name": "python",
   "nbconvert_exporter": "python",
   "pygments_lexer": "ipython2",
   "version": "2.7.11"
  }
 },
 "nbformat": 4,
 "nbformat_minor": 0
}
