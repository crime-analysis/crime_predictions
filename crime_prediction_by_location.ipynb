{
 "cells": [
  {
   "cell_type": "markdown",
   "metadata": {},
   "source": [
    "### Predict the location of the next crime in a series based on previous crimes. This uses a time weighted Kernel Density Estimation to determine the approximate location of next events. The idea for this method can be found in this paper: \n",
    "http://www.academia.edu/1926355/Evaluating_temporally_weighted_kernel_density_methods_for_predicting_the_next_event_location_in_a_series"
   ]
  },
  {
   "cell_type": "code",
   "execution_count": 1,
   "metadata": {
    "collapsed": false
   },
   "outputs": [],
   "source": [
    "# Get time data\n",
    "import pandas as pd\n",
    "times = pd.HDFStore('store.h5')\n",
    "times = times['data_subset']"
   ]
  },
  {
   "cell_type": "code",
   "execution_count": 54,
   "metadata": {
    "collapsed": false
   },
   "outputs": [],
   "source": [
    "import pandas as pd\n",
    "import numpy as np\n",
    "#!pip install pandas --upgrade\n",
    "\n",
    "data_full = pd.read_csv('crimes.csv')"
   ]
  },
  {
   "cell_type": "code",
   "execution_count": 55,
   "metadata": {
    "collapsed": false
   },
   "outputs": [],
   "source": [
    "#  Remove unwanted columns from the data\n",
    "# Add 'Date' back in when RJ fixes the datetime converter\n",
    "useful_columns = ['X Coordinate', 'Y Coordinate', 'Date', 'Community Area', 'IUCR']\n",
    "data_full = data_full[useful_columns]"
   ]
  },
  {
   "cell_type": "code",
   "execution_count": null,
   "metadata": {
    "collapsed": false
   },
   "outputs": [],
   "source": [
    "data_full = pd.merge(data_full, times, how='right', on='Date')\n",
    "data_full.head()"
   ]
  },
  {
   "cell_type": "code",
   "execution_count": 5,
   "metadata": {
    "collapsed": false
   },
   "outputs": [
    {
     "data": {
      "text/html": [
       "<div>\n",
       "<table border=\"1\" class=\"dataframe\">\n",
       "  <thead>\n",
       "    <tr style=\"text-align: right;\">\n",
       "      <th></th>\n",
       "      <th>X Coordinate</th>\n",
       "      <th>Y Coordinate</th>\n",
       "      <th>Date</th>\n",
       "      <th>Community Area</th>\n",
       "      <th>Year</th>\n",
       "      <th>Month</th>\n",
       "      <th>Day</th>\n",
       "      <th>Hour</th>\n",
       "    </tr>\n",
       "  </thead>\n",
       "  <tbody>\n",
       "    <tr>\n",
       "      <th>41554275</th>\n",
       "      <td>1139391.0</td>\n",
       "      <td>1904361.0</td>\n",
       "      <td>02/05/2009 12:00:00 PM</td>\n",
       "      <td>25.0</td>\n",
       "      <td>2009</td>\n",
       "      <td>02</td>\n",
       "      <td>4</td>\n",
       "      <td>12</td>\n",
       "    </tr>\n",
       "    <tr>\n",
       "      <th>41922628</th>\n",
       "      <td>1145011.0</td>\n",
       "      <td>1910225.0</td>\n",
       "      <td>06/16/2008 09:00:00 AM</td>\n",
       "      <td>25.0</td>\n",
       "      <td>2008</td>\n",
       "      <td>06</td>\n",
       "      <td>1</td>\n",
       "      <td>09</td>\n",
       "    </tr>\n",
       "    <tr>\n",
       "      <th>45013628</th>\n",
       "      <td>1141223.0</td>\n",
       "      <td>1904450.0</td>\n",
       "      <td>09/13/2008 12:00:00 AM</td>\n",
       "      <td>25.0</td>\n",
       "      <td>2008</td>\n",
       "      <td>09</td>\n",
       "      <td>6</td>\n",
       "      <td>00</td>\n",
       "    </tr>\n",
       "    <tr>\n",
       "      <th>17691566</th>\n",
       "      <td>1139900.0</td>\n",
       "      <td>1899029.0</td>\n",
       "      <td>08/11/2002 12:00:00 PM</td>\n",
       "      <td>25.0</td>\n",
       "      <td>2002</td>\n",
       "      <td>08</td>\n",
       "      <td>0</td>\n",
       "      <td>12</td>\n",
       "    </tr>\n",
       "    <tr>\n",
       "      <th>24699309</th>\n",
       "      <td>1145436.0</td>\n",
       "      <td>1897949.0</td>\n",
       "      <td>02/19/2004 03:50:00 AM</td>\n",
       "      <td>25.0</td>\n",
       "      <td>2004</td>\n",
       "      <td>02</td>\n",
       "      <td>4</td>\n",
       "      <td>03</td>\n",
       "    </tr>\n",
       "  </tbody>\n",
       "</table>\n",
       "</div>"
      ],
      "text/plain": [
       "          X Coordinate  Y Coordinate                    Date  Community Area  \\\n",
       "41554275     1139391.0     1904361.0  02/05/2009 12:00:00 PM            25.0   \n",
       "41922628     1145011.0     1910225.0  06/16/2008 09:00:00 AM            25.0   \n",
       "45013628     1141223.0     1904450.0  09/13/2008 12:00:00 AM            25.0   \n",
       "17691566     1139900.0     1899029.0  08/11/2002 12:00:00 PM            25.0   \n",
       "24699309     1145436.0     1897949.0  02/19/2004 03:50:00 AM            25.0   \n",
       "\n",
       "          Year Month Day Hour  \n",
       "41554275  2009    02   4   12  \n",
       "41922628  2008    06   1   09  \n",
       "45013628  2008    09   6   00  \n",
       "17691566  2002    08   0   12  \n",
       "24699309  2004    02   4   03  "
      ]
     },
     "execution_count": 5,
     "metadata": {},
     "output_type": "execute_result"
    }
   ],
   "source": [
    "# Also resample to a smaller size for now\n",
    "sample_size = 5000\n",
    "data = data_full[data_full['Community Area'] == 25]\n",
    "data = data[data['']]\n",
    "data = data.sample(sample_size)\n",
    "data = data.dropna()\n",
    "data = data[data['X Coordinate'] != 0]\n",
    "data.tail()"
   ]
  },
  {
   "cell_type": "code",
   "execution_count": 6,
   "metadata": {
    "collapsed": false
   },
   "outputs": [
    {
     "data": {
      "text/plain": [
       "4882"
      ]
     },
     "execution_count": 6,
     "metadata": {},
     "output_type": "execute_result"
    }
   ],
   "source": [
    "len(data)"
   ]
  },
  {
   "cell_type": "code",
   "execution_count": 7,
   "metadata": {
    "collapsed": false
   },
   "outputs": [],
   "source": [
    "from sklearn.cross_validation import train_test_split\n",
    "\n",
    "indep_var = data.columns.values\n",
    "X = data[indep_var]\n",
    "# Split into test and training data\n",
    "X_train, X_test = train_test_split(X, test_size=0.33, random_state=42)"
   ]
  },
  {
   "cell_type": "code",
   "execution_count": 12,
   "metadata": {
    "collapsed": false
   },
   "outputs": [],
   "source": [
    "from sklearn.neighbors import KernelDensity\n",
    "from sklearn.grid_search import GridSearchCV\n",
    "\n",
    "options = {'bandwidth': [2, 5, 10, 20, 70, 100, 120, 200, 500]}\n",
    "kd = KernelDensity()\n",
    "clf = GridSearchCV(kd, options)"
   ]
  },
  {
   "cell_type": "code",
   "execution_count": 13,
   "metadata": {
    "collapsed": false
   },
   "outputs": [
    {
     "data": {
      "text/plain": [
       "GridSearchCV(cv=None, error_score='raise',\n",
       "       estimator=KernelDensity(algorithm='auto', atol=0, bandwidth=1.0, breadth_first=True,\n",
       "       kernel='gaussian', leaf_size=40, metric='euclidean',\n",
       "       metric_params=None, rtol=0),\n",
       "       fit_params={}, iid=True, n_jobs=1,\n",
       "       param_grid={'bandwidth': [2, 5, 10, 20, 70, 100, 120, 200, 500]},\n",
       "       pre_dispatch='2*n_jobs', refit=True, scoring=None, verbose=0)"
      ]
     },
     "execution_count": 13,
     "metadata": {},
     "output_type": "execute_result"
    }
   ],
   "source": [
    "X_loc = X_train[['X Coordinate', 'Y Coordinate']]\n",
    "clf.fit(X_loc)"
   ]
  },
  {
   "cell_type": "code",
   "execution_count": 14,
   "metadata": {
    "collapsed": false
   },
   "outputs": [
    {
     "data": {
      "text/plain": [
       "KernelDensity(algorithm='auto', atol=0, bandwidth=100, breadth_first=True,\n",
       "       kernel='gaussian', leaf_size=40, metric='euclidean',\n",
       "       metric_params=None, rtol=0)"
      ]
     },
     "execution_count": 14,
     "metadata": {},
     "output_type": "execute_result"
    }
   ],
   "source": [
    "clf.best_estimator_"
   ]
  },
  {
   "cell_type": "code",
   "execution_count": 15,
   "metadata": {
    "collapsed": false
   },
   "outputs": [
    {
     "data": {
      "text/plain": [
       "-30245.630277780212"
      ]
     },
     "execution_count": 15,
     "metadata": {},
     "output_type": "execute_result"
    }
   ],
   "source": [
    "clf.best_score_"
   ]
  },
  {
   "cell_type": "code",
   "execution_count": 42,
   "metadata": {
    "collapsed": false
   },
   "outputs": [
    {
     "data": {
      "text/html": [
       "\n",
       "    <div class=\"bk-banner\">\n",
       "        <a href=\"http://bokeh.pydata.org\" target=\"_blank\" class=\"bk-logo bk-logo-small bk-logo-notebook\"></a>\n",
       "        <span id=\"9e3efea6-3f32-42a2-b4f5-f3788868dc88\">Loading BokehJS ...</span>\n",
       "    </div>"
      ]
     },
     "metadata": {},
     "output_type": "display_data"
    },
    {
     "data": {
      "application/javascript": [
       "\n",
       "(function(global) {\n",
       "  function now() {\n",
       "    return new Date();\n",
       "  }\n",
       "\n",
       "  if (typeof (window._bokeh_onload_callbacks) === \"undefined\") {\n",
       "    window._bokeh_onload_callbacks = [];\n",
       "  }\n",
       "\n",
       "  function run_callbacks() {\n",
       "    window._bokeh_onload_callbacks.forEach(function(callback) { callback() });\n",
       "    delete window._bokeh_onload_callbacks\n",
       "    console.info(\"Bokeh: all callbacks have finished\");\n",
       "  }\n",
       "\n",
       "  function load_libs(js_urls, callback) {\n",
       "    window._bokeh_onload_callbacks.push(callback);\n",
       "    if (window._bokeh_is_loading > 0) {\n",
       "      console.log(\"Bokeh: BokehJS is being loaded, scheduling callback at\", now());\n",
       "      return null;\n",
       "    }\n",
       "    if (js_urls == null || js_urls.length === 0) {\n",
       "      run_callbacks();\n",
       "      return null;\n",
       "    }\n",
       "    console.log(\"Bokeh: BokehJS not loaded, scheduling load and callback at\", now());\n",
       "    window._bokeh_is_loading = js_urls.length;\n",
       "    for (var i = 0; i < js_urls.length; i++) {\n",
       "      var url = js_urls[i];\n",
       "      var s = document.createElement('script');\n",
       "      s.src = url;\n",
       "      s.async = false;\n",
       "      s.onreadystatechange = s.onload = function() {\n",
       "        window._bokeh_is_loading--;\n",
       "        if (window._bokeh_is_loading === 0) {\n",
       "          console.log(\"Bokeh: all BokehJS libraries loaded\");\n",
       "          run_callbacks()\n",
       "        }\n",
       "      };\n",
       "      s.onerror = function() {\n",
       "        console.warn(\"failed to load library \" + url);\n",
       "      };\n",
       "      console.log(\"Bokeh: injecting script tag for BokehJS library: \", url);\n",
       "      document.getElementsByTagName(\"head\")[0].appendChild(s);\n",
       "    }\n",
       "  };\n",
       "\n",
       "  var js_urls = ['https://cdn.pydata.org/bokeh/release/bokeh-0.11.1.min.js', 'https://cdn.pydata.org/bokeh/release/bokeh-widgets-0.11.1.min.js', 'https://cdn.pydata.org/bokeh/release/bokeh-compiler-0.11.1.min.js'];\n",
       "\n",
       "  var inline_js = [\n",
       "    function(Bokeh) {\n",
       "      Bokeh.set_log_level(\"info\");\n",
       "    },\n",
       "    \n",
       "    function(Bokeh) {\n",
       "      Bokeh.$(\"#9e3efea6-3f32-42a2-b4f5-f3788868dc88\").text(\"BokehJS successfully loaded\");\n",
       "    },\n",
       "    function(Bokeh) {\n",
       "      console.log(\"Bokeh: injecting CSS: https://cdn.pydata.org/bokeh/release/bokeh-0.11.1.min.css\");\n",
       "      Bokeh.embed.inject_css(\"https://cdn.pydata.org/bokeh/release/bokeh-0.11.1.min.css\");\n",
       "      console.log(\"Bokeh: injecting CSS: https://cdn.pydata.org/bokeh/release/bokeh-widgets-0.11.1.min.css\");\n",
       "      Bokeh.embed.inject_css(\"https://cdn.pydata.org/bokeh/release/bokeh-widgets-0.11.1.min.css\");\n",
       "    }\n",
       "  ];\n",
       "\n",
       "  function run_inline_js() {\n",
       "    for (var i = 0; i < inline_js.length; i++) {\n",
       "      inline_js[i](window.Bokeh);\n",
       "    }\n",
       "  }\n",
       "\n",
       "  if (window._bokeh_is_loading === 0) {\n",
       "    console.log(\"Bokeh: BokehJS loaded, going straight to plotting\");\n",
       "    run_inline_js();\n",
       "  } else {\n",
       "    load_libs(js_urls, function() {\n",
       "      console.log(\"Bokeh: BokehJS plotting callback run at\", now());\n",
       "      run_inline_js();\n",
       "    });\n",
       "  }\n",
       "}(this));"
      ]
     },
     "metadata": {},
     "output_type": "display_data"
    }
   ],
   "source": [
    "%matplotlib inline\n",
    "import numpy as np\n",
    "from bokeh.plotting import figure, output_notebook, show\n",
    "import matplotlib.pyplot as plt\n",
    "output_notebook()\n",
    "\n",
    "def histogram(x,colors=None):\n",
    "    hist,edges = np.histogram(x, bins=100)\n",
    "    p = figure(y_axis_label=\"Pixels\",\n",
    "               tools='', height=130, outline_line_color=None,\n",
    "               min_border=0, min_border_left=0, min_border_right=0,\n",
    "               min_border_top=0, min_border_bottom=0)\n",
    "    p.quad(top=hist[1:], bottom=0, left=edges[1:-1], right=edges[2:])\n",
    "    print(\"min: {}, max: {}\".format(np.min(x),np.max(x)))\n",
    "    show(p)\n",
    "    \n",
    "def histogram2d(x, y, colors=None):\n",
    "    plt.hist2d(x, y, bins=50)\n",
    "    plt.show()"
   ]
  },
  {
   "cell_type": "code",
   "execution_count": 20,
   "metadata": {
    "collapsed": false
   },
   "outputs": [
    {
     "name": "stdout",
     "output_type": "stream",
     "text": [
      "min: 1127702.0, max: 1145800.0\n"
     ]
    },
    {
     "data": {
      "text/html": [
       "\n",
       "\n",
       "    <div class=\"plotdiv\" id=\"6029adbf-30f1-480b-ae96-521cc05080d5\"></div>\n",
       "<script type=\"text/javascript\">\n",
       "  \n",
       "  (function(global) {\n",
       "    function now() {\n",
       "      return new Date();\n",
       "    }\n",
       "  \n",
       "    if (typeof (window._bokeh_onload_callbacks) === \"undefined\") {\n",
       "      window._bokeh_onload_callbacks = [];\n",
       "    }\n",
       "  \n",
       "    function run_callbacks() {\n",
       "      window._bokeh_onload_callbacks.forEach(function(callback) { callback() });\n",
       "      delete window._bokeh_onload_callbacks\n",
       "      console.info(\"Bokeh: all callbacks have finished\");\n",
       "    }\n",
       "  \n",
       "    function load_libs(js_urls, callback) {\n",
       "      window._bokeh_onload_callbacks.push(callback);\n",
       "      if (window._bokeh_is_loading > 0) {\n",
       "        console.log(\"Bokeh: BokehJS is being loaded, scheduling callback at\", now());\n",
       "        return null;\n",
       "      }\n",
       "      if (js_urls == null || js_urls.length === 0) {\n",
       "        run_callbacks();\n",
       "        return null;\n",
       "      }\n",
       "      console.log(\"Bokeh: BokehJS not loaded, scheduling load and callback at\", now());\n",
       "      window._bokeh_is_loading = js_urls.length;\n",
       "      for (var i = 0; i < js_urls.length; i++) {\n",
       "        var url = js_urls[i];\n",
       "        var s = document.createElement('script');\n",
       "        s.src = url;\n",
       "        s.async = false;\n",
       "        s.onreadystatechange = s.onload = function() {\n",
       "          window._bokeh_is_loading--;\n",
       "          if (window._bokeh_is_loading === 0) {\n",
       "            console.log(\"Bokeh: all BokehJS libraries loaded\");\n",
       "            run_callbacks()\n",
       "          }\n",
       "        };\n",
       "        s.onerror = function() {\n",
       "          console.warn(\"failed to load library \" + url);\n",
       "        };\n",
       "        console.log(\"Bokeh: injecting script tag for BokehJS library: \", url);\n",
       "        document.getElementsByTagName(\"head\")[0].appendChild(s);\n",
       "      }\n",
       "    };var element = document.getElementById(\"6029adbf-30f1-480b-ae96-521cc05080d5\");\n",
       "    if (element == null) {\n",
       "      console.log(\"Bokeh: ERROR: autoload.js configured with elementid '6029adbf-30f1-480b-ae96-521cc05080d5' but no matching script tag was found. \")\n",
       "      return false;\n",
       "    }\n",
       "  \n",
       "    var js_urls = [];\n",
       "  \n",
       "    var inline_js = [\n",
       "      function(Bokeh) {\n",
       "        Bokeh.$(function() {\n",
       "            var docs_json = {\"2d612c7c-3d0b-4de3-b525-12f27f5c460b\":{\"roots\":{\"references\":[{\"attributes\":{},\"id\":\"2ab4403e-7287-4d11-8c25-2b1bcd90b640\",\"type\":\"BasicTickFormatter\"},{\"attributes\":{},\"id\":\"6a1815d6-ccae-426f-9498-efef466ff3d4\",\"type\":\"BasicTicker\"},{\"attributes\":{\"callback\":null},\"id\":\"f9155d63-c2c1-406a-a4ef-8662c380d376\",\"type\":\"DataRange1d\"},{\"attributes\":{},\"id\":\"fa7de780-c664-42e5-a6ff-a06c61391fe2\",\"type\":\"BasicTickFormatter\"},{\"attributes\":{\"data_source\":{\"id\":\"bc3ab847-9d55-423a-8541-c42b56c11a60\",\"type\":\"ColumnDataSource\"},\"glyph\":{\"id\":\"1b1312c1-38e8-45e9-8283-dc225e7faada\",\"type\":\"Quad\"},\"hover_glyph\":null,\"nonselection_glyph\":{\"id\":\"e5ebea08-b2ce-4109-9be8-c9aa4c2bfa73\",\"type\":\"Quad\"},\"selection_glyph\":null},\"id\":\"73c7212f-21d2-4070-803a-4989ce6e0886\",\"type\":\"GlyphRenderer\"},{\"attributes\":{\"dimension\":1,\"plot\":{\"id\":\"b1aef909-e538-487c-88dc-97d6b379de18\",\"subtype\":\"Figure\",\"type\":\"Plot\"},\"ticker\":{\"id\":\"83166155-ef69-4008-b64a-7b6ba27009a6\",\"type\":\"BasicTicker\"}},\"id\":\"d6e85ab0-f184-499f-9eaa-5e395cdb3cf6\",\"type\":\"Grid\"},{\"attributes\":{\"bottom\":{\"value\":0},\"fill_color\":{\"value\":\"#1f77b4\"},\"left\":{\"field\":\"left\"},\"line_color\":{\"value\":\"#1f77b4\"},\"right\":{\"field\":\"right\"},\"top\":{\"field\":\"top\"}},\"id\":\"1b1312c1-38e8-45e9-8283-dc225e7faada\",\"type\":\"Quad\"},{\"attributes\":{\"below\":[{\"id\":\"66ecf7fe-d362-4ccc-90bd-f712b2c36d30\",\"type\":\"LinearAxis\"}],\"left\":[{\"id\":\"2f8a9c2b-8a37-42a9-8201-202ce88cc438\",\"type\":\"LinearAxis\"}],\"min_border\":0,\"min_border_bottom\":0,\"min_border_left\":0,\"min_border_right\":0,\"min_border_top\":0,\"outline_line_color\":{\"value\":null},\"plot_height\":130,\"renderers\":[{\"id\":\"66ecf7fe-d362-4ccc-90bd-f712b2c36d30\",\"type\":\"LinearAxis\"},{\"id\":\"84c54dd3-bc06-413d-8216-7b2beffbff69\",\"type\":\"Grid\"},{\"id\":\"2f8a9c2b-8a37-42a9-8201-202ce88cc438\",\"type\":\"LinearAxis\"},{\"id\":\"d6e85ab0-f184-499f-9eaa-5e395cdb3cf6\",\"type\":\"Grid\"},{\"id\":\"73c7212f-21d2-4070-803a-4989ce6e0886\",\"type\":\"GlyphRenderer\"}],\"tool_events\":{\"id\":\"6eb636c2-4daa-47ec-b22d-3c7b07920fb1\",\"type\":\"ToolEvents\"},\"x_range\":{\"id\":\"f9155d63-c2c1-406a-a4ef-8662c380d376\",\"type\":\"DataRange1d\"},\"y_range\":{\"id\":\"5d2a9f09-9e3a-4e3a-9b30-7b63689bf767\",\"type\":\"DataRange1d\"}},\"id\":\"b1aef909-e538-487c-88dc-97d6b379de18\",\"subtype\":\"Figure\",\"type\":\"Plot\"},{\"attributes\":{\"callback\":null,\"column_names\":[\"top\",\"left\",\"right\"],\"data\":{\"left\":[1127882.98,1128063.96,1128244.94,1128425.92,1128606.9,1128787.88,1128968.86,1129149.84,1129330.82,1129511.8,1129692.78,1129873.76,1130054.74,1130235.72,1130416.7,1130597.68,1130778.66,1130959.64,1131140.62,1131321.6,1131502.58,1131683.56,1131864.54,1132045.52,1132226.5,1132407.48,1132588.46,1132769.44,1132950.42,1133131.4,1133312.38,1133493.36,1133674.34,1133855.32,1134036.3,1134217.28,1134398.26,1134579.24,1134760.22,1134941.2,1135122.18,1135303.16,1135484.14,1135665.12,1135846.1,1136027.08,1136208.06,1136389.04,1136570.02,1136751.0,1136931.98,1137112.96,1137293.94,1137474.92,1137655.9,1137836.88,1138017.86,1138198.84,1138379.82,1138560.8,1138741.78,1138922.76,1139103.74,1139284.72,1139465.7,1139646.68,1139827.66,1140008.64,1140189.62,1140370.6,1140551.58,1140732.56,1140913.54,1141094.52,1141275.5,1141456.48,1141637.46,1141818.44,1141999.42,1142180.4,1142361.38,1142542.36,1142723.34,1142904.32,1143085.3,1143266.28,1143447.26,1143628.24,1143809.22,1143990.2,1144171.18,1144352.16,1144533.14,1144714.12,1144895.1,1145076.08,1145257.06,1145438.04,1145619.02],\"right\":[1128063.96,1128244.94,1128425.92,1128606.9,1128787.88,1128968.86,1129149.84,1129330.82,1129511.8,1129692.78,1129873.76,1130054.74,1130235.72,1130416.7,1130597.68,1130778.66,1130959.64,1131140.62,1131321.6,1131502.58,1131683.56,1131864.54,1132045.52,1132226.5,1132407.48,1132588.46,1132769.44,1132950.42,1133131.4,1133312.38,1133493.36,1133674.34,1133855.32,1134036.3,1134217.28,1134398.26,1134579.24,1134760.22,1134941.2,1135122.18,1135303.16,1135484.14,1135665.12,1135846.1,1136027.08,1136208.06,1136389.04,1136570.02,1136751.0,1136931.98,1137112.96,1137293.94,1137474.92,1137655.9,1137836.88,1138017.86,1138198.84,1138379.82,1138560.8,1138741.78,1138922.76,1139103.74,1139284.72,1139465.7,1139646.68,1139827.66,1140008.64,1140189.62,1140370.6,1140551.58,1140732.56,1140913.54,1141094.52,1141275.5,1141456.48,1141637.46,1141818.44,1141999.42,1142180.4,1142361.38,1142542.36,1142723.34,1142904.32,1143085.3,1143266.28,1143447.26,1143628.24,1143809.22,1143990.2,1144171.18,1144352.16,1144533.14,1144714.12,1144895.1,1145076.08,1145257.06,1145438.04,1145619.02,1145800.0],\"top\":[3,4,2,2,4,2,2,5,1,0,4,2,6,0,8,1,1,3,4,3,1,4,0,1,0,3,10,1,1,3,11,0,2,4,5,7,3,4,5,1,10,7,6,10,4,31,27,52,50,52,40,40,34,52,44,15,62,27,63,48,88,124,62,98,47,82,55,46,53,64,43,64,64,66,71,96,71,76,80,55,55,60,85,61,51,89,69,53,77,77,77,59,49,57,50,18,30,15,14]}},\"id\":\"bc3ab847-9d55-423a-8541-c42b56c11a60\",\"type\":\"ColumnDataSource\"},{\"attributes\":{},\"id\":\"6eb636c2-4daa-47ec-b22d-3c7b07920fb1\",\"type\":\"ToolEvents\"},{\"attributes\":{\"bottom\":{\"value\":0},\"fill_alpha\":{\"value\":0.1},\"fill_color\":{\"value\":\"#1f77b4\"},\"left\":{\"field\":\"left\"},\"line_alpha\":{\"value\":0.1},\"line_color\":{\"value\":\"#1f77b4\"},\"right\":{\"field\":\"right\"},\"top\":{\"field\":\"top\"}},\"id\":\"e5ebea08-b2ce-4109-9be8-c9aa4c2bfa73\",\"type\":\"Quad\"},{\"attributes\":{\"formatter\":{\"id\":\"fa7de780-c664-42e5-a6ff-a06c61391fe2\",\"type\":\"BasicTickFormatter\"},\"plot\":{\"id\":\"b1aef909-e538-487c-88dc-97d6b379de18\",\"subtype\":\"Figure\",\"type\":\"Plot\"},\"ticker\":{\"id\":\"6a1815d6-ccae-426f-9498-efef466ff3d4\",\"type\":\"BasicTicker\"}},\"id\":\"66ecf7fe-d362-4ccc-90bd-f712b2c36d30\",\"type\":\"LinearAxis\"},{\"attributes\":{},\"id\":\"83166155-ef69-4008-b64a-7b6ba27009a6\",\"type\":\"BasicTicker\"},{\"attributes\":{\"callback\":null},\"id\":\"5d2a9f09-9e3a-4e3a-9b30-7b63689bf767\",\"type\":\"DataRange1d\"},{\"attributes\":{\"axis_label\":\"Pixels\",\"formatter\":{\"id\":\"2ab4403e-7287-4d11-8c25-2b1bcd90b640\",\"type\":\"BasicTickFormatter\"},\"plot\":{\"id\":\"b1aef909-e538-487c-88dc-97d6b379de18\",\"subtype\":\"Figure\",\"type\":\"Plot\"},\"ticker\":{\"id\":\"83166155-ef69-4008-b64a-7b6ba27009a6\",\"type\":\"BasicTicker\"}},\"id\":\"2f8a9c2b-8a37-42a9-8201-202ce88cc438\",\"type\":\"LinearAxis\"},{\"attributes\":{\"plot\":{\"id\":\"b1aef909-e538-487c-88dc-97d6b379de18\",\"subtype\":\"Figure\",\"type\":\"Plot\"},\"ticker\":{\"id\":\"6a1815d6-ccae-426f-9498-efef466ff3d4\",\"type\":\"BasicTicker\"}},\"id\":\"84c54dd3-bc06-413d-8216-7b2beffbff69\",\"type\":\"Grid\"}],\"root_ids\":[\"b1aef909-e538-487c-88dc-97d6b379de18\"]},\"title\":\"Bokeh Application\",\"version\":\"0.11.1\"}};\n",
       "            var render_items = [{\"docid\":\"2d612c7c-3d0b-4de3-b525-12f27f5c460b\",\"elementid\":\"6029adbf-30f1-480b-ae96-521cc05080d5\",\"modelid\":\"b1aef909-e538-487c-88dc-97d6b379de18\",\"notebook_comms_target\":\"da2daeda-1f0d-46f2-a4ff-cfe7dce46688\"}];\n",
       "            \n",
       "            Bokeh.embed.embed_items(docs_json, render_items);\n",
       "        });\n",
       "      },\n",
       "      function(Bokeh) {\n",
       "      }\n",
       "    ];\n",
       "  \n",
       "    function run_inline_js() {\n",
       "      for (var i = 0; i < inline_js.length; i++) {\n",
       "        inline_js[i](window.Bokeh);\n",
       "      }\n",
       "    }\n",
       "  \n",
       "    if (window._bokeh_is_loading === 0) {\n",
       "      console.log(\"Bokeh: BokehJS loaded, going straight to plotting\");\n",
       "      run_inline_js();\n",
       "    } else {\n",
       "      load_libs(js_urls, function() {\n",
       "        console.log(\"Bokeh: BokehJS plotting callback run at\", now());\n",
       "        run_inline_js();\n",
       "      });\n",
       "    }\n",
       "  }(this));\n",
       "</script>"
      ]
     },
     "metadata": {},
     "output_type": "display_data"
    }
   ],
   "source": [
    "histogram(X_train['X Coordinate'])"
   ]
  },
  {
   "cell_type": "code",
   "execution_count": 43,
   "metadata": {
    "collapsed": false
   },
   "outputs": [
    {
     "data": {
      "image/png": "[encoded data removed]",
      "text/plain": [
       "<matplotlib.figure.Figure at 0x1154692d0>"
      ]
     },
     "metadata": {},
     "output_type": "display_data"
    }
   ],
   "source": [
    "histogram2d(data['X Coordinate'].astype(float), data['Y Coordinate'].astype(float))"
   ]
  },
  {
   "cell_type": "code",
   "execution_count": 39,
   "metadata": {
    "collapsed": false
   },
   "outputs": [
    {
     "name": "stdout",
     "output_type": "stream",
     "text": [
      "min: 1894064.0, max: 1914839.0\n"
     ]
    },
    {
     "data": {
      "text/html": [
       "\n",
       "\n",
       "    <div class=\"plotdiv\" id=\"455108db-4361-49e6-b1d6-6658fb2377bd\"></div>\n",
       "<script type=\"text/javascript\">\n",
       "  \n",
       "  (function(global) {\n",
       "    function now() {\n",
       "      return new Date();\n",
       "    }\n",
       "  \n",
       "    if (typeof (window._bokeh_onload_callbacks) === \"undefined\") {\n",
       "      window._bokeh_onload_callbacks = [];\n",
       "    }\n",
       "  \n",
       "    function run_callbacks() {\n",
       "      window._bokeh_onload_callbacks.forEach(function(callback) { callback() });\n",
       "      delete window._bokeh_onload_callbacks\n",
       "      console.info(\"Bokeh: all callbacks have finished\");\n",
       "    }\n",
       "  \n",
       "    function load_libs(js_urls, callback) {\n",
       "      window._bokeh_onload_callbacks.push(callback);\n",
       "      if (window._bokeh_is_loading > 0) {\n",
       "        console.log(\"Bokeh: BokehJS is being loaded, scheduling callback at\", now());\n",
       "        return null;\n",
       "      }\n",
       "      if (js_urls == null || js_urls.length === 0) {\n",
       "        run_callbacks();\n",
       "        return null;\n",
       "      }\n",
       "      console.log(\"Bokeh: BokehJS not loaded, scheduling load and callback at\", now());\n",
       "      window._bokeh_is_loading = js_urls.length;\n",
       "      for (var i = 0; i < js_urls.length; i++) {\n",
       "        var url = js_urls[i];\n",
       "        var s = document.createElement('script');\n",
       "        s.src = url;\n",
       "        s.async = false;\n",
       "        s.onreadystatechange = s.onload = function() {\n",
       "          window._bokeh_is_loading--;\n",
       "          if (window._bokeh_is_loading === 0) {\n",
       "            console.log(\"Bokeh: all BokehJS libraries loaded\");\n",
       "            run_callbacks()\n",
       "          }\n",
       "        };\n",
       "        s.onerror = function() {\n",
       "          console.warn(\"failed to load library \" + url);\n",
       "        };\n",
       "        console.log(\"Bokeh: injecting script tag for BokehJS library: \", url);\n",
       "        document.getElementsByTagName(\"head\")[0].appendChild(s);\n",
       "      }\n",
       "    };var element = document.getElementById(\"455108db-4361-49e6-b1d6-6658fb2377bd\");\n",
       "    if (element == null) {\n",
       "      console.log(\"Bokeh: ERROR: autoload.js configured with elementid '455108db-4361-49e6-b1d6-6658fb2377bd' but no matching script tag was found. \")\n",
       "      return false;\n",
       "    }\n",
       "  \n",
       "    var js_urls = [];\n",
       "  \n",
       "    var inline_js = [\n",
       "      function(Bokeh) {\n",
       "        Bokeh.$(function() {\n",
       "            var docs_json = {\"909ca23e-0889-416e-ae26-37b480669643\":{\"roots\":{\"references\":[{\"attributes\":{},\"id\":\"fd8e991c-1f80-4e00-b44a-63cb8a7feaee\",\"type\":\"BasicTickFormatter\"},{\"attributes\":{\"bottom\":{\"value\":0},\"fill_color\":{\"value\":\"#1f77b4\"},\"left\":{\"field\":\"left\"},\"line_color\":{\"value\":\"#1f77b4\"},\"right\":{\"field\":\"right\"},\"top\":{\"field\":\"top\"}},\"id\":\"4faa7523-372f-461f-b3f5-fa07df0c032b\",\"type\":\"Quad\"},{\"attributes\":{\"callback\":null,\"column_names\":[\"top\",\"left\",\"right\"],\"data\":{\"left\":[1894271.75,1894479.5,1894687.25,1894895.0,1895102.75,1895310.5,1895518.25,1895726.0,1895933.75,1896141.5,1896349.25,1896557.0,1896764.75,1896972.5,1897180.25,1897388.0,1897595.75,1897803.5,1898011.25,1898219.0,1898426.75,1898634.5,1898842.25,1899050.0,1899257.75,1899465.5,1899673.25,1899881.0,1900088.75,1900296.5,1900504.25,1900712.0,1900919.75,1901127.5,1901335.25,1901543.0,1901750.75,1901958.5,1902166.25,1902374.0,1902581.75,1902789.5,1902997.25,1903205.0,1903412.75,1903620.5,1903828.25,1904036.0,1904243.75,1904451.5,1904659.25,1904867.0,1905074.75,1905282.5,1905490.25,1905698.0,1905905.75,1906113.5,1906321.25,1906529.0,1906736.75,1906944.5,1907152.25,1907360.0,1907567.75,1907775.5,1907983.25,1908191.0,1908398.75,1908606.5,1908814.25,1909022.0,1909229.75,1909437.5,1909645.25,1909853.0,1910060.75,1910268.5,1910476.25,1910684.0,1910891.75,1911099.5,1911307.25,1911515.0,1911722.75,1911930.5,1912138.25,1912346.0,1912553.75,1912761.5,1912969.25,1913177.0,1913384.75,1913592.5,1913800.25,1914008.0,1914215.75,1914423.5,1914631.25],\"right\":[1894479.5,1894687.25,1894895.0,1895102.75,1895310.5,1895518.25,1895726.0,1895933.75,1896141.5,1896349.25,1896557.0,1896764.75,1896972.5,1897180.25,1897388.0,1897595.75,1897803.5,1898011.25,1898219.0,1898426.75,1898634.5,1898842.25,1899050.0,1899257.75,1899465.5,1899673.25,1899881.0,1900088.75,1900296.5,1900504.25,1900712.0,1900919.75,1901127.5,1901335.25,1901543.0,1901750.75,1901958.5,1902166.25,1902374.0,1902581.75,1902789.5,1902997.25,1903205.0,1903412.75,1903620.5,1903828.25,1904036.0,1904243.75,1904451.5,1904659.25,1904867.0,1905074.75,1905282.5,1905490.25,1905698.0,1905905.75,1906113.5,1906321.25,1906529.0,1906736.75,1906944.5,1907152.25,1907360.0,1907567.75,1907775.5,1907983.25,1908191.0,1908398.75,1908606.5,1908814.25,1909022.0,1909229.75,1909437.5,1909645.25,1909853.0,1910060.75,1910268.5,1910476.25,1910684.0,1910891.75,1911099.5,1911307.25,1911515.0,1911722.75,1911930.5,1912138.25,1912346.0,1912553.75,1912761.5,1912969.25,1913177.0,1913384.75,1913592.5,1913800.25,1914008.0,1914215.75,1914423.5,1914631.25,1914839.0],\"top\":[2,6,6,6,6,4,20,12,8,5,10,6,25,43,31,30,21,38,49,29,41,58,37,50,67,114,69,46,81,69,65,27,49,39,46,48,53,41,46,28,17,31,50,20,20,35,27,39,76,42,76,37,50,22,29,55,14,43,53,23,21,54,8,52,22,40,19,41,23,21,41,46,7,31,52,37,161,58,35,61,70,30,35,32,9,12,15,2,3,4,1,3,5,1,1,0,3,5,4]}},\"id\":\"0234d69f-bcdf-4291-b8e1-3c02ca392511\",\"type\":\"ColumnDataSource\"},{\"attributes\":{},\"id\":\"c6c2b684-4645-43e1-b500-0ef2c58ea42e\",\"type\":\"BasicTicker\"},{\"attributes\":{},\"id\":\"fa4175f5-0477-42b1-8038-6c67f0cacde1\",\"type\":\"BasicTicker\"},{\"attributes\":{},\"id\":\"6d183703-d00f-4901-a875-73b0c8edba03\",\"type\":\"BasicTicker\"},{\"attributes\":{\"callback\":null},\"id\":\"14cbde63-5eb9-40a0-be34-f73abf77bc6a\",\"type\":\"DataRange1d\"},{\"attributes\":{\"data_source\":{\"id\":\"9025159d-4d63-4533-8140-3a08364768fa\",\"type\":\"ColumnDataSource\"},\"glyph\":{\"id\":\"92f537f3-4a96-476d-ad49-5f5d7b09b5ab\",\"type\":\"Quad\"},\"hover_glyph\":null,\"nonselection_glyph\":{\"id\":\"a77cadcc-302f-474d-bdb3-723bf78e9a2b\",\"type\":\"Quad\"},\"selection_glyph\":null},\"id\":\"a70a3f2f-3ca5-45a0-b686-36588678805b\",\"type\":\"GlyphRenderer\"},{\"attributes\":{\"axis_label\":\"Pixels\",\"formatter\":{\"id\":\"2ab4403e-7287-4d11-8c25-2b1bcd90b640\",\"type\":\"BasicTickFormatter\"},\"plot\":{\"id\":\"b1aef909-e538-487c-88dc-97d6b379de18\",\"subtype\":\"Figure\",\"type\":\"Plot\"},\"ticker\":{\"id\":\"83166155-ef69-4008-b64a-7b6ba27009a6\",\"type\":\"BasicTicker\"}},\"id\":\"2f8a9c2b-8a37-42a9-8201-202ce88cc438\",\"type\":\"LinearAxis\"},{\"attributes\":{\"below\":[{\"id\":\"98103edb-174a-4f9d-b2ed-cfede379e489\",\"type\":\"LinearAxis\"}],\"left\":[{\"id\":\"e5545223-223c-4727-800e-76f3d2d2f07f\",\"type\":\"LinearAxis\"}],\"min_border\":0,\"min_border_bottom\":0,\"min_border_left\":0,\"min_border_right\":0,\"min_border_top\":0,\"outline_line_color\":{\"value\":null},\"plot_height\":130,\"renderers\":[{\"id\":\"98103edb-174a-4f9d-b2ed-cfede379e489\",\"type\":\"LinearAxis\"},{\"id\":\"5d714021-547f-4252-912a-bf3040df8388\",\"type\":\"Grid\"},{\"id\":\"e5545223-223c-4727-800e-76f3d2d2f07f\",\"type\":\"LinearAxis\"},{\"id\":\"b8cedc24-830c-4b9f-8e2c-eef5faa4f631\",\"type\":\"Grid\"},{\"id\":\"8bf9fd58-b4b9-4bab-a3c3-90db62cc5bea\",\"type\":\"GlyphRenderer\"}],\"tool_events\":{\"id\":\"1e09b7f9-e4a6-4bcd-a2ea-0d492f570452\",\"type\":\"ToolEvents\"},\"x_range\":{\"id\":\"db3e2949-add4-46f0-ac2c-b035bc381610\",\"type\":\"DataRange1d\"},\"y_range\":{\"id\":\"71fa5ac6-85b1-4a35-b3d9-66995b3342e5\",\"type\":\"DataRange1d\"}},\"id\":\"20227c16-ded3-44cf-b35c-c393da674b05\",\"subtype\":\"Figure\",\"type\":\"Plot\"},{\"attributes\":{\"bottom\":{\"value\":0},\"fill_alpha\":{\"value\":0.1},\"fill_color\":{\"value\":\"#1f77b4\"},\"left\":{\"field\":\"left\"},\"line_alpha\":{\"value\":0.1},\"line_color\":{\"value\":\"#1f77b4\"},\"right\":{\"field\":\"right\"},\"top\":{\"field\":\"top\"}},\"id\":\"f36c1611-eb85-44d5-9a88-cec05aae3abe\",\"type\":\"Quad\"},{\"attributes\":{\"plot\":{\"id\":\"20227c16-ded3-44cf-b35c-c393da674b05\",\"subtype\":\"Figure\",\"type\":\"Plot\"},\"ticker\":{\"id\":\"c6c2b684-4645-43e1-b500-0ef2c58ea42e\",\"type\":\"BasicTicker\"}},\"id\":\"5d714021-547f-4252-912a-bf3040df8388\",\"type\":\"Grid\"},{\"attributes\":{\"callback\":null,\"column_names\":[\"top\",\"left\",\"right\"],\"data\":{\"left\":[1135573.37,1143444.74,1151316.11,1159187.48,1167058.85,1174930.22,1182801.59,1190672.96,1198544.33,1206415.7,1214287.07,1222158.44,1230029.81,1237901.18,1245772.55,1253643.92,1261515.29,1269386.66,1277258.03,1285129.4,1293000.77,1300872.14,1308743.51,1316614.88,1324486.25,1332357.62,1340228.99,1348100.3599999999,1355971.73,1363843.1,1371714.47,1379585.84,1387457.21,1395328.58,1403199.95,1411071.32,1418942.69,1426814.06,1434685.43,1442556.8,1450428.17,1458299.54,1466170.91,1474042.28,1481913.65,1489785.02,1497656.3900000001,1505527.76,1513399.13,1521270.5,1529141.87,1537013.24,1544884.6099999999,1552755.98,1560627.35,1568498.72,1576370.0899999999,1584241.46,1592112.83,1599984.2,1607855.57,1615726.94,1623598.31,1631469.68,1639341.05,1647212.42,1655083.79,1662955.1600000001,1670826.53,1678697.9,1686569.27,1694440.6400000001,1702312.01,1710183.38,1718054.75,1725926.12,1733797.49,1741668.8599999999,1749540.23,1757411.6,1765282.97,1773154.3399999999,1781025.71,1788897.08,1796768.45,1804639.8199999998,1812511.19,1820382.56,1828253.93,1836125.3,1843996.67,1851868.04,1859739.4100000001,1867610.78,1875482.15,1883353.52,1891224.8900000001,1899096.26,1906967.63],\"right\":[1143444.74,1151316.11,1159187.48,1167058.85,1174930.22,1182801.59,1190672.96,1198544.33,1206415.7,1214287.07,1222158.44,1230029.81,1237901.18,1245772.55,1253643.92,1261515.29,1269386.66,1277258.03,1285129.4,1293000.77,1300872.14,1308743.51,1316614.88,1324486.25,1332357.62,1340228.99,1348100.3599999999,1355971.73,1363843.1,1371714.47,1379585.84,1387457.21,1395328.58,1403199.95,1411071.32,1418942.69,1426814.06,1434685.43,1442556.8,1450428.17,1458299.54,1466170.91,1474042.28,1481913.65,1489785.02,1497656.3900000001,1505527.76,1513399.13,1521270.5,1529141.87,1537013.24,1544884.6099999999,1552755.98,1560627.35,1568498.72,1576370.0899999999,1584241.46,1592112.83,1599984.2,1607855.57,1615726.94,1623598.31,1631469.68,1639341.05,1647212.42,1655083.79,1662955.1600000001,1670826.53,1678697.9,1686569.27,1694440.6400000001,1702312.01,1710183.38,1718054.75,1725926.12,1733797.49,1741668.8599999999,1749540.23,1757411.6,1765282.97,1773154.3399999999,1781025.71,1788897.08,1796768.45,1804639.8199999998,1812511.19,1820382.56,1828253.93,1836125.3,1843996.67,1851868.04,1859739.4100000001,1867610.78,1875482.15,1883353.52,1891224.8900000001,1899096.26,1906967.63,1914839.0],\"top\":[2456,646,0,0,0,0,0,0,0,0,0,0,0,0,0,0,0,0,0,0,0,0,0,0,0,0,0,0,0,0,0,0,0,0,0,0,0,0,0,0,0,0,0,0,0,0,0,0,0,0,0,0,0,0,0,0,0,0,0,0,0,0,0,0,0,0,0,0,0,0,0,0,0,0,0,0,0,0,0,0,0,0,0,0,0,0,0,0,0,0,0,0,0,0,0,0,515,1713,1042]}},\"id\":\"04445e6b-8146-4ef1-87ad-6b0426ee5eda\",\"type\":\"ColumnDataSource\"},{\"attributes\":{\"callback\":null},\"id\":\"f9155d63-c2c1-406a-a4ef-8662c380d376\",\"type\":\"DataRange1d\"},{\"attributes\":{\"data_source\":{\"id\":\"0234d69f-bcdf-4291-b8e1-3c02ca392511\",\"type\":\"ColumnDataSource\"},\"glyph\":{\"id\":\"4faa7523-372f-461f-b3f5-fa07df0c032b\",\"type\":\"Quad\"},\"hover_glyph\":null,\"nonselection_glyph\":{\"id\":\"7ab9ea91-3bec-4381-961f-e6b0d1b72f0c\",\"type\":\"Quad\"},\"selection_glyph\":null},\"id\":\"7db06845-cbd6-4cd4-8fb6-f052ff1cbd7b\",\"type\":\"GlyphRenderer\"},{\"attributes\":{},\"id\":\"4a22f7e3-930c-49af-949d-6739ddc53cba\",\"type\":\"BasicTickFormatter\"},{\"attributes\":{\"plot\":{\"id\":\"4f6e38c9-df0f-4891-96f4-a0df7b46be99\",\"subtype\":\"Figure\",\"type\":\"Plot\"},\"ticker\":{\"id\":\"9a453669-8cd8-4e7f-9b38-f25c355b48a3\",\"type\":\"BasicTicker\"}},\"id\":\"15777ce7-98fd-477c-a8eb-23c46e0c8179\",\"type\":\"Grid\"},{\"attributes\":{\"data_source\":{\"id\":\"e6f825f8-6b53-4ef7-b1b3-d156ef4905c7\",\"type\":\"ColumnDataSource\"},\"glyph\":{\"id\":\"ae728eed-27eb-4561-a55f-d23ec87ea90f\",\"type\":\"Quad\"},\"hover_glyph\":null,\"nonselection_glyph\":{\"id\":\"51c5fc30-dc20-4019-b999-13163110ad75\",\"type\":\"Quad\"},\"selection_glyph\":null},\"id\":\"9cacd739-94ea-498f-bf37-217710a1eb26\",\"type\":\"GlyphRenderer\"},{\"attributes\":{\"bottom\":{\"value\":0},\"fill_alpha\":{\"value\":0.1},\"fill_color\":{\"value\":\"#1f77b4\"},\"left\":{\"field\":\"left\"},\"line_alpha\":{\"value\":0.1},\"line_color\":{\"value\":\"#1f77b4\"},\"right\":{\"field\":\"right\"},\"top\":{\"field\":\"top\"}},\"id\":\"b87cd21f-d053-444a-ac74-ead62323347a\",\"type\":\"Quad\"},{\"attributes\":{\"callback\":null,\"column_names\":[\"top\",\"left\",\"right\"],\"data\":{\"left\":[0.23,0.46,0.6900000000000001,0.92,1.1500000000000001,1.3800000000000001,1.61,1.84,2.0700000000000003,2.3000000000000003,2.5300000000000002,2.7600000000000002,2.99,3.22,3.45,3.68,3.91,4.140000000000001,4.37,4.6000000000000005,4.83,5.0600000000000005,5.29,5.5200000000000005,5.75,5.98,6.21,6.44,6.67,6.9,7.13,7.36,7.590000000000001,7.82,8.05,8.280000000000001,8.51,8.74,8.97,9.200000000000001,9.43,9.66,9.89,10.120000000000001,10.35,10.58,10.81,11.040000000000001,11.270000000000001,11.5,11.73,11.96,12.190000000000001,12.42,12.65,12.88,13.110000000000001,13.34,13.57,13.8,14.030000000000001,14.26,14.49,14.72,14.950000000000001,15.180000000000001,15.41,15.64,15.870000000000001,16.1,16.330000000000002,16.560000000000002,16.79,17.02,17.25,17.48,17.71,17.94,18.17,18.400000000000002,18.630000000000003,18.86,19.09,19.32,19.55,19.78,20.01,20.240000000000002,20.470000000000002,20.7,20.93,21.16,21.39,21.62,21.85,22.080000000000002,22.310000000000002,22.540000000000003,22.77],\"right\":[0.46,0.6900000000000001,0.92,1.1500000000000001,1.3800000000000001,1.61,1.84,2.0700000000000003,2.3000000000000003,2.5300000000000002,2.7600000000000002,2.99,3.22,3.45,3.68,3.91,4.140000000000001,4.37,4.6000000000000005,4.83,5.0600000000000005,5.29,5.5200000000000005,5.75,5.98,6.21,6.44,6.67,6.9,7.13,7.36,7.590000000000001,7.82,8.05,8.280000000000001,8.51,8.74,8.97,9.200000000000001,9.43,9.66,9.89,10.120000000000001,10.35,10.58,10.81,11.040000000000001,11.270000000000001,11.5,11.73,11.96,12.190000000000001,12.42,12.65,12.88,13.110000000000001,13.34,13.57,13.8,14.030000000000001,14.26,14.49,14.72,14.950000000000001,15.180000000000001,15.41,15.64,15.870000000000001,16.1,16.330000000000002,16.560000000000002,16.79,17.02,17.25,17.48,17.71,17.94,18.17,18.400000000000002,18.630000000000003,18.86,19.09,19.32,19.55,19.78,20.01,20.240000000000002,20.470000000000002,20.7,20.93,21.16,21.39,21.62,21.85,22.080000000000002,22.310000000000002,22.540000000000003,22.77,23.0],\"top\":[0,0,0,58,0,0,0,50,0,0,0,0,45,0,0,0,23,0,0,0,23,0,0,0,0,17,0,0,0,31,0,0,0,108,0,0,0,0,214,0,0,0,119,0,0,0,93,0,0,0,0,243,0,0,0,159,0,0,0,190,0,0,0,0,223,0,0,0,170,0,0,0,162,0,0,0,0,169,0,0,0,193,0,0,0,204,0,0,0,0,179,0,0,0,195,0,0,0,139]}},\"id\":\"e6f825f8-6b53-4ef7-b1b3-d156ef4905c7\",\"type\":\"ColumnDataSource\"},{\"attributes\":{\"plot\":{\"id\":\"79565946-a793-4faa-a3aa-de50e2265943\",\"subtype\":\"Figure\",\"type\":\"Plot\"},\"ticker\":{\"id\":\"0644fded-319e-4cde-b92b-5d2a04d782c3\",\"type\":\"BasicTicker\"}},\"id\":\"99ca8e40-2c41-4071-a8ba-488d59efba19\",\"type\":\"Grid\"},{\"attributes\":{},\"id\":\"fa7de780-c664-42e5-a6ff-a06c61391fe2\",\"type\":\"BasicTickFormatter\"},{\"attributes\":{\"formatter\":{\"id\":\"5f240056-d0dd-4426-b532-2d24e029c3be\",\"type\":\"BasicTickFormatter\"},\"plot\":{\"id\":\"20227c16-ded3-44cf-b35c-c393da674b05\",\"subtype\":\"Figure\",\"type\":\"Plot\"},\"ticker\":{\"id\":\"c6c2b684-4645-43e1-b500-0ef2c58ea42e\",\"type\":\"BasicTicker\"}},\"id\":\"98103edb-174a-4f9d-b2ed-cfede379e489\",\"type\":\"LinearAxis\"},{\"attributes\":{},\"id\":\"c2f58cd7-911d-4802-b1fa-5de3abdbf998\",\"type\":\"ToolEvents\"},{\"attributes\":{},\"id\":\"3dca0350-1721-4c9c-bda4-317a4d602688\",\"type\":\"BasicTickFormatter\"},{\"attributes\":{\"below\":[{\"id\":\"7364c979-9a70-4166-884e-62986e1dfce7\",\"type\":\"LinearAxis\"}],\"left\":[{\"id\":\"0cdb58e3-47ee-43b5-a4f5-65c30c3edfce\",\"type\":\"LinearAxis\"}],\"min_border\":0,\"min_border_bottom\":0,\"min_border_left\":0,\"min_border_right\":0,\"min_border_top\":0,\"outline_line_color\":{\"value\":null},\"plot_height\":130,\"renderers\":[{\"id\":\"7364c979-9a70-4166-884e-62986e1dfce7\",\"type\":\"LinearAxis\"},{\"id\":\"f8c6c627-71d3-4019-a823-69bca37d7d61\",\"type\":\"Grid\"},{\"id\":\"0cdb58e3-47ee-43b5-a4f5-65c30c3edfce\",\"type\":\"LinearAxis\"},{\"id\":\"fdfcb902-44c8-4905-8028-235346e13528\",\"type\":\"Grid\"},{\"id\":\"a69a059f-f6fe-4432-b7b6-04a1c09f8527\",\"type\":\"GlyphRenderer\"}],\"tool_events\":{\"id\":\"fb23c041-2725-4add-8eab-0347b8df8344\",\"type\":\"ToolEvents\"},\"x_range\":{\"id\":\"83c7d5d5-9cbd-45ef-a73a-0ce799a98601\",\"type\":\"DataRange1d\"},\"y_range\":{\"id\":\"7516dd58-29e5-46c2-a718-1043ad9f0d60\",\"type\":\"DataRange1d\"}},\"id\":\"449e64ec-e7c5-465c-ae59-0b6685794f4c\",\"subtype\":\"Figure\",\"type\":\"Plot\"},{\"attributes\":{\"plot\":{\"id\":\"3932e2f0-69c8-471a-be25-b87f80237d2c\",\"subtype\":\"Figure\",\"type\":\"Plot\"},\"ticker\":{\"id\":\"756a14e8-ba83-4362-abab-5313087dc879\",\"type\":\"BasicTicker\"}},\"id\":\"eb5ae6fb-f61e-46b8-83d7-59ab780a41c9\",\"type\":\"Grid\"},{\"attributes\":{\"formatter\":{\"id\":\"fa7de780-c664-42e5-a6ff-a06c61391fe2\",\"type\":\"BasicTickFormatter\"},\"plot\":{\"id\":\"b1aef909-e538-487c-88dc-97d6b379de18\",\"subtype\":\"Figure\",\"type\":\"Plot\"},\"ticker\":{\"id\":\"6a1815d6-ccae-426f-9498-efef466ff3d4\",\"type\":\"BasicTicker\"}},\"id\":\"66ecf7fe-d362-4ccc-90bd-f712b2c36d30\",\"type\":\"LinearAxis\"},{\"attributes\":{\"callback\":null,\"column_names\":[\"top\",\"left\",\"right\"],\"data\":{\"left\":[1.11,1.22,1.33,1.44,1.55,1.6600000000000001,1.77,1.88,1.99,2.1,2.21,2.3200000000000003,2.4299999999999997,2.54,2.65,2.76,2.87,2.98,3.09,3.2,3.31,3.42,3.53,3.64,3.75,3.86,3.97,4.08,4.1899999999999995,4.3,4.41,4.52,4.63,4.74,4.85,4.96,5.07,5.18,5.29,5.4,5.51,5.62,5.73,5.84,5.95,6.06,6.17,6.28,6.39,6.5,6.61,6.72,6.83,6.94,7.05,7.16,7.2700000000000005,7.38,7.49,7.6,7.71,7.82,7.93,8.04,8.15,8.26,8.370000000000001,8.48,8.59,8.7,8.809999999999999,8.92,9.03,9.14,9.25,9.36,9.47,9.58,9.69,9.8,9.91,10.02,10.13,10.24,10.35,10.46,10.57,10.68,10.790000000000001,10.9,11.01,11.12,11.23,11.34,11.45,11.56,11.67,11.78,11.89],\"right\":[1.22,1.33,1.44,1.55,1.6600000000000001,1.77,1.88,1.99,2.1,2.21,2.3200000000000003,2.4299999999999997,2.54,2.65,2.76,2.87,2.98,3.09,3.2,3.31,3.42,3.53,3.64,3.75,3.86,3.97,4.08,4.1899999999999995,4.3,4.41,4.52,4.63,4.74,4.85,4.96,5.07,5.18,5.29,5.4,5.51,5.62,5.73,5.84,5.95,6.06,6.17,6.28,6.39,6.5,6.61,6.72,6.83,6.94,7.05,7.16,7.2700000000000005,7.38,7.49,7.6,7.71,7.82,7.93,8.04,8.15,8.26,8.370000000000001,8.48,8.59,8.7,8.809999999999999,8.92,9.03,9.14,9.25,9.36,9.47,9.58,9.69,9.8,9.91,10.02,10.13,10.24,10.35,10.46,10.57,10.68,10.790000000000001,10.9,11.01,11.12,11.23,11.34,11.45,11.56,11.67,11.78,11.89,12.0],\"top\":[0,0,0,0,0,0,0,0,200,0,0,0,0,0,0,0,0,263,0,0,0,0,0,0,0,0,273,0,0,0,0,0,0,0,0,319,0,0,0,0,0,0,0,0,280,0,0,0,0,0,0,0,0,309,0,0,0,0,0,0,0,0,285,0,0,0,0,0,0,0,0,291,0,0,0,0,0,0,0,0,307,0,0,0,0,0,0,0,0,269,0,0,0,0,0,0,0,0,223]}},\"id\":\"f6d9639c-91d4-48b9-9dc9-b556774b1a20\",\"type\":\"ColumnDataSource\"},{\"attributes\":{},\"id\":\"4b8c7708-cdd6-4b28-8b04-248e6cf6b949\",\"type\":\"BasicTicker\"},{\"attributes\":{\"bottom\":{\"value\":0},\"fill_color\":{\"value\":\"#1f77b4\"},\"left\":{\"field\":\"left\"},\"line_color\":{\"value\":\"#1f77b4\"},\"right\":{\"field\":\"right\"},\"top\":{\"field\":\"top\"}},\"id\":\"92f537f3-4a96-476d-ad49-5f5d7b09b5ab\",\"type\":\"Quad\"},{\"attributes\":{\"bottom\":{\"value\":0},\"fill_alpha\":{\"value\":0.1},\"fill_color\":{\"value\":\"#1f77b4\"},\"left\":{\"field\":\"left\"},\"line_alpha\":{\"value\":0.1},\"line_color\":{\"value\":\"#1f77b4\"},\"right\":{\"field\":\"right\"},\"top\":{\"field\":\"top\"}},\"id\":\"68e56f0b-458f-4ea0-b7d8-020343f1357c\",\"type\":\"Quad\"},{\"attributes\":{\"axis_label\":\"Pixels\",\"formatter\":{\"id\":\"32396023-70c8-48eb-a72a-3b0d01fc8c28\",\"type\":\"BasicTickFormatter\"},\"plot\":{\"id\":\"449e64ec-e7c5-465c-ae59-0b6685794f4c\",\"subtype\":\"Figure\",\"type\":\"Plot\"},\"ticker\":{\"id\":\"1a58c0eb-eca4-4ee8-9167-ac27b7e9e5a0\",\"type\":\"BasicTicker\"}},\"id\":\"0cdb58e3-47ee-43b5-a4f5-65c30c3edfce\",\"type\":\"LinearAxis\"},{\"attributes\":{\"bottom\":{\"value\":0},\"fill_alpha\":{\"value\":0.1},\"fill_color\":{\"value\":\"#1f77b4\"},\"left\":{\"field\":\"left\"},\"line_alpha\":{\"value\":0.1},\"line_color\":{\"value\":\"#1f77b4\"},\"right\":{\"field\":\"right\"},\"top\":{\"field\":\"top\"}},\"id\":\"7ab9ea91-3bec-4381-961f-e6b0d1b72f0c\",\"type\":\"Quad\"},{\"attributes\":{},\"id\":\"a067bf11-23f2-422d-991a-3f367d5d98c9\",\"type\":\"BasicTicker\"},{\"attributes\":{},\"id\":\"756a14e8-ba83-4362-abab-5313087dc879\",\"type\":\"BasicTicker\"},{\"attributes\":{},\"id\":\"1b888fa3-0ce0-4b58-a795-464c0399d5d0\",\"type\":\"ToolEvents\"},{\"attributes\":{\"below\":[{\"id\":\"a7587921-accc-4705-9547-609b477feeeb\",\"type\":\"LinearAxis\"}],\"left\":[{\"id\":\"ea9a9eb1-9360-4520-9bb4-c8c29789015d\",\"type\":\"LinearAxis\"}],\"min_border\":0,\"min_border_bottom\":0,\"min_border_left\":0,\"min_border_right\":0,\"min_border_top\":0,\"outline_line_color\":{\"value\":null},\"plot_height\":130,\"renderers\":[{\"id\":\"a7587921-accc-4705-9547-609b477feeeb\",\"type\":\"LinearAxis\"},{\"id\":\"15777ce7-98fd-477c-a8eb-23c46e0c8179\",\"type\":\"Grid\"},{\"id\":\"ea9a9eb1-9360-4520-9bb4-c8c29789015d\",\"type\":\"LinearAxis\"},{\"id\":\"4007efe6-1c88-4704-882d-d7cf8a881952\",\"type\":\"Grid\"},{\"id\":\"a70a3f2f-3ca5-45a0-b686-36588678805b\",\"type\":\"GlyphRenderer\"}],\"tool_events\":{\"id\":\"1cd135e8-88b5-463e-93fb-d367c775b04f\",\"type\":\"ToolEvents\"},\"x_range\":{\"id\":\"b9f299fd-5465-456d-8bb4-17c021d3c7c1\",\"type\":\"DataRange1d\"},\"y_range\":{\"id\":\"aacacc8b-05a0-4368-ba1d-8a00dfb024f5\",\"type\":\"DataRange1d\"}},\"id\":\"4f6e38c9-df0f-4891-96f4-a0df7b46be99\",\"subtype\":\"Figure\",\"type\":\"Plot\"},{\"attributes\":{\"bottom\":{\"value\":0},\"fill_color\":{\"value\":\"#1f77b4\"},\"left\":{\"field\":\"left\"},\"line_color\":{\"value\":\"#1f77b4\"},\"right\":{\"field\":\"right\"},\"top\":{\"field\":\"top\"}},\"id\":\"ef53e26f-866b-43f9-afeb-0c048df5f4cb\",\"type\":\"Quad\"},{\"attributes\":{},\"id\":\"2ab4403e-7287-4d11-8c25-2b1bcd90b640\",\"type\":\"BasicTickFormatter\"},{\"attributes\":{\"callback\":null},\"id\":\"aacacc8b-05a0-4368-ba1d-8a00dfb024f5\",\"type\":\"DataRange1d\"},{\"attributes\":{\"formatter\":{\"id\":\"fd8e991c-1f80-4e00-b44a-63cb8a7feaee\",\"type\":\"BasicTickFormatter\"},\"plot\":{\"id\":\"d1803a68-ba86-41c3-a49c-85f6c008d1e4\",\"subtype\":\"Figure\",\"type\":\"Plot\"},\"ticker\":{\"id\":\"fa4175f5-0477-42b1-8038-6c67f0cacde1\",\"type\":\"BasicTicker\"}},\"id\":\"738b4112-4760-4ecf-a843-f0b1eef214ad\",\"type\":\"LinearAxis\"},{\"attributes\":{\"below\":[{\"id\":\"66ecf7fe-d362-4ccc-90bd-f712b2c36d30\",\"type\":\"LinearAxis\"}],\"left\":[{\"id\":\"2f8a9c2b-8a37-42a9-8201-202ce88cc438\",\"type\":\"LinearAxis\"}],\"min_border\":0,\"min_border_bottom\":0,\"min_border_left\":0,\"min_border_right\":0,\"min_border_top\":0,\"outline_line_color\":{\"value\":null},\"plot_height\":130,\"renderers\":[{\"id\":\"66ecf7fe-d362-4ccc-90bd-f712b2c36d30\",\"type\":\"LinearAxis\"},{\"id\":\"84c54dd3-bc06-413d-8216-7b2beffbff69\",\"type\":\"Grid\"},{\"id\":\"2f8a9c2b-8a37-42a9-8201-202ce88cc438\",\"type\":\"LinearAxis\"},{\"id\":\"d6e85ab0-f184-499f-9eaa-5e395cdb3cf6\",\"type\":\"Grid\"},{\"id\":\"73c7212f-21d2-4070-803a-4989ce6e0886\",\"type\":\"GlyphRenderer\"}],\"tool_events\":{\"id\":\"6eb636c2-4daa-47ec-b22d-3c7b07920fb1\",\"type\":\"ToolEvents\"},\"x_range\":{\"id\":\"f9155d63-c2c1-406a-a4ef-8662c380d376\",\"type\":\"DataRange1d\"},\"y_range\":{\"id\":\"5d2a9f09-9e3a-4e3a-9b30-7b63689bf767\",\"type\":\"DataRange1d\"}},\"id\":\"b1aef909-e538-487c-88dc-97d6b379de18\",\"subtype\":\"Figure\",\"type\":\"Plot\"},{\"attributes\":{\"callback\":null,\"column_names\":[\"top\",\"left\",\"right\"],\"data\":{\"left\":[0.06,0.12,0.18,0.24,0.3,0.36,0.42,0.48,0.54,0.6,0.6599999999999999,0.72,0.78,0.84,0.8999999999999999,0.96,1.02,1.08,1.14,1.2,1.26,1.3199999999999998,1.38,1.44,1.5,1.56,1.6199999999999999,1.68,1.74,1.7999999999999998,1.8599999999999999,1.92,1.98,2.04,2.1,2.16,2.2199999999999998,2.28,2.34,2.4,2.46,2.52,2.58,2.6399999999999997,2.6999999999999997,2.76,2.82,2.88,2.94,3.0,3.06,3.12,3.1799999999999997,3.2399999999999998,3.3,3.36,3.42,3.48,3.54,3.5999999999999996,3.6599999999999997,3.7199999999999998,3.78,3.84,3.9,3.96,4.02,4.08,4.14,4.2,4.26,4.32,4.38,4.4399999999999995,4.5,4.56,4.62,4.68,4.74,4.8,4.859999999999999,4.92,4.9799999999999995,5.04,5.1,5.16,5.22,5.279999999999999,5.34,5.3999999999999995,5.46,5.52,5.58,5.64,5.7,5.76,5.819999999999999,5.88,5.9399999999999995],\"right\":[0.12,0.18,0.24,0.3,0.36,0.42,0.48,0.54,0.6,0.6599999999999999,0.72,0.78,0.84,0.8999999999999999,0.96,1.02,1.08,1.14,1.2,1.26,1.3199999999999998,1.38,1.44,1.5,1.56,1.6199999999999999,1.68,1.74,1.7999999999999998,1.8599999999999999,1.92,1.98,2.04,2.1,2.16,2.2199999999999998,2.28,2.34,2.4,2.46,2.52,2.58,2.6399999999999997,2.6999999999999997,2.76,2.82,2.88,2.94,3.0,3.06,3.12,3.1799999999999997,3.2399999999999998,3.3,3.36,3.42,3.48,3.54,3.5999999999999996,3.6599999999999997,3.7199999999999998,3.78,3.84,3.9,3.96,4.02,4.08,4.14,4.2,4.26,4.32,4.38,4.4399999999999995,4.5,4.56,4.62,4.68,4.74,4.8,4.859999999999999,4.92,4.9799999999999995,5.04,5.1,5.16,5.22,5.279999999999999,5.34,5.3999999999999995,5.46,5.52,5.58,5.64,5.7,5.76,5.819999999999999,5.88,5.9399999999999995,6.0],\"top\":[0,0,0,0,0,0,0,0,0,0,0,0,0,0,0,428,0,0,0,0,0,0,0,0,0,0,0,0,0,0,0,0,511,0,0,0,0,0,0,0,0,0,0,0,0,0,0,0,0,479,0,0,0,0,0,0,0,0,0,0,0,0,0,0,0,491,0,0,0,0,0,0,0,0,0,0,0,0,0,0,0,0,524,0,0,0,0,0,0,0,0,0,0,0,0,0,0,0,468]}},\"id\":\"9025159d-4d63-4533-8140-3a08364768fa\",\"type\":\"ColumnDataSource\"},{\"attributes\":{\"callback\":null},\"id\":\"d50f9008-41ec-4d38-80be-5ab2a31a2ebf\",\"type\":\"DataRange1d\"},{\"attributes\":{},\"id\":\"00edab1e-ae6a-4823-9085-7edb5966ce3d\",\"type\":\"BasicTicker\"},{\"attributes\":{\"below\":[{\"id\":\"10727c55-646e-4a8b-b4b5-3554fad6fb62\",\"type\":\"LinearAxis\"}],\"left\":[{\"id\":\"a9a87182-9c6c-4140-a287-726d93fc1216\",\"type\":\"LinearAxis\"}],\"min_border\":0,\"min_border_bottom\":0,\"min_border_left\":0,\"min_border_right\":0,\"min_border_top\":0,\"outline_line_color\":{\"value\":null},\"plot_height\":130,\"renderers\":[{\"id\":\"10727c55-646e-4a8b-b4b5-3554fad6fb62\",\"type\":\"LinearAxis\"},{\"id\":\"eb5ae6fb-f61e-46b8-83d7-59ab780a41c9\",\"type\":\"Grid\"},{\"id\":\"a9a87182-9c6c-4140-a287-726d93fc1216\",\"type\":\"LinearAxis\"},{\"id\":\"b53b9f56-9cc2-4f9b-bf39-4646e856032b\",\"type\":\"Grid\"},{\"id\":\"7db06845-cbd6-4cd4-8fb6-f052ff1cbd7b\",\"type\":\"GlyphRenderer\"}],\"tool_events\":{\"id\":\"586d0091-4507-4c22-9c09-c68e9d98d720\",\"type\":\"ToolEvents\"},\"x_range\":{\"id\":\"b7245709-c6eb-4cbc-8223-5d406a223735\",\"type\":\"DataRange1d\"},\"y_range\":{\"id\":\"14cbde63-5eb9-40a0-be34-f73abf77bc6a\",\"type\":\"DataRange1d\"}},\"id\":\"3932e2f0-69c8-471a-be25-b87f80237d2c\",\"subtype\":\"Figure\",\"type\":\"Plot\"},{\"attributes\":{},\"id\":\"32396023-70c8-48eb-a72a-3b0d01fc8c28\",\"type\":\"BasicTickFormatter\"},{\"attributes\":{\"bottom\":{\"value\":0},\"fill_color\":{\"value\":\"#1f77b4\"},\"left\":{\"field\":\"left\"},\"line_color\":{\"value\":\"#1f77b4\"},\"right\":{\"field\":\"right\"},\"top\":{\"field\":\"top\"}},\"id\":\"ae728eed-27eb-4561-a55f-d23ec87ea90f\",\"type\":\"Quad\"},{\"attributes\":{\"data_source\":{\"id\":\"bc3ab847-9d55-423a-8541-c42b56c11a60\",\"type\":\"ColumnDataSource\"},\"glyph\":{\"id\":\"1b1312c1-38e8-45e9-8283-dc225e7faada\",\"type\":\"Quad\"},\"hover_glyph\":null,\"nonselection_glyph\":{\"id\":\"e5ebea08-b2ce-4109-9be8-c9aa4c2bfa73\",\"type\":\"Quad\"},\"selection_glyph\":null},\"id\":\"73c7212f-21d2-4070-803a-4989ce6e0886\",\"type\":\"GlyphRenderer\"},{\"attributes\":{\"callback\":null},\"id\":\"b9f299fd-5465-456d-8bb4-17c021d3c7c1\",\"type\":\"DataRange1d\"},{\"attributes\":{},\"id\":\"fb23c041-2725-4add-8eab-0347b8df8344\",\"type\":\"ToolEvents\"},{\"attributes\":{\"dimension\":1,\"plot\":{\"id\":\"20227c16-ded3-44cf-b35c-c393da674b05\",\"subtype\":\"Figure\",\"type\":\"Plot\"},\"ticker\":{\"id\":\"00edab1e-ae6a-4823-9085-7edb5966ce3d\",\"type\":\"BasicTicker\"}},\"id\":\"b8cedc24-830c-4b9f-8e2c-eef5faa4f631\",\"type\":\"Grid\"},{\"attributes\":{},\"id\":\"64ca9e30-dca4-402e-93c1-edf10707c6c4\",\"type\":\"BasicTicker\"},{\"attributes\":{},\"id\":\"5f240056-d0dd-4426-b532-2d24e029c3be\",\"type\":\"BasicTickFormatter\"},{\"attributes\":{\"callback\":null},\"id\":\"4ae294c3-8629-4915-b3a1-4db02ac90c18\",\"type\":\"DataRange1d\"},{\"attributes\":{\"formatter\":{\"id\":\"d228e6d9-e492-40a8-8722-7addb1f1b538\",\"type\":\"BasicTickFormatter\"},\"plot\":{\"id\":\"3932e2f0-69c8-471a-be25-b87f80237d2c\",\"subtype\":\"Figure\",\"type\":\"Plot\"},\"ticker\":{\"id\":\"756a14e8-ba83-4362-abab-5313087dc879\",\"type\":\"BasicTicker\"}},\"id\":\"10727c55-646e-4a8b-b4b5-3554fad6fb62\",\"type\":\"LinearAxis\"},{\"attributes\":{\"dimension\":1,\"plot\":{\"id\":\"b1aef909-e538-487c-88dc-97d6b379de18\",\"subtype\":\"Figure\",\"type\":\"Plot\"},\"ticker\":{\"id\":\"83166155-ef69-4008-b64a-7b6ba27009a6\",\"type\":\"BasicTicker\"}},\"id\":\"d6e85ab0-f184-499f-9eaa-5e395cdb3cf6\",\"type\":\"Grid\"},{\"attributes\":{},\"id\":\"9a453669-8cd8-4e7f-9b38-f25c355b48a3\",\"type\":\"BasicTicker\"},{\"attributes\":{},\"id\":\"6eb636c2-4daa-47ec-b22d-3c7b07920fb1\",\"type\":\"ToolEvents\"},{\"attributes\":{\"formatter\":{\"id\":\"4a22f7e3-930c-49af-949d-6739ddc53cba\",\"type\":\"BasicTickFormatter\"},\"plot\":{\"id\":\"4f6e38c9-df0f-4891-96f4-a0df7b46be99\",\"subtype\":\"Figure\",\"type\":\"Plot\"},\"ticker\":{\"id\":\"9a453669-8cd8-4e7f-9b38-f25c355b48a3\",\"type\":\"BasicTicker\"}},\"id\":\"a7587921-accc-4705-9547-609b477feeeb\",\"type\":\"LinearAxis\"},{\"attributes\":{},\"id\":\"83166155-ef69-4008-b64a-7b6ba27009a6\",\"type\":\"BasicTicker\"},{\"attributes\":{\"plot\":{\"id\":\"d1803a68-ba86-41c3-a49c-85f6c008d1e4\",\"subtype\":\"Figure\",\"type\":\"Plot\"},\"ticker\":{\"id\":\"fa4175f5-0477-42b1-8038-6c67f0cacde1\",\"type\":\"BasicTicker\"}},\"id\":\"d73623a4-0671-4c0c-93ac-26570b4f41d0\",\"type\":\"Grid\"},{\"attributes\":{\"bottom\":{\"value\":0},\"fill_alpha\":{\"value\":0.1},\"fill_color\":{\"value\":\"#1f77b4\"},\"left\":{\"field\":\"left\"},\"line_alpha\":{\"value\":0.1},\"line_color\":{\"value\":\"#1f77b4\"},\"right\":{\"field\":\"right\"},\"top\":{\"field\":\"top\"}},\"id\":\"51c5fc30-dc20-4019-b999-13163110ad75\",\"type\":\"Quad\"},{\"attributes\":{\"callback\":null},\"id\":\"db3e2949-add4-46f0-ac2c-b035bc381610\",\"type\":\"DataRange1d\"},{\"attributes\":{\"bottom\":{\"value\":0},\"fill_color\":{\"value\":\"#1f77b4\"},\"left\":{\"field\":\"left\"},\"line_color\":{\"value\":\"#1f77b4\"},\"right\":{\"field\":\"right\"},\"top\":{\"field\":\"top\"}},\"id\":\"1b1312c1-38e8-45e9-8283-dc225e7faada\",\"type\":\"Quad\"},{\"attributes\":{},\"id\":\"429cf65a-12de-4ade-85ac-e003ce22c134\",\"type\":\"BasicTickFormatter\"},{\"attributes\":{\"axis_label\":\"Pixels\",\"formatter\":{\"id\":\"429cf65a-12de-4ade-85ac-e003ce22c134\",\"type\":\"BasicTickFormatter\"},\"plot\":{\"id\":\"4f6e38c9-df0f-4891-96f4-a0df7b46be99\",\"subtype\":\"Figure\",\"type\":\"Plot\"},\"ticker\":{\"id\":\"4b8c7708-cdd6-4b28-8b04-248e6cf6b949\",\"type\":\"BasicTicker\"}},\"id\":\"ea9a9eb1-9360-4520-9bb4-c8c29789015d\",\"type\":\"LinearAxis\"},{\"attributes\":{\"callback\":null,\"column_names\":[\"top\",\"left\",\"right\"],\"data\":{\"left\":[1127882.98,1128063.96,1128244.94,1128425.92,1128606.9,1128787.88,1128968.86,1129149.84,1129330.82,1129511.8,1129692.78,1129873.76,1130054.74,1130235.72,1130416.7,1130597.68,1130778.66,1130959.64,1131140.62,1131321.6,1131502.58,1131683.56,1131864.54,1132045.52,1132226.5,1132407.48,1132588.46,1132769.44,1132950.42,1133131.4,1133312.38,1133493.36,1133674.34,1133855.32,1134036.3,1134217.28,1134398.26,1134579.24,1134760.22,1134941.2,1135122.18,1135303.16,1135484.14,1135665.12,1135846.1,1136027.08,1136208.06,1136389.04,1136570.02,1136751.0,1136931.98,1137112.96,1137293.94,1137474.92,1137655.9,1137836.88,1138017.86,1138198.84,1138379.82,1138560.8,1138741.78,1138922.76,1139103.74,1139284.72,1139465.7,1139646.68,1139827.66,1140008.64,1140189.62,1140370.6,1140551.58,1140732.56,1140913.54,1141094.52,1141275.5,1141456.48,1141637.46,1141818.44,1141999.42,1142180.4,1142361.38,1142542.36,1142723.34,1142904.32,1143085.3,1143266.28,1143447.26,1143628.24,1143809.22,1143990.2,1144171.18,1144352.16,1144533.14,1144714.12,1144895.1,1145076.08,1145257.06,1145438.04,1145619.02],\"right\":[1128063.96,1128244.94,1128425.92,1128606.9,1128787.88,1128968.86,1129149.84,1129330.82,1129511.8,1129692.78,1129873.76,1130054.74,1130235.72,1130416.7,1130597.68,1130778.66,1130959.64,1131140.62,1131321.6,1131502.58,1131683.56,1131864.54,1132045.52,1132226.5,1132407.48,1132588.46,1132769.44,1132950.42,1133131.4,1133312.38,1133493.36,1133674.34,1133855.32,1134036.3,1134217.28,1134398.26,1134579.24,1134760.22,1134941.2,1135122.18,1135303.16,1135484.14,1135665.12,1135846.1,1136027.08,1136208.06,1136389.04,1136570.02,1136751.0,1136931.98,1137112.96,1137293.94,1137474.92,1137655.9,1137836.88,1138017.86,1138198.84,1138379.82,1138560.8,1138741.78,1138922.76,1139103.74,1139284.72,1139465.7,1139646.68,1139827.66,1140008.64,1140189.62,1140370.6,1140551.58,1140732.56,1140913.54,1141094.52,1141275.5,1141456.48,1141637.46,1141818.44,1141999.42,1142180.4,1142361.38,1142542.36,1142723.34,1142904.32,1143085.3,1143266.28,1143447.26,1143628.24,1143809.22,1143990.2,1144171.18,1144352.16,1144533.14,1144714.12,1144895.1,1145076.08,1145257.06,1145438.04,1145619.02,1145800.0],\"top\":[3,4,2,2,4,2,2,5,1,0,4,2,6,0,8,1,1,3,4,3,1,4,0,1,0,3,10,1,1,3,11,0,2,4,5,7,3,4,5,1,10,7,6,10,4,31,27,52,50,52,40,40,34,52,44,15,62,27,63,48,88,124,62,98,47,82,55,46,53,64,43,64,64,66,71,96,71,76,80,55,55,60,85,61,51,89,69,53,77,77,77,59,49,57,50,18,30,15,14]}},\"id\":\"bc3ab847-9d55-423a-8541-c42b56c11a60\",\"type\":\"ColumnDataSource\"},{\"attributes\":{\"plot\":{\"id\":\"449e64ec-e7c5-465c-ae59-0b6685794f4c\",\"subtype\":\"Figure\",\"type\":\"Plot\"},\"ticker\":{\"id\":\"64ca9e30-dca4-402e-93c1-edf10707c6c4\",\"type\":\"BasicTicker\"}},\"id\":\"f8c6c627-71d3-4019-a823-69bca37d7d61\",\"type\":\"Grid\"},{\"attributes\":{\"callback\":null},\"id\":\"7516dd58-29e5-46c2-a718-1043ad9f0d60\",\"type\":\"DataRange1d\"},{\"attributes\":{\"data_source\":{\"id\":\"f6d9639c-91d4-48b9-9dc9-b556774b1a20\",\"type\":\"ColumnDataSource\"},\"glyph\":{\"id\":\"dc05bb6d-c9e2-4614-9021-481c578bd207\",\"type\":\"Quad\"},\"hover_glyph\":null,\"nonselection_glyph\":{\"id\":\"f36c1611-eb85-44d5-9a88-cec05aae3abe\",\"type\":\"Quad\"},\"selection_glyph\":null},\"id\":\"a69a059f-f6fe-4432-b7b6-04a1c09f8527\",\"type\":\"GlyphRenderer\"},{\"attributes\":{},\"id\":\"853187ca-c118-4a19-bd59-4000d4c19d80\",\"type\":\"BasicTicker\"},{\"attributes\":{\"formatter\":{\"id\":\"fc76e9f8-5040-4926-9ce2-8d8f974320f9\",\"type\":\"BasicTickFormatter\"},\"plot\":{\"id\":\"79565946-a793-4faa-a3aa-de50e2265943\",\"subtype\":\"Figure\",\"type\":\"Plot\"},\"ticker\":{\"id\":\"0644fded-319e-4cde-b92b-5d2a04d782c3\",\"type\":\"BasicTicker\"}},\"id\":\"51739fc3-d3e6-4fe6-9d23-d65518ccea1d\",\"type\":\"LinearAxis\"},{\"attributes\":{\"below\":[{\"id\":\"51739fc3-d3e6-4fe6-9d23-d65518ccea1d\",\"type\":\"LinearAxis\"}],\"left\":[{\"id\":\"3836befe-71b2-4292-b773-24581b3c1ca1\",\"type\":\"LinearAxis\"}],\"min_border\":0,\"min_border_bottom\":0,\"min_border_left\":0,\"min_border_right\":0,\"min_border_top\":0,\"outline_line_color\":{\"value\":null},\"plot_height\":130,\"renderers\":[{\"id\":\"51739fc3-d3e6-4fe6-9d23-d65518ccea1d\",\"type\":\"LinearAxis\"},{\"id\":\"99ca8e40-2c41-4071-a8ba-488d59efba19\",\"type\":\"Grid\"},{\"id\":\"3836befe-71b2-4292-b773-24581b3c1ca1\",\"type\":\"LinearAxis\"},{\"id\":\"d8761b86-9daa-4541-a8ce-3bcb3901e4bc\",\"type\":\"Grid\"},{\"id\":\"072ce269-acc0-40dd-b516-cfcdd2c57208\",\"type\":\"GlyphRenderer\"}],\"tool_events\":{\"id\":\"c2f58cd7-911d-4802-b1fa-5de3abdbf998\",\"type\":\"ToolEvents\"},\"x_range\":{\"id\":\"4ae294c3-8629-4915-b3a1-4db02ac90c18\",\"type\":\"DataRange1d\"},\"y_range\":{\"id\":\"e549e5bf-aabd-4029-b293-1888f2240706\",\"type\":\"DataRange1d\"}},\"id\":\"79565946-a793-4faa-a3aa-de50e2265943\",\"subtype\":\"Figure\",\"type\":\"Plot\"},{\"attributes\":{\"plot\":{\"id\":\"b1aef909-e538-487c-88dc-97d6b379de18\",\"subtype\":\"Figure\",\"type\":\"Plot\"},\"ticker\":{\"id\":\"6a1815d6-ccae-426f-9498-efef466ff3d4\",\"type\":\"BasicTicker\"}},\"id\":\"84c54dd3-bc06-413d-8216-7b2beffbff69\",\"type\":\"Grid\"},{\"attributes\":{\"below\":[{\"id\":\"738b4112-4760-4ecf-a843-f0b1eef214ad\",\"type\":\"LinearAxis\"}],\"left\":[{\"id\":\"6f551d19-5fa6-49e4-85f3-523fc2f1f5d8\",\"type\":\"LinearAxis\"}],\"min_border\":0,\"min_border_bottom\":0,\"min_border_left\":0,\"min_border_right\":0,\"min_border_top\":0,\"outline_line_color\":{\"value\":null},\"plot_height\":130,\"renderers\":[{\"id\":\"738b4112-4760-4ecf-a843-f0b1eef214ad\",\"type\":\"LinearAxis\"},{\"id\":\"d73623a4-0671-4c0c-93ac-26570b4f41d0\",\"type\":\"Grid\"},{\"id\":\"6f551d19-5fa6-49e4-85f3-523fc2f1f5d8\",\"type\":\"LinearAxis\"},{\"id\":\"55203484-5997-4c3c-926f-b47e3fcc9fd5\",\"type\":\"Grid\"},{\"id\":\"9cacd739-94ea-498f-bf37-217710a1eb26\",\"type\":\"GlyphRenderer\"}],\"tool_events\":{\"id\":\"1b888fa3-0ce0-4b58-a795-464c0399d5d0\",\"type\":\"ToolEvents\"},\"x_range\":{\"id\":\"faa106cc-fac3-4ef8-823a-0e5ae35db7c1\",\"type\":\"DataRange1d\"},\"y_range\":{\"id\":\"d50f9008-41ec-4d38-80be-5ab2a31a2ebf\",\"type\":\"DataRange1d\"}},\"id\":\"d1803a68-ba86-41c3-a49c-85f6c008d1e4\",\"subtype\":\"Figure\",\"type\":\"Plot\"},{\"attributes\":{\"callback\":null},\"id\":\"e549e5bf-aabd-4029-b293-1888f2240706\",\"type\":\"DataRange1d\"},{\"attributes\":{},\"id\":\"41a629e5-d884-4d7d-b62b-1b3f6ec0f493\",\"type\":\"BasicTickFormatter\"},{\"attributes\":{},\"id\":\"fc76e9f8-5040-4926-9ce2-8d8f974320f9\",\"type\":\"BasicTickFormatter\"},{\"attributes\":{\"dimension\":1,\"plot\":{\"id\":\"d1803a68-ba86-41c3-a49c-85f6c008d1e4\",\"subtype\":\"Figure\",\"type\":\"Plot\"},\"ticker\":{\"id\":\"853187ca-c118-4a19-bd59-4000d4c19d80\",\"type\":\"BasicTicker\"}},\"id\":\"55203484-5997-4c3c-926f-b47e3fcc9fd5\",\"type\":\"Grid\"},{\"attributes\":{\"axis_label\":\"Pixels\",\"formatter\":{\"id\":\"afe0756d-0957-46a6-9070-360606791242\",\"type\":\"BasicTickFormatter\"},\"plot\":{\"id\":\"d1803a68-ba86-41c3-a49c-85f6c008d1e4\",\"subtype\":\"Figure\",\"type\":\"Plot\"},\"ticker\":{\"id\":\"853187ca-c118-4a19-bd59-4000d4c19d80\",\"type\":\"BasicTicker\"}},\"id\":\"6f551d19-5fa6-49e4-85f3-523fc2f1f5d8\",\"type\":\"LinearAxis\"},{\"attributes\":{\"data_source\":{\"id\":\"5b96327a-0ce7-4d20-8a18-ac7368e960f4\",\"type\":\"ColumnDataSource\"},\"glyph\":{\"id\":\"ef53e26f-866b-43f9-afeb-0c048df5f4cb\",\"type\":\"Quad\"},\"hover_glyph\":null,\"nonselection_glyph\":{\"id\":\"68e56f0b-458f-4ea0-b7d8-020343f1357c\",\"type\":\"Quad\"},\"selection_glyph\":null},\"id\":\"8bf9fd58-b4b9-4bab-a3c3-90db62cc5bea\",\"type\":\"GlyphRenderer\"},{\"attributes\":{\"axis_label\":\"Pixels\",\"formatter\":{\"id\":\"f740f454-75e1-41bb-a8b4-4896bfb4c63c\",\"type\":\"BasicTickFormatter\"},\"plot\":{\"id\":\"20227c16-ded3-44cf-b35c-c393da674b05\",\"subtype\":\"Figure\",\"type\":\"Plot\"},\"ticker\":{\"id\":\"00edab1e-ae6a-4823-9085-7edb5966ce3d\",\"type\":\"BasicTicker\"}},\"id\":\"e5545223-223c-4727-800e-76f3d2d2f07f\",\"type\":\"LinearAxis\"},{\"attributes\":{\"callback\":null},\"id\":\"5d2a9f09-9e3a-4e3a-9b30-7b63689bf767\",\"type\":\"DataRange1d\"},{\"attributes\":{\"dimension\":1,\"plot\":{\"id\":\"449e64ec-e7c5-465c-ae59-0b6685794f4c\",\"subtype\":\"Figure\",\"type\":\"Plot\"},\"ticker\":{\"id\":\"1a58c0eb-eca4-4ee8-9167-ac27b7e9e5a0\",\"type\":\"BasicTicker\"}},\"id\":\"fdfcb902-44c8-4905-8028-235346e13528\",\"type\":\"Grid\"},{\"attributes\":{},\"id\":\"586d0091-4507-4c22-9c09-c68e9d98d720\",\"type\":\"ToolEvents\"},{\"attributes\":{},\"id\":\"0644fded-319e-4cde-b92b-5d2a04d782c3\",\"type\":\"BasicTicker\"},{\"attributes\":{\"dimension\":1,\"plot\":{\"id\":\"79565946-a793-4faa-a3aa-de50e2265943\",\"subtype\":\"Figure\",\"type\":\"Plot\"},\"ticker\":{\"id\":\"6d183703-d00f-4901-a875-73b0c8edba03\",\"type\":\"BasicTicker\"}},\"id\":\"d8761b86-9daa-4541-a8ce-3bcb3901e4bc\",\"type\":\"Grid\"},{\"attributes\":{},\"id\":\"afe0756d-0957-46a6-9070-360606791242\",\"type\":\"BasicTickFormatter\"},{\"attributes\":{\"callback\":null,\"column_names\":[\"top\",\"left\",\"right\"],\"data\":{\"left\":[1894271.75,1894479.5,1894687.25,1894895.0,1895102.75,1895310.5,1895518.25,1895726.0,1895933.75,1896141.5,1896349.25,1896557.0,1896764.75,1896972.5,1897180.25,1897388.0,1897595.75,1897803.5,1898011.25,1898219.0,1898426.75,1898634.5,1898842.25,1899050.0,1899257.75,1899465.5,1899673.25,1899881.0,1900088.75,1900296.5,1900504.25,1900712.0,1900919.75,1901127.5,1901335.25,1901543.0,1901750.75,1901958.5,1902166.25,1902374.0,1902581.75,1902789.5,1902997.25,1903205.0,1903412.75,1903620.5,1903828.25,1904036.0,1904243.75,1904451.5,1904659.25,1904867.0,1905074.75,1905282.5,1905490.25,1905698.0,1905905.75,1906113.5,1906321.25,1906529.0,1906736.75,1906944.5,1907152.25,1907360.0,1907567.75,1907775.5,1907983.25,1908191.0,1908398.75,1908606.5,1908814.25,1909022.0,1909229.75,1909437.5,1909645.25,1909853.0,1910060.75,1910268.5,1910476.25,1910684.0,1910891.75,1911099.5,1911307.25,1911515.0,1911722.75,1911930.5,1912138.25,1912346.0,1912553.75,1912761.5,1912969.25,1913177.0,1913384.75,1913592.5,1913800.25,1914008.0,1914215.75,1914423.5,1914631.25],\"right\":[1894479.5,1894687.25,1894895.0,1895102.75,1895310.5,1895518.25,1895726.0,1895933.75,1896141.5,1896349.25,1896557.0,1896764.75,1896972.5,1897180.25,1897388.0,1897595.75,1897803.5,1898011.25,1898219.0,1898426.75,1898634.5,1898842.25,1899050.0,1899257.75,1899465.5,1899673.25,1899881.0,1900088.75,1900296.5,1900504.25,1900712.0,1900919.75,1901127.5,1901335.25,1901543.0,1901750.75,1901958.5,1902166.25,1902374.0,1902581.75,1902789.5,1902997.25,1903205.0,1903412.75,1903620.5,1903828.25,1904036.0,1904243.75,1904451.5,1904659.25,1904867.0,1905074.75,1905282.5,1905490.25,1905698.0,1905905.75,1906113.5,1906321.25,1906529.0,1906736.75,1906944.5,1907152.25,1907360.0,1907567.75,1907775.5,1907983.25,1908191.0,1908398.75,1908606.5,1908814.25,1909022.0,1909229.75,1909437.5,1909645.25,1909853.0,1910060.75,1910268.5,1910476.25,1910684.0,1910891.75,1911099.5,1911307.25,1911515.0,1911722.75,1911930.5,1912138.25,1912346.0,1912553.75,1912761.5,1912969.25,1913177.0,1913384.75,1913592.5,1913800.25,1914008.0,1914215.75,1914423.5,1914631.25,1914839.0],\"top\":[2,6,6,6,6,4,20,12,8,5,10,6,25,43,31,30,21,38,49,29,41,58,37,50,67,114,69,46,81,69,65,27,49,39,46,48,53,41,46,28,17,31,50,20,20,35,27,39,76,42,76,37,50,22,29,55,14,43,53,23,21,54,8,52,22,40,19,41,23,21,41,46,7,31,52,37,161,58,35,61,70,30,35,32,9,12,15,2,3,4,1,3,5,1,1,0,3,5,4]}},\"id\":\"5b96327a-0ce7-4d20-8a18-ac7368e960f4\",\"type\":\"ColumnDataSource\"},{\"attributes\":{\"bottom\":{\"value\":0},\"fill_color\":{\"value\":\"#1f77b4\"},\"left\":{\"field\":\"left\"},\"line_color\":{\"value\":\"#1f77b4\"},\"right\":{\"field\":\"right\"},\"top\":{\"field\":\"top\"}},\"id\":\"2f44e9d2-3278-449a-a429-4cd4033a1a7a\",\"type\":\"Quad\"},{\"attributes\":{\"dimension\":1,\"plot\":{\"id\":\"4f6e38c9-df0f-4891-96f4-a0df7b46be99\",\"subtype\":\"Figure\",\"type\":\"Plot\"},\"ticker\":{\"id\":\"4b8c7708-cdd6-4b28-8b04-248e6cf6b949\",\"type\":\"BasicTicker\"}},\"id\":\"4007efe6-1c88-4704-882d-d7cf8a881952\",\"type\":\"Grid\"},{\"attributes\":{},\"id\":\"1a58c0eb-eca4-4ee8-9167-ac27b7e9e5a0\",\"type\":\"BasicTicker\"},{\"attributes\":{},\"id\":\"6a1815d6-ccae-426f-9498-efef466ff3d4\",\"type\":\"BasicTicker\"},{\"attributes\":{\"axis_label\":\"Pixels\",\"formatter\":{\"id\":\"41a629e5-d884-4d7d-b62b-1b3f6ec0f493\",\"type\":\"BasicTickFormatter\"},\"plot\":{\"id\":\"3932e2f0-69c8-471a-be25-b87f80237d2c\",\"subtype\":\"Figure\",\"type\":\"Plot\"},\"ticker\":{\"id\":\"a067bf11-23f2-422d-991a-3f367d5d98c9\",\"type\":\"BasicTicker\"}},\"id\":\"a9a87182-9c6c-4140-a287-726d93fc1216\",\"type\":\"LinearAxis\"},{\"attributes\":{},\"id\":\"d228e6d9-e492-40a8-8722-7addb1f1b538\",\"type\":\"BasicTickFormatter\"},{\"attributes\":{\"formatter\":{\"id\":\"56ac196a-f166-4c97-8e21-3f544d08536c\",\"type\":\"BasicTickFormatter\"},\"plot\":{\"id\":\"449e64ec-e7c5-465c-ae59-0b6685794f4c\",\"subtype\":\"Figure\",\"type\":\"Plot\"},\"ticker\":{\"id\":\"64ca9e30-dca4-402e-93c1-edf10707c6c4\",\"type\":\"BasicTicker\"}},\"id\":\"7364c979-9a70-4166-884e-62986e1dfce7\",\"type\":\"LinearAxis\"},{\"attributes\":{},\"id\":\"56ac196a-f166-4c97-8e21-3f544d08536c\",\"type\":\"BasicTickFormatter\"},{\"attributes\":{\"axis_label\":\"Pixels\",\"formatter\":{\"id\":\"3dca0350-1721-4c9c-bda4-317a4d602688\",\"type\":\"BasicTickFormatter\"},\"plot\":{\"id\":\"79565946-a793-4faa-a3aa-de50e2265943\",\"subtype\":\"Figure\",\"type\":\"Plot\"},\"ticker\":{\"id\":\"6d183703-d00f-4901-a875-73b0c8edba03\",\"type\":\"BasicTicker\"}},\"id\":\"3836befe-71b2-4292-b773-24581b3c1ca1\",\"type\":\"LinearAxis\"},{\"attributes\":{\"bottom\":{\"value\":0},\"fill_color\":{\"value\":\"#1f77b4\"},\"left\":{\"field\":\"left\"},\"line_color\":{\"value\":\"#1f77b4\"},\"right\":{\"field\":\"right\"},\"top\":{\"field\":\"top\"}},\"id\":\"dc05bb6d-c9e2-4614-9021-481c578bd207\",\"type\":\"Quad\"},{\"attributes\":{},\"id\":\"1e09b7f9-e4a6-4bcd-a2ea-0d492f570452\",\"type\":\"ToolEvents\"},{\"attributes\":{\"dimension\":1,\"plot\":{\"id\":\"3932e2f0-69c8-471a-be25-b87f80237d2c\",\"subtype\":\"Figure\",\"type\":\"Plot\"},\"ticker\":{\"id\":\"a067bf11-23f2-422d-991a-3f367d5d98c9\",\"type\":\"BasicTicker\"}},\"id\":\"b53b9f56-9cc2-4f9b-bf39-4646e856032b\",\"type\":\"Grid\"},{\"attributes\":{\"bottom\":{\"value\":0},\"fill_alpha\":{\"value\":0.1},\"fill_color\":{\"value\":\"#1f77b4\"},\"left\":{\"field\":\"left\"},\"line_alpha\":{\"value\":0.1},\"line_color\":{\"value\":\"#1f77b4\"},\"right\":{\"field\":\"right\"},\"top\":{\"field\":\"top\"}},\"id\":\"a77cadcc-302f-474d-bdb3-723bf78e9a2b\",\"type\":\"Quad\"},{\"attributes\":{\"bottom\":{\"value\":0},\"fill_alpha\":{\"value\":0.1},\"fill_color\":{\"value\":\"#1f77b4\"},\"left\":{\"field\":\"left\"},\"line_alpha\":{\"value\":0.1},\"line_color\":{\"value\":\"#1f77b4\"},\"right\":{\"field\":\"right\"},\"top\":{\"field\":\"top\"}},\"id\":\"e5ebea08-b2ce-4109-9be8-c9aa4c2bfa73\",\"type\":\"Quad\"},{\"attributes\":{},\"id\":\"1cd135e8-88b5-463e-93fb-d367c775b04f\",\"type\":\"ToolEvents\"},{\"attributes\":{},\"id\":\"f740f454-75e1-41bb-a8b4-4896bfb4c63c\",\"type\":\"BasicTickFormatter\"},{\"attributes\":{\"callback\":null},\"id\":\"71fa5ac6-85b1-4a35-b3d9-66995b3342e5\",\"type\":\"DataRange1d\"},{\"attributes\":{\"callback\":null},\"id\":\"b7245709-c6eb-4cbc-8223-5d406a223735\",\"type\":\"DataRange1d\"},{\"attributes\":{\"callback\":null},\"id\":\"faa106cc-fac3-4ef8-823a-0e5ae35db7c1\",\"type\":\"DataRange1d\"},{\"attributes\":{\"data_source\":{\"id\":\"04445e6b-8146-4ef1-87ad-6b0426ee5eda\",\"type\":\"ColumnDataSource\"},\"glyph\":{\"id\":\"2f44e9d2-3278-449a-a429-4cd4033a1a7a\",\"type\":\"Quad\"},\"hover_glyph\":null,\"nonselection_glyph\":{\"id\":\"b87cd21f-d053-444a-ac74-ead62323347a\",\"type\":\"Quad\"},\"selection_glyph\":null},\"id\":\"072ce269-acc0-40dd-b516-cfcdd2c57208\",\"type\":\"GlyphRenderer\"},{\"attributes\":{\"callback\":null},\"id\":\"83c7d5d5-9cbd-45ef-a73a-0ce799a98601\",\"type\":\"DataRange1d\"}],\"root_ids\":[\"b1aef909-e538-487c-88dc-97d6b379de18\",\"20227c16-ded3-44cf-b35c-c393da674b05\",\"d1803a68-ba86-41c3-a49c-85f6c008d1e4\",\"4f6e38c9-df0f-4891-96f4-a0df7b46be99\",\"449e64ec-e7c5-465c-ae59-0b6685794f4c\",\"79565946-a793-4faa-a3aa-de50e2265943\",\"3932e2f0-69c8-471a-be25-b87f80237d2c\"]},\"title\":\"Bokeh Application\",\"version\":\"0.11.1\"}};\n",
       "            var render_items = [{\"docid\":\"909ca23e-0889-416e-ae26-37b480669643\",\"elementid\":\"455108db-4361-49e6-b1d6-6658fb2377bd\",\"modelid\":\"3932e2f0-69c8-471a-be25-b87f80237d2c\",\"notebook_comms_target\":\"dafb64df-c804-4cda-ba76-b4ed96a59dbb\"}];\n",
       "            \n",
       "            Bokeh.embed.embed_items(docs_json, render_items);\n",
       "        });\n",
       "      },\n",
       "      function(Bokeh) {\n",
       "      }\n",
       "    ];\n",
       "  \n",
       "    function run_inline_js() {\n",
       "      for (var i = 0; i < inline_js.length; i++) {\n",
       "        inline_js[i](window.Bokeh);\n",
       "      }\n",
       "    }\n",
       "  \n",
       "    if (window._bokeh_is_loading === 0) {\n",
       "      console.log(\"Bokeh: BokehJS loaded, going straight to plotting\");\n",
       "      run_inline_js();\n",
       "    } else {\n",
       "      load_libs(js_urls, function() {\n",
       "        console.log(\"Bokeh: BokehJS plotting callback run at\", now());\n",
       "        run_inline_js();\n",
       "      });\n",
       "    }\n",
       "  }(this));\n",
       "</script>"
      ]
     },
     "metadata": {},
     "output_type": "display_data"
    }
   ],
   "source": [
    "histogram(X_train['Y Coordinate'].astype(float))"
   ]
  },
  {
   "cell_type": "code",
   "execution_count": 51,
   "metadata": {
    "collapsed": false
   },
   "outputs": [
    {
     "data": {
      "text/plain": [
       "array([[ 1141391.94450069,  1911418.23705486],\n",
       "       [ 1138874.20674275,  1908133.6586474 ],\n",
       "       [ 1136710.14756975,  1903597.94167838],\n",
       "       ..., \n",
       "       [ 1143213.21816939,  1899586.37909343],\n",
       "       [ 1138891.83014122,  1901965.4236568 ],\n",
       "       [ 1137224.95627279,  1905332.06804096]])"
      ]
     },
     "execution_count": 51,
     "metadata": {},
     "output_type": "execute_result"
    }
   ],
   "source": [
    "# Plot the results:\n",
    "values = clf.best_estimator_.sample(n_samples=100000)\n",
    "values"
   ]
  },
  {
   "cell_type": "code",
   "execution_count": 52,
   "metadata": {
    "collapsed": false
   },
   "outputs": [
    {
     "data": {
      "image/png": "[encoded data removed]",
      "text/plain": [
       "<matplotlib.figure.Figure at 0x1a7706f90>"
      ]
     },
     "metadata": {},
     "output_type": "display_data"
    }
   ],
   "source": [
    "histogram2d(values[:,0], values[:,1])"
   ]
  },
  {
   "cell_type": "code",
   "execution_count": 53,
   "metadata": {
    "collapsed": false
   },
   "outputs": [
    {
     "ename": "AttributeError",
     "evalue": "'KernelDensity' object has no attribute 'plot'",
     "output_type": "error",
     "traceback": [
      "\u001b[0;31m---------------------------------------------------------------------------\u001b[0m",
      "\u001b[0;31mAttributeError\u001b[0m                            Traceback (most recent call last)",
      "\u001b[0;32m<ipython-input-53-ca14354e5b4f>\u001b[0m in \u001b[0;36m<module>\u001b[0;34m()\u001b[0m\n\u001b[0;32m----> 1\u001b[0;31m \u001b[0mclf\u001b[0m\u001b[0;34m.\u001b[0m\u001b[0mbest_estimator_\u001b[0m\u001b[0;34m.\u001b[0m\u001b[0mplot\u001b[0m\u001b[0;34m(\u001b[0m\u001b[0;34m)\u001b[0m\u001b[0;34m\u001b[0m\u001b[0m\n\u001b[0m",
      "\u001b[0;31mAttributeError\u001b[0m: 'KernelDensity' object has no attribute 'plot'"
     ]
    }
   ],
   "source": []
  },
  {
   "cell_type": "code",
   "execution_count": null,
   "metadata": {
    "collapsed": true
   },
   "outputs": [],
   "source": []
  }
 ],
 "metadata": {
  "kernelspec": {
   "display_name": "Python 2",
   "language": "python",
   "name": "python2"
  },
  "language_info": {
   "codemirror_mode": {
    "name": "ipython",
    "version": 2
   },
   "file_extension": ".py",
   "mimetype": "text/x-python",
   "name": "python",
   "nbconvert_exporter": "python",
   "pygments_lexer": "ipython2",
   "version": "2.7.11"
  }
 },
 "nbformat": 4,
 "nbformat_minor": 0
}
